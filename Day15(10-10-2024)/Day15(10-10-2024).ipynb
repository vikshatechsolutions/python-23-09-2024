{
 "cells": [
  {
   "cell_type": "code",
   "execution_count": 2,
   "id": "3842b64d",
   "metadata": {},
   "outputs": [
    {
     "name": "stdout",
     "output_type": "stream",
     "text": [
      "this is a test file \n",
      "this is second line of data\n",
      "this is third line of data\n"
     ]
    }
   ],
   "source": [
    "with open(\"test_file.txt\",'r') as f:\n",
    "    a=f.read()\n",
    "    print(a)"
   ]
  },
  {
   "cell_type": "code",
   "execution_count": 5,
   "id": "e5dbe8ac",
   "metadata": {},
   "outputs": [
    {
     "name": "stdout",
     "output_type": "stream",
     "text": [
      "s\n"
     ]
    }
   ],
   "source": [
    "with open(\"test_file.txt\",'r') as f:\n",
    "    a=f.read()\n",
    "    print(a[3])"
   ]
  },
  {
   "cell_type": "code",
   "execution_count": 6,
   "id": "01a498e0",
   "metadata": {},
   "outputs": [
    {
     "name": "stdout",
     "output_type": "stream",
     "text": [
      "thi\n",
      "s is a\n",
      " te\n"
     ]
    }
   ],
   "source": [
    "with open(\"test_file.txt\",'r') as f:\n",
    "    print(f.read(3))\n",
    "    print(f.read(6))\n",
    "    print(f.read(3))\n",
    "    "
   ]
  },
  {
   "cell_type": "code",
   "execution_count": 8,
   "id": "622e4d3b",
   "metadata": {},
   "outputs": [
    {
     "name": "stdout",
     "output_type": "stream",
     "text": [
      "this is a test file \n",
      "\n",
      "this is second line of data\n",
      "\n",
      "this is third line of data\n"
     ]
    }
   ],
   "source": [
    "with open(\"test_file.txt\",'r') as f:\n",
    "    print(f.readline()) # reads single line from the file\n",
    "    print(f.readline()) # reads the second line\n",
    "    print(f.readline())"
   ]
  },
  {
   "cell_type": "code",
   "execution_count": 9,
   "id": "c15703e7",
   "metadata": {},
   "outputs": [
    {
     "name": "stdout",
     "output_type": "stream",
     "text": [
      "['this is a test file \\n', 'this is second line of data\\n', 'this is third line of data']\n"
     ]
    }
   ],
   "source": [
    "with open(\"test_file.txt\",'r') as f:\n",
    "    print(f.readlines()) # it reads all the lines of data from the into a list"
   ]
  },
  {
   "cell_type": "code",
   "execution_count": 10,
   "id": "000992c6",
   "metadata": {},
   "outputs": [
    {
     "ename": "UnsupportedOperation",
     "evalue": "not writable",
     "output_type": "error",
     "traceback": [
      "\u001b[1;31m---------------------------------------------------------------------------\u001b[0m",
      "\u001b[1;31mUnsupportedOperation\u001b[0m                      Traceback (most recent call last)",
      "\u001b[1;32m<ipython-input-10-3090837246a2>\u001b[0m in \u001b[0;36m<module>\u001b[1;34m\u001b[0m\n\u001b[0;32m      1\u001b[0m \u001b[1;31m# write mode -'w'\u001b[0m\u001b[1;33m\u001b[0m\u001b[1;33m\u001b[0m\u001b[1;33m\u001b[0m\u001b[0m\n\u001b[0;32m      2\u001b[0m \u001b[1;32mwith\u001b[0m \u001b[0mopen\u001b[0m\u001b[1;33m(\u001b[0m\u001b[1;34m\"test_file.txt\"\u001b[0m\u001b[1;33m)\u001b[0m \u001b[1;32mas\u001b[0m \u001b[0mf\u001b[0m\u001b[1;33m:\u001b[0m\u001b[1;33m\u001b[0m\u001b[1;33m\u001b[0m\u001b[0m\n\u001b[1;32m----> 3\u001b[1;33m     \u001b[0mf\u001b[0m\u001b[1;33m.\u001b[0m\u001b[0mwrite\u001b[0m\u001b[1;33m(\u001b[0m\u001b[0ma\u001b[0m\u001b[1;33m)\u001b[0m\u001b[1;33m\u001b[0m\u001b[1;33m\u001b[0m\u001b[0m\n\u001b[0m",
      "\u001b[1;31mUnsupportedOperation\u001b[0m: not writable"
     ]
    }
   ],
   "source": [
    "# write mode -'w' ----> replaces all the data\n",
    "#---> if there is no file it creates a newfile and tries to write the data\n",
    "with open(\"test_file.txt\") as f:\n",
    "    f.write(a)"
   ]
  },
  {
   "cell_type": "code",
   "execution_count": 12,
   "id": "14d28877",
   "metadata": {},
   "outputs": [],
   "source": [
    "with open(\"test_file.txt\", 'w') as f:\n",
    "    f.write(\"python training\")"
   ]
  },
  {
   "cell_type": "code",
   "execution_count": 13,
   "id": "442b911e",
   "metadata": {},
   "outputs": [],
   "source": [
    "with open(\"sample1.txt\",'w') as f:\n",
    "    f.write(\"viksha tech solutions\")"
   ]
  },
  {
   "cell_type": "code",
   "execution_count": 14,
   "id": "c3b96f74",
   "metadata": {},
   "outputs": [],
   "source": [
    "with open(\"sample1.txt\",'w') as f:\n",
    "    f.write(\"file handling concept\") #"
   ]
  },
  {
   "cell_type": "code",
   "execution_count": 17,
   "id": "106af769",
   "metadata": {},
   "outputs": [],
   "source": [
    "# 'a'--append which is used to append to the exsiting\n",
    "with open(\"test_file.txt\", 'a') as f:\n",
    "    f.write(\"\\nthis is to verify the append method in file handling\")"
   ]
  },
  {
   "cell_type": "code",
   "execution_count": 20,
   "id": "060d8955",
   "metadata": {},
   "outputs": [],
   "source": [
    "with open(\"test_file.txt\",'a') as f:\n",
    "    f.writelines([\"\\nfirst_line\\n\",\"second_line\\n\",\"third_line\\n\"])"
   ]
  },
  {
   "cell_type": "code",
   "execution_count": 21,
   "id": "412fc6b6",
   "metadata": {},
   "outputs": [
    {
     "ename": "FileNotFoundError",
     "evalue": "[Errno 2] No such file or directory: 'sample_test.txt'",
     "output_type": "error",
     "traceback": [
      "\u001b[1;31m---------------------------------------------------------------------------\u001b[0m",
      "\u001b[1;31mFileNotFoundError\u001b[0m                         Traceback (most recent call last)",
      "\u001b[1;32m<ipython-input-21-11a37131c576>\u001b[0m in \u001b[0;36m<module>\u001b[1;34m\u001b[0m\n\u001b[0;32m      1\u001b[0m \u001b[1;31m# x---exclusive\u001b[0m\u001b[1;33m\u001b[0m\u001b[1;33m\u001b[0m\u001b[1;33m\u001b[0m\u001b[0m\n\u001b[1;32m----> 2\u001b[1;33m \u001b[1;32mwith\u001b[0m \u001b[0mopen\u001b[0m\u001b[1;33m(\u001b[0m\u001b[1;34m\"sample_test.txt\"\u001b[0m\u001b[1;33m)\u001b[0m \u001b[1;32mas\u001b[0m \u001b[0mf\u001b[0m\u001b[1;33m:\u001b[0m\u001b[1;33m\u001b[0m\u001b[1;33m\u001b[0m\u001b[0m\n\u001b[0m\u001b[0;32m      3\u001b[0m     \u001b[0mprint\u001b[0m\u001b[1;33m(\u001b[0m\u001b[0mf\u001b[0m\u001b[1;33m)\u001b[0m\u001b[1;33m\u001b[0m\u001b[1;33m\u001b[0m\u001b[0m\n\u001b[0;32m      4\u001b[0m \u001b[1;33m\u001b[0m\u001b[0m\n",
      "\u001b[1;31mFileNotFoundError\u001b[0m: [Errno 2] No such file or directory: 'sample_test.txt'"
     ]
    }
   ],
   "source": [
    "# x---exclusive---create a new file if file doesnot exist file and  opens it in read mode\n",
    "with open(\"sample_test.txt\") as f:\n",
    "    print(f)\n",
    "    "
   ]
  },
  {
   "cell_type": "code",
   "execution_count": null,
   "id": "033e7767",
   "metadata": {},
   "outputs": [],
   "source": [
    "with open(\"sample_test.txt\",'x') as f:\n",
    "    print(f)"
   ]
  },
  {
   "cell_type": "code",
   "execution_count": 24,
   "id": "96a90be0",
   "metadata": {},
   "outputs": [
    {
     "ename": "FileExistsError",
     "evalue": "[Errno 17] File exists: 'sample_test.txt'",
     "output_type": "error",
     "traceback": [
      "\u001b[1;31m---------------------------------------------------------------------------\u001b[0m",
      "\u001b[1;31mFileExistsError\u001b[0m                           Traceback (most recent call last)",
      "\u001b[1;32m<ipython-input-24-b2b5b81ce4ac>\u001b[0m in \u001b[0;36m<module>\u001b[1;34m\u001b[0m\n\u001b[1;32m----> 1\u001b[1;33m \u001b[1;32mwith\u001b[0m \u001b[0mopen\u001b[0m\u001b[1;33m(\u001b[0m\u001b[1;34m\"sample_test.txt\"\u001b[0m\u001b[1;33m,\u001b[0m \u001b[1;34m'x'\u001b[0m\u001b[1;33m)\u001b[0m \u001b[1;32mas\u001b[0m \u001b[0mf\u001b[0m\u001b[1;33m:\u001b[0m\u001b[1;33m\u001b[0m\u001b[1;33m\u001b[0m\u001b[0m\n\u001b[0m\u001b[0;32m      2\u001b[0m     \u001b[0mprint\u001b[0m\u001b[1;33m(\u001b[0m\u001b[0mf\u001b[0m\u001b[1;33m)\u001b[0m\u001b[1;33m\u001b[0m\u001b[1;33m\u001b[0m\u001b[0m\n",
      "\u001b[1;31mFileExistsError\u001b[0m: [Errno 17] File exists: 'sample_test.txt'"
     ]
    }
   ],
   "source": [
    "with open(\"sample_test.txt\", 'x') as f:\n",
    "    print(f)"
   ]
  },
  {
   "cell_type": "code",
   "execution_count": null,
   "id": "0139d80b",
   "metadata": {},
   "outputs": [],
   "source": [
    "# r+----> read and write\n",
    "# w+----> write and read"
   ]
  },
  {
   "cell_type": "code",
   "execution_count": 25,
   "id": "369bf104",
   "metadata": {},
   "outputs": [
    {
     "ename": "UnsupportedOperation",
     "evalue": "not readable",
     "output_type": "error",
     "traceback": [
      "\u001b[1;31m---------------------------------------------------------------------------\u001b[0m",
      "\u001b[1;31mUnsupportedOperation\u001b[0m                      Traceback (most recent call last)",
      "\u001b[1;32m<ipython-input-25-b3d27e8650d5>\u001b[0m in \u001b[0;36m<module>\u001b[1;34m\u001b[0m\n\u001b[0;32m      1\u001b[0m \u001b[1;32mwith\u001b[0m \u001b[0mopen\u001b[0m\u001b[1;33m(\u001b[0m\u001b[1;34m\"viksha.txt\"\u001b[0m\u001b[1;33m,\u001b[0m \u001b[1;34m'w'\u001b[0m\u001b[1;33m)\u001b[0m \u001b[1;32mas\u001b[0m \u001b[0mf\u001b[0m\u001b[1;33m:\u001b[0m\u001b[1;33m\u001b[0m\u001b[1;33m\u001b[0m\u001b[0m\n\u001b[0;32m      2\u001b[0m     \u001b[0mf\u001b[0m\u001b[1;33m.\u001b[0m\u001b[0mwritelines\u001b[0m\u001b[1;33m(\u001b[0m\u001b[1;33m[\u001b[0m\u001b[1;34m'line1\\n'\u001b[0m\u001b[1;33m,\u001b[0m\u001b[1;34m'line2\\n'\u001b[0m\u001b[1;33m,\u001b[0m\u001b[1;34m'line3\\n'\u001b[0m\u001b[1;33m]\u001b[0m\u001b[1;33m)\u001b[0m\u001b[1;33m\u001b[0m\u001b[1;33m\u001b[0m\u001b[0m\n\u001b[1;32m----> 3\u001b[1;33m     \u001b[0mf\u001b[0m\u001b[1;33m.\u001b[0m\u001b[0mread\u001b[0m\u001b[1;33m(\u001b[0m\u001b[1;33m)\u001b[0m\u001b[1;33m\u001b[0m\u001b[1;33m\u001b[0m\u001b[0m\n\u001b[0m",
      "\u001b[1;31mUnsupportedOperation\u001b[0m: not readable"
     ]
    }
   ],
   "source": [
    "with open(\"viksha.txt\", 'w') as f:\n",
    "    f.writelines(['line1\\n','line2\\n','line3\\n'])\n",
    "    f.read()"
   ]
  },
  {
   "cell_type": "code",
   "execution_count": 26,
   "id": "99814747",
   "metadata": {},
   "outputs": [
    {
     "name": "stdout",
     "output_type": "stream",
     "text": [
      "line4\n",
      "line5\n",
      "line6\n",
      "\n"
     ]
    }
   ],
   "source": [
    "with open(\"viksha.txt\", 'w') as f:\n",
    "    f.writelines(['line4\\n','line5\\n','line6\\n'])\n",
    "with open(\"viksha.txt\", 'r') as f:\n",
    "    print(f.read())"
   ]
  },
  {
   "cell_type": "code",
   "execution_count": 27,
   "id": "373d4e74",
   "metadata": {},
   "outputs": [],
   "source": [
    "with open(\"viksha.txt\", 'w+') as f:\n",
    "    f.writelines(['line1\\n','line2\\n','line3\\n'])\n",
    "    f.read()"
   ]
  },
  {
   "cell_type": "code",
   "execution_count": 30,
   "id": "e7ed4e81",
   "metadata": {},
   "outputs": [],
   "source": [
    "# word count,\n",
    "with open (\"example.txt\",'w') as f:\n",
    "     f.writelines([\"hi\\n\",\"hello\\n\",\"bye\\n\"])\n",
    "        "
   ]
  },
  {
   "cell_type": "code",
   "execution_count": 36,
   "id": "c524fe3d",
   "metadata": {},
   "outputs": [
    {
     "name": "stdout",
     "output_type": "stream",
     "text": [
      "3\n"
     ]
    }
   ],
   "source": [
    "f=open (\"example.txt\",'r')\n",
    "a=f.read()\n",
    "res=a.split('\\n')\n",
    "print(len(res))\n",
    "f.close()"
   ]
  },
  {
   "cell_type": "code",
   "execution_count": 41,
   "id": "51091773",
   "metadata": {},
   "outputs": [
    {
     "name": "stdout",
     "output_type": "stream",
     "text": [
      "['hi', 'hello', 'bye', 'hi', 'hello', 'bye', 'bye']\n",
      "{'hi': 2, 'hello': 2, 'bye': 3}\n"
     ]
    }
   ],
   "source": [
    "#words frequency \n",
    "# hi:1\n",
    "# hello:1\n",
    "# bye:1\n",
    "d={}\n",
    "f=open (\"example.txt\",'r')\n",
    "a=f.read()\n",
    "l=a.split('\\n')\n",
    "print(l)\n",
    "for data in l:\n",
    "    a=l.count(data)\n",
    "    d[data]=a\n",
    "print(d)"
   ]
  },
  {
   "cell_type": "code",
   "execution_count": 46,
   "id": "0de8a0b6",
   "metadata": {},
   "outputs": [
    {
     "name": "stdout",
     "output_type": "stream",
     "text": [
      "viksha\n",
      "hello\n",
      "bye\n",
      "viksha\n",
      "hello\n",
      "bye\n",
      "bye\n"
     ]
    }
   ],
   "source": [
    "# replace hi string with viksha\n",
    "f=open('example.txt')\n",
    "data=f.read()\n",
    "a=data.replace('hi','viksha')\n",
    "print(a)\n",
    "f.close()\n",
    "f=open('example.txt','w')\n",
    "f.write(a)\n",
    "f.close()"
   ]
  },
  {
   "cell_type": "code",
   "execution_count": null,
   "id": "f7891f84",
   "metadata": {},
   "outputs": [],
   "source": [
    "# write the above program using with keyword and r+ mode"
   ]
  }
 ],
 "metadata": {
  "kernelspec": {
   "display_name": "Python 3",
   "language": "python",
   "name": "python3"
  },
  "language_info": {
   "codemirror_mode": {
    "name": "ipython",
    "version": 3
   },
   "file_extension": ".py",
   "mimetype": "text/x-python",
   "name": "python",
   "nbconvert_exporter": "python",
   "pygments_lexer": "ipython3",
   "version": "3.8.8"
  }
 },
 "nbformat": 4,
 "nbformat_minor": 5
}
