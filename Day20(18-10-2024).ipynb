{
 "cells": [
  {
   "cell_type": "markdown",
   "id": "e163681a",
   "metadata": {},
   "source": [
    "#### Types of variables\n",
    "- Static variables(class level variables)\n",
    "- instance level variables(object level variables)\n",
    "- local variables(method level variables)"
   ]
  },
  {
   "cell_type": "markdown",
   "id": "0b5471d6",
   "metadata": {},
   "source": [
    "#### Instance variables\n",
    "- if the value of a variable is varied from object to object then we can call them  as instance variables\n",
    "- for every object a separate copy of instance will be create\n",
    "\n",
    "\n",
    "***Where you can declare instance level variables***\n",
    "- inside constructor by using self variable\n",
    "- inside instance method also you can create by using self\n",
    "- outside of class by object reference variable"
   ]
  },
  {
   "cell_type": "code",
   "execution_count": 25,
   "id": "6ccb0f85",
   "metadata": {},
   "outputs": [],
   "source": [
    "class Employee:\n",
    "    def __init__(self, emp_name,emp_sal):\n",
    "        self.emp_name=emp_name  # inside constructor\n",
    "        self.emp_sal=emp_sal\n",
    "        \n",
    "    def display(self):  # instance method\n",
    "        self.designation='Assistant Professor' # inside instance method\n",
    "\n",
    "a=Employee(\"Test_name\",'50000')  \n",
    "a.display()\n",
    "a.id=1\n"
   ]
  },
  {
   "cell_type": "code",
   "execution_count": 20,
   "id": "bdee2461",
   "metadata": {},
   "outputs": [
    {
     "data": {
      "text/plain": [
       "'Test_name'"
      ]
     },
     "execution_count": 20,
     "metadata": {},
     "output_type": "execute_result"
    }
   ],
   "source": [
    "a.emp_name"
   ]
  },
  {
   "cell_type": "code",
   "execution_count": 21,
   "id": "2de22c67",
   "metadata": {},
   "outputs": [
    {
     "data": {
      "text/plain": [
       "'50000'"
      ]
     },
     "execution_count": 21,
     "metadata": {},
     "output_type": "execute_result"
    }
   ],
   "source": [
    "a.emp_sal"
   ]
  },
  {
   "cell_type": "code",
   "execution_count": 22,
   "id": "5e8607c6",
   "metadata": {},
   "outputs": [
    {
     "data": {
      "text/plain": [
       "1"
      ]
     },
     "execution_count": 22,
     "metadata": {},
     "output_type": "execute_result"
    }
   ],
   "source": [
    "a.id"
   ]
  },
  {
   "cell_type": "code",
   "execution_count": 24,
   "id": "f998d5af",
   "metadata": {},
   "outputs": [
    {
     "name": "stdout",
     "output_type": "stream",
     "text": [
      "{'emp_name': 'Test_name', 'emp_sal': '50000', 'designation': 'Assistant Professor', 'id': 1}\n"
     ]
    }
   ],
   "source": [
    "print(a.__dict__)"
   ]
  },
  {
   "cell_type": "code",
   "execution_count": 26,
   "id": "dfe40e2d",
   "metadata": {},
   "outputs": [],
   "source": [
    "# to delete an instace variable the syntax is ***del object_reference_variable.variable_name***\n",
    "del a.id"
   ]
  },
  {
   "cell_type": "code",
   "execution_count": 27,
   "id": "a5f745b8",
   "metadata": {},
   "outputs": [
    {
     "name": "stdout",
     "output_type": "stream",
     "text": [
      "{'emp_name': 'Test_name', 'emp_sal': '50000', 'designation': 'Assistant Professor'}\n"
     ]
    }
   ],
   "source": [
    "print(a.__dict__)"
   ]
  },
  {
   "cell_type": "markdown",
   "id": "bdf380cc",
   "metadata": {},
   "source": [
    "#### Static variables\n",
    "- if the value of the variable is not varying from object to object such type of variables we have to declare within the class directly but outside the methods, such type of variables are called as static variables or class level variables\n",
    "- we can access the static variables either by class name or by object reference\n"
   ]
  },
  {
   "cell_type": "code",
   "execution_count": 30,
   "id": "0da71e50",
   "metadata": {},
   "outputs": [],
   "source": [
    "class Student:\n",
    "    college_name='viksha'  # static variable or class level variables\n",
    "    def __init__(self,name,roll_no, adhar):\n",
    "        self.name=name\n",
    "        self.rollno=roll_no\n",
    "a=Student(\"sai\",1)"
   ]
  },
  {
   "cell_type": "code",
   "execution_count": 31,
   "id": "c4e59376",
   "metadata": {},
   "outputs": [
    {
     "data": {
      "text/plain": [
       "'sai'"
      ]
     },
     "execution_count": 31,
     "metadata": {},
     "output_type": "execute_result"
    }
   ],
   "source": [
    "a.name"
   ]
  },
  {
   "cell_type": "code",
   "execution_count": 33,
   "id": "91529e53",
   "metadata": {},
   "outputs": [
    {
     "data": {
      "text/plain": [
       "1"
      ]
     },
     "execution_count": 33,
     "metadata": {},
     "output_type": "execute_result"
    }
   ],
   "source": [
    "a.rollno"
   ]
  },
  {
   "cell_type": "code",
   "execution_count": 34,
   "id": "9cacbce6",
   "metadata": {},
   "outputs": [
    {
     "data": {
      "text/plain": [
       "'viksha'"
      ]
     },
     "execution_count": 34,
     "metadata": {},
     "output_type": "execute_result"
    }
   ],
   "source": [
    "a.college_name  # accessing static variable by using object reference variable"
   ]
  },
  {
   "cell_type": "code",
   "execution_count": 35,
   "id": "7198447d",
   "metadata": {},
   "outputs": [
    {
     "data": {
      "text/plain": [
       "'viksha'"
      ]
     },
     "execution_count": 35,
     "metadata": {},
     "output_type": "execute_result"
    }
   ],
   "source": [
    "Student.college_name #accessing the static variable using class name"
   ]
  },
  {
   "cell_type": "code",
   "execution_count": 36,
   "id": "d1b959c6",
   "metadata": {},
   "outputs": [
    {
     "ename": "AttributeError",
     "evalue": "type object 'Student' has no attribute 'name'",
     "output_type": "error",
     "traceback": [
      "\u001b[1;31m---------------------------------------------------------------------------\u001b[0m",
      "\u001b[1;31mAttributeError\u001b[0m                            Traceback (most recent call last)",
      "\u001b[1;32m<ipython-input-36-11d6f99f8081>\u001b[0m in \u001b[0;36m<module>\u001b[1;34m\u001b[0m\n\u001b[1;32m----> 1\u001b[1;33m \u001b[0mStudent\u001b[0m\u001b[1;33m.\u001b[0m\u001b[0mname\u001b[0m\u001b[1;33m\u001b[0m\u001b[1;33m\u001b[0m\u001b[0m\n\u001b[0m",
      "\u001b[1;31mAttributeError\u001b[0m: type object 'Student' has no attribute 'name'"
     ]
    }
   ],
   "source": [
    "Student.name"
   ]
  },
  {
   "cell_type": "code",
   "execution_count": 37,
   "id": "0297ccb6",
   "metadata": {},
   "outputs": [],
   "source": [
    "Student.branch='ECE'  # static variable"
   ]
  },
  {
   "cell_type": "code",
   "execution_count": 38,
   "id": "88b4968f",
   "metadata": {},
   "outputs": [
    {
     "data": {
      "text/plain": [
       "'ECE'"
      ]
     },
     "execution_count": 38,
     "metadata": {},
     "output_type": "execute_result"
    }
   ],
   "source": [
    "Student.branch"
   ]
  },
  {
   "cell_type": "markdown",
   "id": "0da727a8",
   "metadata": {},
   "source": [
    "###### To declare static variables \n",
    "- within the class but outside the methods\n",
    "- outside of class we can declare static variables using class name\n",
    "- inside constructor by using class name\n",
    "- inside instance methods using class name\n",
    "- inside classmethod by using class name or cls variable\n",
    "- inside static method by using the class name"
   ]
  },
  {
   "cell_type": "code",
   "execution_count": 34,
   "id": "01277bbd",
   "metadata": {},
   "outputs": [],
   "source": [
    "class Test:\n",
    "    x=10\n",
    "    def __init__(self):\n",
    "        Test.b=20 # class or static varible declared inside the consrtuctor\n",
    "        print(Test.b)\n",
    "        \n",
    "    def lakshmi(self):  # instance method\n",
    "        Test.c=30\n",
    "        \n",
    "    @classmethod\n",
    "    def sai(cls): # class method\n",
    "        print(\"The value of x before modyfying\", Test.x)\n",
    "        print(cls.x)\n",
    "        Test.d=40\n",
    "        Test.x=100   # modifying a static variable/class varaible\n",
    "        print(\"The value of x after modyfying\", Test.x)\n",
    "        \n",
    "    @staticmethod    \n",
    "    def naveen():      # static method\n",
    "        Test.e=50\n",
    "          \n",
    "    @staticmethod    \n",
    "    def sandhya(): # static method\n",
    "        Test.f=60"
   ]
  },
  {
   "cell_type": "code",
   "execution_count": 29,
   "id": "226cbba4",
   "metadata": {},
   "outputs": [
    {
     "name": "stdout",
     "output_type": "stream",
     "text": [
      "20\n"
     ]
    }
   ],
   "source": [
    "a= Test()"
   ]
  },
  {
   "cell_type": "code",
   "execution_count": 30,
   "id": "c62a94e9",
   "metadata": {},
   "outputs": [],
   "source": [
    "a.lakshmi()"
   ]
  },
  {
   "cell_type": "code",
   "execution_count": 31,
   "id": "9d72efac",
   "metadata": {},
   "outputs": [
    {
     "data": {
      "text/plain": [
       "30"
      ]
     },
     "execution_count": 31,
     "metadata": {},
     "output_type": "execute_result"
    }
   ],
   "source": [
    "Test.c"
   ]
  },
  {
   "cell_type": "code",
   "execution_count": 35,
   "id": "26909e74",
   "metadata": {},
   "outputs": [
    {
     "name": "stdout",
     "output_type": "stream",
     "text": [
      "The value of x before modyfying 10\n",
      "10\n",
      "The value of x after modyfying 100\n"
     ]
    }
   ],
   "source": [
    "Test.sai()"
   ]
  },
  {
   "cell_type": "code",
   "execution_count": 36,
   "id": "ce790c58",
   "metadata": {},
   "outputs": [
    {
     "data": {
      "text/plain": [
       "40"
      ]
     },
     "execution_count": 36,
     "metadata": {},
     "output_type": "execute_result"
    }
   ],
   "source": [
    "Test.d"
   ]
  },
  {
   "cell_type": "code",
   "execution_count": 38,
   "id": "c15a2987",
   "metadata": {},
   "outputs": [],
   "source": [
    "Test.naveen()"
   ]
  },
  {
   "cell_type": "code",
   "execution_count": 39,
   "id": "f56240b3",
   "metadata": {},
   "outputs": [
    {
     "data": {
      "text/plain": [
       "50"
      ]
     },
     "execution_count": 39,
     "metadata": {},
     "output_type": "execute_result"
    }
   ],
   "source": [
    "Test.e"
   ]
  },
  {
   "cell_type": "code",
   "execution_count": 40,
   "id": "2f9f7697",
   "metadata": {},
   "outputs": [],
   "source": [
    "Test.sandhya()"
   ]
  },
  {
   "cell_type": "code",
   "execution_count": 41,
   "id": "284f3af0",
   "metadata": {},
   "outputs": [
    {
     "data": {
      "text/plain": [
       "60"
      ]
     },
     "execution_count": 41,
     "metadata": {},
     "output_type": "execute_result"
    }
   ],
   "source": [
    "Test.f"
   ]
  },
  {
   "cell_type": "markdown",
   "id": "f0659b00",
   "metadata": {},
   "source": [
    "##### Local variables\n",
    "- Local variables will be created at the time of method execution and destroyed once method completes\n",
    "- Local variables cannot be accessed outside the class\n"
   ]
  },
  {
   "cell_type": "code",
   "execution_count": 83,
   "id": "a4d9757b",
   "metadata": {},
   "outputs": [],
   "source": [
    "class Test:\n",
    "    a=10\n",
    "    def method1(self,d:int):   # instance\n",
    "        q=10+20+d\n",
    "        print(q)\n",
    "        \n",
    "    def method2(self):  # instance method\n",
    "        b=1000  # local variable\n",
    "        print(q)"
   ]
  },
  {
   "cell_type": "code",
   "execution_count": 84,
   "id": "1a75b9fe",
   "metadata": {},
   "outputs": [],
   "source": [
    "s=Test()"
   ]
  },
  {
   "cell_type": "code",
   "execution_count": 85,
   "id": "cbbcfc7d",
   "metadata": {},
   "outputs": [
    {
     "name": "stdout",
     "output_type": "stream",
     "text": [
      "53\n"
     ]
    }
   ],
   "source": [
    "s.method1(23)"
   ]
  },
  {
   "cell_type": "code",
   "execution_count": 86,
   "id": "36a922dd",
   "metadata": {},
   "outputs": [
    {
     "ename": "TypeError",
     "evalue": "unsupported operand type(s) for +: 'int' and 'str'",
     "output_type": "error",
     "traceback": [
      "\u001b[1;31m---------------------------------------------------------------------------\u001b[0m",
      "\u001b[1;31mTypeError\u001b[0m                                 Traceback (most recent call last)",
      "\u001b[1;32m<ipython-input-86-4b15715e57e1>\u001b[0m in \u001b[0;36m<module>\u001b[1;34m\u001b[0m\n\u001b[1;32m----> 1\u001b[1;33m \u001b[0ms\u001b[0m\u001b[1;33m.\u001b[0m\u001b[0mmethod1\u001b[0m\u001b[1;33m(\u001b[0m\u001b[1;34m'str'\u001b[0m\u001b[1;33m)\u001b[0m\u001b[1;33m\u001b[0m\u001b[1;33m\u001b[0m\u001b[0m\n\u001b[0m",
      "\u001b[1;32m<ipython-input-83-19f73dd98431>\u001b[0m in \u001b[0;36mmethod1\u001b[1;34m(self, d)\u001b[0m\n\u001b[0;32m      1\u001b[0m \u001b[1;32mclass\u001b[0m \u001b[0mTest\u001b[0m\u001b[1;33m:\u001b[0m\u001b[1;33m\u001b[0m\u001b[1;33m\u001b[0m\u001b[0m\n\u001b[0;32m      2\u001b[0m     \u001b[1;32mdef\u001b[0m \u001b[0mmethod1\u001b[0m\u001b[1;33m(\u001b[0m\u001b[0mself\u001b[0m\u001b[1;33m,\u001b[0m\u001b[0md\u001b[0m\u001b[1;33m:\u001b[0m\u001b[0mint\u001b[0m\u001b[1;33m)\u001b[0m\u001b[1;33m:\u001b[0m   \u001b[1;31m# instance\u001b[0m\u001b[1;33m\u001b[0m\u001b[1;33m\u001b[0m\u001b[0m\n\u001b[1;32m----> 3\u001b[1;33m         \u001b[0mq\u001b[0m\u001b[1;33m=\u001b[0m\u001b[1;36m10\u001b[0m\u001b[1;33m+\u001b[0m\u001b[1;36m20\u001b[0m\u001b[1;33m+\u001b[0m\u001b[0md\u001b[0m\u001b[1;33m\u001b[0m\u001b[1;33m\u001b[0m\u001b[0m\n\u001b[0m\u001b[0;32m      4\u001b[0m         \u001b[0mprint\u001b[0m\u001b[1;33m(\u001b[0m\u001b[0mq\u001b[0m\u001b[1;33m)\u001b[0m\u001b[1;33m\u001b[0m\u001b[1;33m\u001b[0m\u001b[0m\n\u001b[0;32m      5\u001b[0m \u001b[1;33m\u001b[0m\u001b[0m\n",
      "\u001b[1;31mTypeError\u001b[0m: unsupported operand type(s) for +: 'int' and 'str'"
     ]
    }
   ],
   "source": [
    "s.method1('str')"
   ]
  },
  {
   "cell_type": "code",
   "execution_count": 87,
   "id": "c966b710",
   "metadata": {},
   "outputs": [
    {
     "ename": "NameError",
     "evalue": "name 'q' is not defined",
     "output_type": "error",
     "traceback": [
      "\u001b[1;31m---------------------------------------------------------------------------\u001b[0m",
      "\u001b[1;31mNameError\u001b[0m                                 Traceback (most recent call last)",
      "\u001b[1;32m<ipython-input-87-23d7edebc46e>\u001b[0m in \u001b[0;36m<module>\u001b[1;34m\u001b[0m\n\u001b[1;32m----> 1\u001b[1;33m \u001b[0ms\u001b[0m\u001b[1;33m.\u001b[0m\u001b[0mmethod2\u001b[0m\u001b[1;33m(\u001b[0m\u001b[1;33m)\u001b[0m\u001b[1;33m\u001b[0m\u001b[1;33m\u001b[0m\u001b[0m\n\u001b[0m",
      "\u001b[1;32m<ipython-input-83-19f73dd98431>\u001b[0m in \u001b[0;36mmethod2\u001b[1;34m(self)\u001b[0m\n\u001b[0;32m      6\u001b[0m     \u001b[1;32mdef\u001b[0m \u001b[0mmethod2\u001b[0m\u001b[1;33m(\u001b[0m\u001b[0mself\u001b[0m\u001b[1;33m)\u001b[0m\u001b[1;33m:\u001b[0m  \u001b[1;31m# instance method\u001b[0m\u001b[1;33m\u001b[0m\u001b[1;33m\u001b[0m\u001b[0m\n\u001b[0;32m      7\u001b[0m         \u001b[0mb\u001b[0m\u001b[1;33m=\u001b[0m\u001b[1;36m1000\u001b[0m  \u001b[1;31m# local variable\u001b[0m\u001b[1;33m\u001b[0m\u001b[1;33m\u001b[0m\u001b[0m\n\u001b[1;32m----> 8\u001b[1;33m         \u001b[0mprint\u001b[0m\u001b[1;33m(\u001b[0m\u001b[0mq\u001b[0m\u001b[1;33m)\u001b[0m\u001b[1;33m\u001b[0m\u001b[1;33m\u001b[0m\u001b[0m\n\u001b[0m",
      "\u001b[1;31mNameError\u001b[0m: name 'q' is not defined"
     ]
    }
   ],
   "source": [
    "s.method2()"
   ]
  },
  {
   "cell_type": "code",
   "execution_count": 88,
   "id": "5cd4219b",
   "metadata": {},
   "outputs": [
    {
     "name": "stdout",
     "output_type": "stream",
     "text": [
      "130\n"
     ]
    }
   ],
   "source": [
    "s.method1(100)"
   ]
  },
  {
   "cell_type": "code",
   "execution_count": 92,
   "id": "38d52290",
   "metadata": {},
   "outputs": [
    {
     "name": "stdout",
     "output_type": "stream",
     "text": [
      "50\n"
     ]
    },
    {
     "ename": "NameError",
     "evalue": "name 'c' is not defined",
     "output_type": "error",
     "traceback": [
      "\u001b[1;31m---------------------------------------------------------------------------\u001b[0m",
      "\u001b[1;31mNameError\u001b[0m                                 Traceback (most recent call last)",
      "\u001b[1;32m<ipython-input-92-ff902dfd5a40>\u001b[0m in \u001b[0;36m<module>\u001b[1;34m\u001b[0m\n\u001b[0;32m      6\u001b[0m     \u001b[1;32mreturn\u001b[0m \u001b[0mc\u001b[0m\u001b[1;33m-\u001b[0m\u001b[0ma\u001b[0m\u001b[1;33m\u001b[0m\u001b[1;33m\u001b[0m\u001b[0m\n\u001b[0;32m      7\u001b[0m \u001b[0mprint\u001b[0m\u001b[1;33m(\u001b[0m\u001b[0madd\u001b[0m\u001b[1;33m(\u001b[0m\u001b[1;36m20\u001b[0m\u001b[1;33m)\u001b[0m\u001b[1;33m)\u001b[0m\u001b[1;33m\u001b[0m\u001b[1;33m\u001b[0m\u001b[0m\n\u001b[1;32m----> 8\u001b[1;33m \u001b[0mprint\u001b[0m\u001b[1;33m(\u001b[0m\u001b[0msub\u001b[0m\u001b[1;33m(\u001b[0m\u001b[1;33m)\u001b[0m\u001b[1;33m)\u001b[0m\u001b[1;33m\u001b[0m\u001b[1;33m\u001b[0m\u001b[0m\n\u001b[0m",
      "\u001b[1;32m<ipython-input-92-ff902dfd5a40>\u001b[0m in \u001b[0;36msub\u001b[1;34m()\u001b[0m\n\u001b[0;32m      4\u001b[0m     \u001b[1;32mreturn\u001b[0m \u001b[0ma\u001b[0m\u001b[1;33m+\u001b[0m\u001b[0mb\u001b[0m\u001b[1;33m+\u001b[0m\u001b[0mc\u001b[0m\u001b[1;33m\u001b[0m\u001b[1;33m\u001b[0m\u001b[0m\n\u001b[0;32m      5\u001b[0m \u001b[1;32mdef\u001b[0m \u001b[0msub\u001b[0m\u001b[1;33m(\u001b[0m\u001b[1;33m)\u001b[0m\u001b[1;33m:\u001b[0m\u001b[1;33m\u001b[0m\u001b[1;33m\u001b[0m\u001b[0m\n\u001b[1;32m----> 6\u001b[1;33m     \u001b[1;32mreturn\u001b[0m \u001b[0mc\u001b[0m\u001b[1;33m-\u001b[0m\u001b[0ma\u001b[0m\u001b[1;33m\u001b[0m\u001b[1;33m\u001b[0m\u001b[0m\n\u001b[0m\u001b[0;32m      7\u001b[0m \u001b[0mprint\u001b[0m\u001b[1;33m(\u001b[0m\u001b[0madd\u001b[0m\u001b[1;33m(\u001b[0m\u001b[1;36m20\u001b[0m\u001b[1;33m)\u001b[0m\u001b[1;33m)\u001b[0m\u001b[1;33m\u001b[0m\u001b[1;33m\u001b[0m\u001b[0m\n\u001b[0;32m      8\u001b[0m \u001b[0mprint\u001b[0m\u001b[1;33m(\u001b[0m\u001b[0msub\u001b[0m\u001b[1;33m(\u001b[0m\u001b[1;33m)\u001b[0m\u001b[1;33m)\u001b[0m\u001b[1;33m\u001b[0m\u001b[1;33m\u001b[0m\u001b[0m\n",
      "\u001b[1;31mNameError\u001b[0m: name 'c' is not defined"
     ]
    }
   ],
   "source": [
    "a=10  # global variable\n",
    "def add(b):\n",
    "    c=20  # local variable\n",
    "    return a+b+c\n",
    "def sub():\n",
    "    return c-a\n",
    "print(add(20))\n",
    "print(sub())"
   ]
  },
  {
   "cell_type": "code",
   "execution_count": 96,
   "id": "b036231c",
   "metadata": {},
   "outputs": [
    {
     "name": "stdout",
     "output_type": "stream",
     "text": [
      "30\n",
      "10\n"
     ]
    }
   ],
   "source": [
    "a=10  # global variable\n",
    "def add(b):\n",
    "    global c\n",
    "    c=20  \n",
    "    return a+b\n",
    "def sub():\n",
    "    return c-a\n",
    "print(add(20))\n",
    "print(sub())"
   ]
  },
  {
   "cell_type": "markdown",
   "id": "8d65d3c2",
   "metadata": {},
   "source": [
    "Types of methods:\n",
    "- instance method\n",
    "- class method\n",
    "- static method"
   ]
  },
  {
   "cell_type": "code",
   "execution_count": 101,
   "id": "db2b133c",
   "metadata": {},
   "outputs": [],
   "source": [
    "class calc:\n",
    "    x=100   # static variable\n",
    "    def __init__(self, a,b): # constructor\n",
    "        self.a=a   # instance variable\n",
    "        self.b=b   # instanc variable\n",
    "        \n",
    "    def add(self):# instance method\n",
    "        return self.a+self.b+calc.x\n",
    "    \n",
    "    @classmethod\n",
    "    def sub(cls):   # class method\n",
    "        print(calc.x)\n",
    "        return cls.x-90   # class variable\n",
    "    \n",
    "    \n",
    "    @staticmethod\n",
    "    def pow(c):  # static method\n",
    "        d=2  # local variable\n",
    "        return c*d    "
   ]
  },
  {
   "cell_type": "code",
   "execution_count": 102,
   "id": "9d86c338",
   "metadata": {},
   "outputs": [],
   "source": [
    "#create a object\n",
    "n=calc(10,20)"
   ]
  },
  {
   "cell_type": "code",
   "execution_count": 103,
   "id": "545da1ae",
   "metadata": {},
   "outputs": [
    {
     "data": {
      "text/plain": [
       "130"
      ]
     },
     "execution_count": 103,
     "metadata": {},
     "output_type": "execute_result"
    }
   ],
   "source": [
    "# to call a instance method\n",
    "n.add()"
   ]
  },
  {
   "cell_type": "code",
   "execution_count": 104,
   "id": "a1a1ebdf",
   "metadata": {},
   "outputs": [
    {
     "name": "stdout",
     "output_type": "stream",
     "text": [
      "100\n"
     ]
    },
    {
     "data": {
      "text/plain": [
       "10"
      ]
     },
     "execution_count": 104,
     "metadata": {},
     "output_type": "execute_result"
    }
   ],
   "source": [
    "# to call an class method\n",
    "calc.sub()"
   ]
  },
  {
   "cell_type": "code",
   "execution_count": 105,
   "id": "6282a00c",
   "metadata": {},
   "outputs": [
    {
     "ename": "TypeError",
     "evalue": "pow() missing 1 required positional argument: 'c'",
     "output_type": "error",
     "traceback": [
      "\u001b[1;31m---------------------------------------------------------------------------\u001b[0m",
      "\u001b[1;31mTypeError\u001b[0m                                 Traceback (most recent call last)",
      "\u001b[1;32m<ipython-input-105-cf69d06c428a>\u001b[0m in \u001b[0;36m<module>\u001b[1;34m\u001b[0m\n\u001b[0;32m      1\u001b[0m \u001b[1;31m# to call an static method\u001b[0m\u001b[1;33m\u001b[0m\u001b[1;33m\u001b[0m\u001b[1;33m\u001b[0m\u001b[0m\n\u001b[1;32m----> 2\u001b[1;33m \u001b[0mcalc\u001b[0m\u001b[1;33m.\u001b[0m\u001b[0mpow\u001b[0m\u001b[1;33m(\u001b[0m\u001b[1;33m)\u001b[0m\u001b[1;33m\u001b[0m\u001b[1;33m\u001b[0m\u001b[0m\n\u001b[0m",
      "\u001b[1;31mTypeError\u001b[0m: pow() missing 1 required positional argument: 'c'"
     ]
    }
   ],
   "source": [
    "# to call an static method\n",
    "calc.pow()"
   ]
  },
  {
   "cell_type": "code",
   "execution_count": 106,
   "id": "44878522",
   "metadata": {},
   "outputs": [
    {
     "data": {
      "text/plain": [
       "4"
      ]
     },
     "execution_count": 106,
     "metadata": {},
     "output_type": "execute_result"
    }
   ],
   "source": [
    "calc.pow(2)"
   ]
  },
  {
   "cell_type": "markdown",
   "id": "de4257d5",
   "metadata": {},
   "source": [
    "#### Inheritance\n",
    "- single\n",
    "- multiple\n",
    "- multilevel"
   ]
  },
  {
   "cell_type": "code",
   "execution_count": 133,
   "id": "8dad7ca6",
   "metadata": {},
   "outputs": [],
   "source": [
    "# single inheritance\n",
    "class A:    # parent class or super class\n",
    "    def __init__(self,a,b):\n",
    "        self.a=a\n",
    "        self.b=b\n",
    "    @staticmethod\n",
    "    def one():\n",
    "        print(\"one got executed\")\n",
    "    @staticmethod\n",
    "    def two():\n",
    "        print(\"two got executed\")\n",
    "class B(A):       # child class or sub class    # single inheritance\n",
    "    @staticmethod\n",
    "    def three():\n",
    "        print(\"three got executed\")\n",
    "    @staticmethod\n",
    "    def four():\n",
    "        print(\"four got executed\")\n",
    "\n",
    "\n",
    "objA=A(10,20)"
   ]
  },
  {
   "cell_type": "code",
   "execution_count": 134,
   "id": "4a0d07ba",
   "metadata": {},
   "outputs": [
    {
     "name": "stdout",
     "output_type": "stream",
     "text": [
      "one got executed\n",
      "two got executed\n"
     ]
    }
   ],
   "source": [
    "objA.one()\n",
    "objA.two()"
   ]
  },
  {
   "cell_type": "code",
   "execution_count": 135,
   "id": "716160f0",
   "metadata": {},
   "outputs": [],
   "source": [
    "objB=B(10,20)"
   ]
  },
  {
   "cell_type": "code",
   "execution_count": 136,
   "id": "1d34be03",
   "metadata": {},
   "outputs": [
    {
     "name": "stdout",
     "output_type": "stream",
     "text": [
      "one got executed\n"
     ]
    }
   ],
   "source": [
    "objB.one()"
   ]
  },
  {
   "cell_type": "code",
   "execution_count": 137,
   "id": "4a1e0d6d",
   "metadata": {},
   "outputs": [
    {
     "name": "stdout",
     "output_type": "stream",
     "text": [
      "two got executed\n"
     ]
    }
   ],
   "source": [
    "objB.two()"
   ]
  },
  {
   "cell_type": "code",
   "execution_count": 138,
   "id": "ea321c28",
   "metadata": {},
   "outputs": [
    {
     "name": "stdout",
     "output_type": "stream",
     "text": [
      "three got executed\n"
     ]
    }
   ],
   "source": [
    "objB.three()"
   ]
  },
  {
   "cell_type": "code",
   "execution_count": 139,
   "id": "efc781ed",
   "metadata": {},
   "outputs": [
    {
     "name": "stdout",
     "output_type": "stream",
     "text": [
      "four got executed\n"
     ]
    }
   ],
   "source": [
    "objB.four()"
   ]
  },
  {
   "cell_type": "code",
   "execution_count": 140,
   "id": "9f63453d",
   "metadata": {},
   "outputs": [],
   "source": [
    "# Multiple inheritance\n",
    "class A:    # parent class or super class\n",
    "    def __init__(self,a,b):\n",
    "        self.a=a\n",
    "        self.b=b\n",
    "    @staticmethod\n",
    "    def one():\n",
    "        print(\"one got executed\")\n",
    "    @staticmethod\n",
    "    def two():\n",
    "        print(\"two got executed\")\n",
    "class B:       # child class or sub class    # single inheritance\n",
    "    @staticmethod\n",
    "    def three():\n",
    "        print(\"three got executed\")\n",
    "    @staticmethod\n",
    "    def four():\n",
    "        print(\"four got executed\")\n",
    "class C(A,B):    # method resolution order(left to right)\n",
    "    @staticmethod\n",
    "    def five():\n",
    "        print(\"five got executed\")\n",
    "    \n",
    "objC=C(10,20)\n",
    "    \n",
    "    "
   ]
  },
  {
   "cell_type": "code",
   "execution_count": 141,
   "id": "d0729425",
   "metadata": {},
   "outputs": [
    {
     "name": "stdout",
     "output_type": "stream",
     "text": [
      "one got executed\n"
     ]
    }
   ],
   "source": [
    "objC.one()"
   ]
  },
  {
   "cell_type": "code",
   "execution_count": 142,
   "id": "78a195dd",
   "metadata": {},
   "outputs": [
    {
     "name": "stdout",
     "output_type": "stream",
     "text": [
      "two got executed\n"
     ]
    }
   ],
   "source": [
    "objC.two()"
   ]
  },
  {
   "cell_type": "code",
   "execution_count": 143,
   "id": "c29f2e01",
   "metadata": {},
   "outputs": [
    {
     "name": "stdout",
     "output_type": "stream",
     "text": [
      "three got executed\n"
     ]
    }
   ],
   "source": [
    "objC.three()"
   ]
  },
  {
   "cell_type": "code",
   "execution_count": 144,
   "id": "326f9ead",
   "metadata": {},
   "outputs": [
    {
     "name": "stdout",
     "output_type": "stream",
     "text": [
      "four got executed\n"
     ]
    }
   ],
   "source": [
    "objC.four()"
   ]
  },
  {
   "cell_type": "code",
   "execution_count": 145,
   "id": "8559ffda",
   "metadata": {},
   "outputs": [
    {
     "name": "stdout",
     "output_type": "stream",
     "text": [
      "five got executed\n"
     ]
    }
   ],
   "source": [
    "objC.five()"
   ]
  },
  {
   "cell_type": "code",
   "execution_count": 146,
   "id": "c2a392d0",
   "metadata": {},
   "outputs": [],
   "source": [
    "# Multilevel inheritance \n",
    "class A:    # one, two features\n",
    "    def __init__(self,a,b):\n",
    "        self.a=a\n",
    "        self.b=b\n",
    "    @staticmethod\n",
    "    def one():\n",
    "        print(\"one got executed\")\n",
    "    @staticmethod\n",
    "    def two():\n",
    "        print(\"two got executed\")\n",
    "class B(A):     # one, two, three, four are features  \n",
    "    @staticmethod\n",
    "    def three():\n",
    "        print(\"three got executed\")\n",
    "    @staticmethod\n",
    "    def four():\n",
    "        print(\"four got executed\")\n",
    "class C(B):  #five,one, two, three, four  \n",
    "    @staticmethod\n",
    "    def five():\n",
    "        print(\"five got executed\")"
   ]
  },
  {
   "cell_type": "code",
   "execution_count": 147,
   "id": "443ce06f",
   "metadata": {},
   "outputs": [],
   "source": [
    "objc=C(20,30)"
   ]
  },
  {
   "cell_type": "code",
   "execution_count": 148,
   "id": "c23a63ca",
   "metadata": {},
   "outputs": [
    {
     "name": "stdout",
     "output_type": "stream",
     "text": [
      "one got executed\n"
     ]
    }
   ],
   "source": [
    "objc.one()"
   ]
  },
  {
   "cell_type": "code",
   "execution_count": 149,
   "id": "b4c58bb2",
   "metadata": {},
   "outputs": [
    {
     "name": "stdout",
     "output_type": "stream",
     "text": [
      "two got executed\n"
     ]
    }
   ],
   "source": [
    "objc.two()"
   ]
  },
  {
   "cell_type": "code",
   "execution_count": 150,
   "id": "7c58ef9b",
   "metadata": {},
   "outputs": [
    {
     "name": "stdout",
     "output_type": "stream",
     "text": [
      "three got executed\n"
     ]
    }
   ],
   "source": [
    "objc.three()"
   ]
  },
  {
   "cell_type": "code",
   "execution_count": 151,
   "id": "c826b78c",
   "metadata": {},
   "outputs": [
    {
     "name": "stdout",
     "output_type": "stream",
     "text": [
      "four got executed\n"
     ]
    }
   ],
   "source": [
    "objc.four()"
   ]
  },
  {
   "cell_type": "code",
   "execution_count": 152,
   "id": "f85ddb84",
   "metadata": {},
   "outputs": [
    {
     "name": "stdout",
     "output_type": "stream",
     "text": [
      "five got executed\n"
     ]
    }
   ],
   "source": [
    "objc.five()"
   ]
  },
  {
   "cell_type": "code",
   "execution_count": null,
   "id": "2d0d8b9d",
   "metadata": {},
   "outputs": [],
   "source": []
  }
 ],
 "metadata": {
  "kernelspec": {
   "display_name": "Python 3",
   "language": "python",
   "name": "python3"
  },
  "language_info": {
   "codemirror_mode": {
    "name": "ipython",
    "version": 3
   },
   "file_extension": ".py",
   "mimetype": "text/x-python",
   "name": "python",
   "nbconvert_exporter": "python",
   "pygments_lexer": "ipython3",
   "version": "3.8.8"
  }
 },
 "nbformat": 4,
 "nbformat_minor": 5
}
