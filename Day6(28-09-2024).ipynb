{
 "cells": [
  {
   "cell_type": "code",
   "execution_count": 1,
   "id": "652eed7b",
   "metadata": {},
   "outputs": [
    {
     "name": "stdout",
     "output_type": "stream",
     "text": [
      "1 3 5 7 9 11 13 15 17 19 21 23 25 27 29 "
     ]
    }
   ],
   "source": [
    "# write a program in python to print the odd number from the 1 to 30\n",
    "for i in range(1,30,2):\n",
    "    print(i, end=' ')    "
   ]
  },
  {
   "cell_type": "markdown",
   "id": "9b291304",
   "metadata": {},
   "source": [
    "##### While loop"
   ]
  },
  {
   "cell_type": "raw",
   "id": "9c438f19",
   "metadata": {},
   "source": [
    "while condition:\n",
    "    statement1\n",
    "    statement2\n",
    "    statement3\n",
    "    ...\n",
    "    statementn"
   ]
  },
  {
   "cell_type": "code",
   "execution_count": 4,
   "id": "8fc04ca8",
   "metadata": {},
   "outputs": [
    {
     "name": "stdout",
     "output_type": "stream",
     "text": [
      "1\n",
      "the value of i is 1\n",
      "the value of i is 2\n",
      "the value of i is 3\n",
      "the value of i is 4\n",
      "the value of i is 5\n",
      "the value of i is 6\n",
      "the value of i is 7\n",
      "the value of i is 8\n",
      "the value of i is 9\n",
      "the value of i is 10\n"
     ]
    }
   ],
   "source": [
    "#to a string python 10 times\n",
    "i= int(input())\n",
    "while i<=10:\n",
    "    print(\"the value of i is\", i)\n",
    "    i+=1 # i=i+1"
   ]
  },
  {
   "cell_type": "code",
   "execution_count": 5,
   "id": "75ee3f66",
   "metadata": {},
   "outputs": [
    {
     "data": {
      "text/plain": [
       "False"
      ]
     },
     "execution_count": 5,
     "metadata": {},
     "output_type": "execute_result"
    }
   ],
   "source": [
    "11<=10"
   ]
  },
  {
   "cell_type": "markdown",
   "id": "89dde3be",
   "metadata": {},
   "source": [
    "##### Transfer statements\n",
    "- break\n",
    "- continue\n",
    "- pass"
   ]
  },
  {
   "cell_type": "code",
   "execution_count": 8,
   "id": "780c77c9",
   "metadata": {},
   "outputs": [
    {
     "name": "stdout",
     "output_type": "stream",
     "text": [
      "1 2 4 5 7 8 10 11 13 14 16 17 19 20 22 23 25 26 28 29 31 32 34 35 37 38 40 41 43 44 46 47 49 50 "
     ]
    }
   ],
   "source": [
    "# print the numbers between 1  to 50 exclude the numbers which are multiples of 3\n",
    "for i in range(1,51):\n",
    "    if i%3==0:\n",
    "        continue\n",
    "    else:\n",
    "        print(i, end=\" \")"
   ]
  },
  {
   "cell_type": "code",
   "execution_count": 9,
   "id": "11bfb515",
   "metadata": {},
   "outputs": [
    {
     "name": "stdout",
     "output_type": "stream",
     "text": [
      "1 2 4 5 7 8 10 11 13 14 16 17 19 20 22 23 25 26 28 29 31 32 34 35 37 38 40 41 43 44 46 47 49 50 "
     ]
    }
   ],
   "source": [
    "for i in range(1,51):\n",
    "    if i%3==0:\n",
    "        continue\n",
    "    print(i, end=\" \")"
   ]
  },
  {
   "cell_type": "code",
   "execution_count": 10,
   "id": "20b93dd1",
   "metadata": {},
   "outputs": [
    {
     "name": "stdout",
     "output_type": "stream",
     "text": [
      "1 2 "
     ]
    }
   ],
   "source": [
    "# if it is multiple of 3 my program should terminate\n",
    "for i in range(1,51):\n",
    "    if i%3==0:\n",
    "        break\n",
    "    else:\n",
    "        print(i, end=\" \")"
   ]
  },
  {
   "cell_type": "code",
   "execution_count": 11,
   "id": "c07bf624",
   "metadata": {},
   "outputs": [],
   "source": [
    "if True:\n",
    "    pass"
   ]
  },
  {
   "cell_type": "code",
   "execution_count": 15,
   "id": "2e17ecc1",
   "metadata": {},
   "outputs": [
    {
     "name": "stdout",
     "output_type": "stream",
     "text": [
      "python\n",
      "p,y,t,h,o,n,"
     ]
    }
   ],
   "source": [
    "# write a program in python to exclude char 'a' and 'i' from the given string \n",
    "# and print the remaining char of the string \n",
    "#i/p--> python\n",
    "#o/p--->p,y,t,h,o,n,\n",
    "#i/p--viksha--->o/p-->v,k,s,h,\n",
    "s=input()\n",
    "for i in s:\n",
    "    if i=='a'or i=='i':\n",
    "        continue\n",
    "    print(i, end=',')"
   ]
  },
  {
   "cell_type": "code",
   "execution_count": 17,
   "id": "e6d48dbc",
   "metadata": {},
   "outputs": [
    {
     "name": "stdout",
     "output_type": "stream",
     "text": [
      "adilakshmi\n",
      "d,l,k,s,h,m,naveen\n",
      "n,v,e,e,n,gopichand\n",
      "g,o,p,c,h,n,d,abhishek\n",
      "b,h,s,h,e,k,jaggu\n",
      "j,g,g,u,sandhya\n",
      "s,n,d,h,y,bharadwaj\n",
      "b,h,r,d,w,j,viksha\n",
      "v,k,s,h,python\n",
      "p,y,t,h,o,n,rossum\n",
      "r,o,s,s,u,m,"
     ]
    }
   ],
   "source": [
    "for j in range(10):\n",
    "    s=input()\n",
    "    for i in s:\n",
    "        if i=='a'or i=='i':\n",
    "            continue\n",
    "        print(i, end=',')"
   ]
  },
  {
   "cell_type": "code",
   "execution_count": 19,
   "id": "53417feb",
   "metadata": {},
   "outputs": [],
   "source": [
    "# to run a python file the command is python filename.py"
   ]
  },
  {
   "cell_type": "code",
   "execution_count": null,
   "id": "6dc6f0d8",
   "metadata": {},
   "outputs": [],
   "source": [
    "# to improve your coding skills try to solve the problems in platforms like hackerearth, hakcerrank....."
   ]
  },
  {
   "cell_type": "code",
   "execution_count": null,
   "id": "c84f8681",
   "metadata": {},
   "outputs": [],
   "source": []
  }
 ],
 "metadata": {
  "kernelspec": {
   "display_name": "Python 3",
   "language": "python",
   "name": "python3"
  },
  "language_info": {
   "codemirror_mode": {
    "name": "ipython",
    "version": 3
   },
   "file_extension": ".py",
   "mimetype": "text/x-python",
   "name": "python",
   "nbconvert_exporter": "python",
   "pygments_lexer": "ipython3",
   "version": "3.8.8"
  }
 },
 "nbformat": 4,
 "nbformat_minor": 5
}
