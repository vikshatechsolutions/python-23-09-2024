{
 "cells": [
  {
   "cell_type": "code",
   "execution_count": 1,
   "id": "6750e199",
   "metadata": {},
   "outputs": [],
   "source": [
    "import samplemodule"
   ]
  },
  {
   "cell_type": "code",
   "execution_count": 2,
   "id": "0c241108",
   "metadata": {},
   "outputs": [
    {
     "data": {
      "text/plain": [
       "['Test',\n",
       " '__builtins__',\n",
       " '__cached__',\n",
       " '__doc__',\n",
       " '__file__',\n",
       " '__loader__',\n",
       " '__name__',\n",
       " '__package__',\n",
       " '__spec__']"
      ]
     },
     "execution_count": 2,
     "metadata": {},
     "output_type": "execute_result"
    }
   ],
   "source": [
    "dir(samplemodule)"
   ]
  },
  {
   "cell_type": "code",
   "execution_count": 3,
   "id": "61c80a14",
   "metadata": {
    "collapsed": true
   },
   "outputs": [
    {
     "name": "stdout",
     "output_type": "stream",
     "text": [
      "Help on class Test in module samplemodule:\n",
      "\n",
      "class Test(builtins.object)\n",
      " |  This is an example class to demonstrate different methods and variables of a class\n",
      " |  \n",
      " |  Methods defined here:\n",
      " |  \n",
      " |  __init__(self)\n",
      " |      Initialize self.  See help(type(self)) for accurate signature.\n",
      " |  \n",
      " |  lakshmi(self)\n",
      " |  \n",
      " |  ----------------------------------------------------------------------\n",
      " |  Class methods defined here:\n",
      " |  \n",
      " |  sai() from builtins.type\n",
      " |  \n",
      " |  ----------------------------------------------------------------------\n",
      " |  Static methods defined here:\n",
      " |  \n",
      " |  naveen()\n",
      " |  \n",
      " |  sandhya()\n",
      " |  \n",
      " |  ----------------------------------------------------------------------\n",
      " |  Data descriptors defined here:\n",
      " |  \n",
      " |  __dict__\n",
      " |      dictionary for instance variables (if defined)\n",
      " |  \n",
      " |  __weakref__\n",
      " |      list of weak references to the object (if defined)\n",
      " |  \n",
      " |  ----------------------------------------------------------------------\n",
      " |  Data and other attributes defined here:\n",
      " |  \n",
      " |  x = 10\n",
      "\n"
     ]
    }
   ],
   "source": [
    "help(samplemodule.Test)"
   ]
  },
  {
   "cell_type": "code",
   "execution_count": 5,
   "id": "099540f6",
   "metadata": {},
   "outputs": [
    {
     "name": "stdout",
     "output_type": "stream",
     "text": [
      "20\n"
     ]
    }
   ],
   "source": [
    "a=samplemodule.Test()"
   ]
  },
  {
   "cell_type": "code",
   "execution_count": 6,
   "id": "35ff71cf",
   "metadata": {},
   "outputs": [
    {
     "name": "stdout",
     "output_type": "stream",
     "text": [
      "20\n"
     ]
    }
   ],
   "source": [
    "from samplemodule import Test\n",
    "b=Test()"
   ]
  },
  {
   "cell_type": "code",
   "execution_count": 7,
   "id": "103cee75",
   "metadata": {},
   "outputs": [
    {
     "name": "stdout",
     "output_type": "stream",
     "text": [
      "20\n"
     ]
    }
   ],
   "source": [
    "from samplemodule import Test as t\n",
    "b=t()"
   ]
  },
  {
   "cell_type": "code",
   "execution_count": 8,
   "id": "81b76c7e",
   "metadata": {},
   "outputs": [],
   "source": [
    "b.lakshmi()"
   ]
  },
  {
   "cell_type": "code",
   "execution_count": 9,
   "id": "4ee97bb5",
   "metadata": {},
   "outputs": [
    {
     "name": "stdout",
     "output_type": "stream",
     "text": [
      "The value of x before modyfying 10\n",
      "10\n",
      "The value of x after modyfying 100\n"
     ]
    }
   ],
   "source": [
    "t.sai()"
   ]
  },
  {
   "cell_type": "code",
   "execution_count": null,
   "id": "336c2ddb",
   "metadata": {},
   "outputs": [],
   "source": [
    "## monkeypatching"
   ]
  }
 ],
 "metadata": {
  "kernelspec": {
   "display_name": "Python 3",
   "language": "python",
   "name": "python3"
  },
  "language_info": {
   "codemirror_mode": {
    "name": "ipython",
    "version": 3
   },
   "file_extension": ".py",
   "mimetype": "text/x-python",
   "name": "python",
   "nbconvert_exporter": "python",
   "pygments_lexer": "ipython3",
   "version": "3.8.8"
  }
 },
 "nbformat": 4,
 "nbformat_minor": 5
}
