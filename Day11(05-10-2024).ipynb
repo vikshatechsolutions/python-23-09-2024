{
 "cells": [
  {
   "cell_type": "markdown",
   "id": "84e0736e",
   "metadata": {},
   "source": [
    "#### Functional programming\n",
    "- code reusabilty \n",
    "- easy to debug "
   ]
  },
  {
   "cell_type": "raw",
   "id": "6602da65",
   "metadata": {},
   "source": [
    "Two types of functions:\n",
    "    - inbuilt functions---print(),id() etc...\n",
    "    - user defined functions\n",
    "Syntax: \n",
    "def functionname():\n",
    "    statements1\n",
    "    statements2\n",
    "    .....\n",
    "    statementsn\n",
    "    return"
   ]
  },
  {
   "cell_type": "code",
   "execution_count": 2,
   "id": "b2f9b247",
   "metadata": {},
   "outputs": [
    {
     "name": "stdout",
     "output_type": "stream",
     "text": [
      "30\n"
     ]
    }
   ],
   "source": [
    "# Function without arguments and without return value\n",
    "def add():\n",
    "    a=10\n",
    "    b=30\n",
    "    print(a+b)\n",
    "    \n",
    "    \n",
    "add() # function calling"
   ]
  },
  {
   "cell_type": "code",
   "execution_count": 5,
   "id": "c765d132",
   "metadata": {},
   "outputs": [
    {
     "name": "stdout",
     "output_type": "stream",
     "text": [
      "30\n"
     ]
    }
   ],
   "source": [
    "# Function with arguments and with return value\n",
    "def add(a,b):\n",
    "    c=a+b\n",
    "    return c\n",
    "\n",
    "result=add(10,20)\n",
    "print(result)"
   ]
  },
  {
   "cell_type": "code",
   "execution_count": 7,
   "id": "9c062dda",
   "metadata": {},
   "outputs": [
    {
     "name": "stdout",
     "output_type": "stream",
     "text": [
      "5\n"
     ]
    }
   ],
   "source": [
    "# Function with arguments and without return value\n",
    "def add(a,b):\n",
    "    print(a+b)\n",
    "    \n",
    "add(2,3)"
   ]
  },
  {
   "cell_type": "code",
   "execution_count": 8,
   "id": "e2eeed84",
   "metadata": {},
   "outputs": [
    {
     "name": "stdout",
     "output_type": "stream",
     "text": [
      "57\n"
     ]
    }
   ],
   "source": [
    "# Function without arguments and with return value\n",
    "def add():\n",
    "    a=23\n",
    "    b=34\n",
    "    return a+b\n",
    "\n",
    "res=add()\n",
    "print(res)"
   ]
  },
  {
   "cell_type": "code",
   "execution_count": 9,
   "id": "24a2bc41",
   "metadata": {},
   "outputs": [
    {
     "name": "stdout",
     "output_type": "stream",
     "text": [
      "10\n"
     ]
    }
   ],
   "source": [
    "def sample():\n",
    "    a=10\n",
    "    b=20\n",
    "    c=30\n",
    "    return a\n",
    "    return b\n",
    "    return c\n",
    "\n",
    "res=sample()\n",
    "print(res)"
   ]
  },
  {
   "cell_type": "code",
   "execution_count": 13,
   "id": "412c346c",
   "metadata": {},
   "outputs": [
    {
     "data": {
      "text/plain": [
       "1"
      ]
     },
     "execution_count": 13,
     "metadata": {},
     "output_type": "execute_result"
    }
   ],
   "source": [
    "# create a function in python to check whether the given number is even or \n",
    "#odd return 1 if even otherwise 0\n",
    "def iseven(n):\n",
    "    if n%2==0:\n",
    "        return 1\n",
    "    else:\n",
    "        return 0  \n",
    "iseven(2)"
   ]
  },
  {
   "cell_type": "markdown",
   "id": "b28ef5cb",
   "metadata": {},
   "source": [
    "#### Types of arguments\n",
    "- positional argumemnts\n",
    "- keyword arguments\n",
    "- default arguments\n",
    "- variable length or arbitrary arguments "
   ]
  },
  {
   "cell_type": "code",
   "execution_count": 15,
   "id": "fb6d6fdb",
   "metadata": {},
   "outputs": [
    {
     "ename": "TypeError",
     "evalue": "mul() takes 2 positional arguments but 3 were given",
     "output_type": "error",
     "traceback": [
      "\u001b[1;31m---------------------------------------------------------------------------\u001b[0m",
      "\u001b[1;31mTypeError\u001b[0m                                 Traceback (most recent call last)",
      "\u001b[1;32m<ipython-input-15-7afbe810acd7>\u001b[0m in \u001b[0;36m<module>\u001b[1;34m\u001b[0m\n\u001b[0;32m      4\u001b[0m     \u001b[1;32mreturn\u001b[0m \u001b[0ma\u001b[0m\u001b[1;33m*\u001b[0m\u001b[0mb\u001b[0m\u001b[1;33m\u001b[0m\u001b[1;33m\u001b[0m\u001b[0m\n\u001b[0;32m      5\u001b[0m \u001b[1;33m\u001b[0m\u001b[0m\n\u001b[1;32m----> 6\u001b[1;33m \u001b[0mmul\u001b[0m\u001b[1;33m(\u001b[0m\u001b[1;36m2\u001b[0m\u001b[1;33m,\u001b[0m\u001b[1;36m3\u001b[0m\u001b[1;33m,\u001b[0m\u001b[1;36m4\u001b[0m\u001b[1;33m)\u001b[0m\u001b[1;33m\u001b[0m\u001b[1;33m\u001b[0m\u001b[0m\n\u001b[0m",
      "\u001b[1;31mTypeError\u001b[0m: mul() takes 2 positional arguments but 3 were given"
     ]
    }
   ],
   "source": [
    "# positional arguments\n",
    "# no ofinputs is equal to no of arguments\n",
    "def mul(a,b):\n",
    "    return a*b\n",
    "\n",
    "mul(2,3,4)"
   ]
  },
  {
   "cell_type": "code",
   "execution_count": 16,
   "id": "45535f73",
   "metadata": {},
   "outputs": [
    {
     "data": {
      "text/plain": [
       "6"
      ]
     },
     "execution_count": 16,
     "metadata": {},
     "output_type": "execute_result"
    }
   ],
   "source": [
    "mul(2,3)"
   ]
  },
  {
   "cell_type": "code",
   "execution_count": 17,
   "id": "4d40d9bc",
   "metadata": {},
   "outputs": [
    {
     "data": {
      "text/plain": [
       "600"
      ]
     },
     "execution_count": 17,
     "metadata": {},
     "output_type": "execute_result"
    }
   ],
   "source": [
    "# keyword arguments\n",
    "mul(b=30,a=20)"
   ]
  },
  {
   "cell_type": "code",
   "execution_count": 18,
   "id": "a904b9ab",
   "metadata": {},
   "outputs": [
    {
     "data": {
      "text/plain": [
       "12"
      ]
     },
     "execution_count": 18,
     "metadata": {},
     "output_type": "execute_result"
    }
   ],
   "source": [
    "mul(a=3,b=4)"
   ]
  },
  {
   "cell_type": "code",
   "execution_count": 19,
   "id": "a55f94b7",
   "metadata": {},
   "outputs": [
    {
     "data": {
      "text/plain": [
       "40"
      ]
     },
     "execution_count": 19,
     "metadata": {},
     "output_type": "execute_result"
    }
   ],
   "source": [
    "# default arguments\n",
    "def mul(a,b=20):\n",
    "    return a*b\n",
    "\n",
    "mul(2)"
   ]
  },
  {
   "cell_type": "code",
   "execution_count": 20,
   "id": "d3e1f48c",
   "metadata": {},
   "outputs": [
    {
     "data": {
      "text/plain": [
       "60"
      ]
     },
     "execution_count": 20,
     "metadata": {},
     "output_type": "execute_result"
    }
   ],
   "source": [
    "mul(2,30)"
   ]
  },
  {
   "cell_type": "code",
   "execution_count": 23,
   "id": "fb055c3b",
   "metadata": {},
   "outputs": [
    {
     "name": "stdout",
     "output_type": "stream",
     "text": [
      "Help on built-in function print in module builtins:\n",
      "\n",
      "print(...)\n",
      "    print(value, ..., sep=' ', end='\\n', file=sys.stdout, flush=False)\n",
      "    \n",
      "    Prints the values to a stream, or to sys.stdout by default.\n",
      "    Optional keyword arguments:\n",
      "    file:  a file-like object (stream); defaults to the current sys.stdout.\n",
      "    sep:   string inserted between values, default a space.\n",
      "    end:   string appended after the last value, default a newline.\n",
      "    flush: whether to forcibly flush the stream.\n",
      "\n"
     ]
    }
   ],
   "source": [
    "help(print)"
   ]
  },
  {
   "cell_type": "code",
   "execution_count": 24,
   "id": "a462c9ce",
   "metadata": {},
   "outputs": [
    {
     "ename": "SyntaxError",
     "evalue": "non-default argument follows default argument (<ipython-input-24-f3bb92f40109>, line 1)",
     "output_type": "error",
     "traceback": [
      "\u001b[1;36m  File \u001b[1;32m\"<ipython-input-24-f3bb92f40109>\"\u001b[1;36m, line \u001b[1;32m1\u001b[0m\n\u001b[1;33m    def mul(a=20,b):\u001b[0m\n\u001b[1;37m            ^\u001b[0m\n\u001b[1;31mSyntaxError\u001b[0m\u001b[1;31m:\u001b[0m non-default argument follows default argument\n"
     ]
    }
   ],
   "source": [
    "def mul(a=20,b):\n",
    "    return a*b\n",
    "\n",
    "mul(2)"
   ]
  },
  {
   "cell_type": "code",
   "execution_count": 25,
   "id": "03a5e68c",
   "metadata": {},
   "outputs": [
    {
     "data": {
      "text/plain": [
       "600"
      ]
     },
     "execution_count": 25,
     "metadata": {},
     "output_type": "execute_result"
    }
   ],
   "source": [
    "def mul(d=20,e=30):\n",
    "    return d*e\n",
    "\n",
    "mul()"
   ]
  },
  {
   "cell_type": "code",
   "execution_count": 26,
   "id": "bc02efcc",
   "metadata": {},
   "outputs": [
    {
     "data": {
      "text/plain": [
       "200"
      ]
     },
     "execution_count": 26,
     "metadata": {},
     "output_type": "execute_result"
    }
   ],
   "source": [
    "mul(10,20)"
   ]
  },
  {
   "cell_type": "code",
   "execution_count": 38,
   "id": "95eb2bca",
   "metadata": {},
   "outputs": [
    {
     "name": "stdout",
     "output_type": "stream",
     "text": [
      "(10,)\n",
      "(10, 20)\n",
      "(10, 20, 30)\n"
     ]
    }
   ],
   "source": [
    "# variable length or arbitrary arguments\n",
    "def test(*n):\n",
    "    return n\n",
    "    \n",
    "print(test(10))\n",
    "print(test(10,20))\n",
    "print(test(10,20,30))"
   ]
  },
  {
   "cell_type": "code",
   "execution_count": 36,
   "id": "cdcc1679",
   "metadata": {},
   "outputs": [
    {
     "name": "stdout",
     "output_type": "stream",
     "text": [
      "10\n",
      "30\n",
      "60\n"
     ]
    }
   ],
   "source": [
    "# variable length or arbitrary arguments\n",
    "def add(*n):\n",
    "    res=0\n",
    "    for i in n:\n",
    "        res=res+i\n",
    "    return res\n",
    "    \n",
    "print(add(10))\n",
    "print(add(10,20))\n",
    "print(add(10,20,30))"
   ]
  },
  {
   "cell_type": "raw",
   "id": "909c003e",
   "metadata": {},
   "source": [
    "(10,20,30)\n",
    "i=10\n",
    "res=0+10=10\n",
    "\n",
    "i=20\n",
    "res=res+i\n",
    "res=10+20=30\n",
    "\n",
    "i=30\n",
    "res=res+i\n",
    "res=30+30=60"
   ]
  },
  {
   "cell_type": "code",
   "execution_count": 46,
   "id": "9cc37eee",
   "metadata": {},
   "outputs": [],
   "source": [
    "# Afer variable lenght argument if we are taking any other arguments \n",
    "# then we should provide the values as keyword argument\n",
    "# --->*args---ex:*n\n",
    "def add(*n,b):\n",
    "    print(n,\"the value of b is {}\".format(b),sep=\",\")"
   ]
  },
  {
   "cell_type": "code",
   "execution_count": null,
   "id": "e47a1d5e",
   "metadata": {},
   "outputs": [],
   "source": []
  },
  {
   "cell_type": "code",
   "execution_count": 42,
   "id": "039160ff",
   "metadata": {},
   "outputs": [
    {
     "ename": "TypeError",
     "evalue": "add() missing 1 required keyword-only argument: 'b'",
     "output_type": "error",
     "traceback": [
      "\u001b[1;31m---------------------------------------------------------------------------\u001b[0m",
      "\u001b[1;31mTypeError\u001b[0m                                 Traceback (most recent call last)",
      "\u001b[1;32m<ipython-input-42-f721649297a2>\u001b[0m in \u001b[0;36m<module>\u001b[1;34m\u001b[0m\n\u001b[1;32m----> 1\u001b[1;33m \u001b[0madd\u001b[0m\u001b[1;33m(\u001b[0m\u001b[1;36m10\u001b[0m\u001b[1;33m,\u001b[0m\u001b[1;36m20\u001b[0m\u001b[1;33m)\u001b[0m\u001b[1;33m\u001b[0m\u001b[1;33m\u001b[0m\u001b[0m\n\u001b[0m",
      "\u001b[1;31mTypeError\u001b[0m: add() missing 1 required keyword-only argument: 'b'"
     ]
    }
   ],
   "source": [
    "add(10,20)"
   ]
  },
  {
   "cell_type": "code",
   "execution_count": 47,
   "id": "7cdba1bf",
   "metadata": {},
   "outputs": [
    {
     "name": "stdout",
     "output_type": "stream",
     "text": [
      "(10, 20, 30),the value of b is 20\n"
     ]
    }
   ],
   "source": [
    "add(10,20,30,b=20)"
   ]
  },
  {
   "cell_type": "code",
   "execution_count": 50,
   "id": "bf9fc093",
   "metadata": {},
   "outputs": [
    {
     "data": {
      "text/plain": [
       "{'n1': 1, 'n2': 2, 'c': 10}"
      ]
     },
     "execution_count": 50,
     "metadata": {},
     "output_type": "execute_result"
    }
   ],
   "source": [
    "### keyword varibale length arguments\n",
    "#-->(**kwargs)\n",
    "def test(**n):\n",
    "    return n\n",
    "test(n1=1,n2=2,c=10)"
   ]
  },
  {
   "cell_type": "code",
   "execution_count": null,
   "id": "f3989841",
   "metadata": {},
   "outputs": [],
   "source": [
    "\n",
    "\n",
    "    "
   ]
  }
 ],
 "metadata": {
  "kernelspec": {
   "display_name": "Python 3",
   "language": "python",
   "name": "python3"
  },
  "language_info": {
   "codemirror_mode": {
    "name": "ipython",
    "version": 3
   },
   "file_extension": ".py",
   "mimetype": "text/x-python",
   "name": "python",
   "nbconvert_exporter": "python",
   "pygments_lexer": "ipython3",
   "version": "3.8.8"
  }
 },
 "nbformat": 4,
 "nbformat_minor": 5
}
