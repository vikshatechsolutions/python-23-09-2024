{
 "cells": [
  {
   "cell_type": "markdown",
   "id": "bf13086d-63dd-4f77-a7e1-b7d99e0e47e1",
   "metadata": {},
   "source": [
    "#### List continution part"
   ]
  },
  {
   "cell_type": "code",
   "execution_count": null,
   "id": "c3eefdaf-0305-4c5b-9fc0-5e59b63d9796",
   "metadata": {},
   "outputs": [],
   "source": [
    "l2= [1,2.3,4, 5, 6,8,'test']\n",
    "l2"
   ]
  },
  {
   "cell_type": "code",
   "execution_count": 9,
   "id": "d9ef027f-2f55-44ed-8a5f-8c9de6bc0433",
   "metadata": {},
   "outputs": [],
   "source": [
    "l2.reverse()"
   ]
  },
  {
   "cell_type": "code",
   "execution_count": 12,
   "id": "c6c0dd38-a48f-48bc-a7de-4604cd0a2b9e",
   "metadata": {},
   "outputs": [
    {
     "name": "stdout",
     "output_type": "stream",
     "text": [
      "['test', 8, 6, 5, 4, 2.3, 1]\n"
     ]
    }
   ],
   "source": [
    "print(l2)"
   ]
  },
  {
   "cell_type": "code",
   "execution_count": 13,
   "id": "fc667b60-0ebb-480a-95c1-cf8a200b32ce",
   "metadata": {},
   "outputs": [
    {
     "name": "stdout",
     "output_type": "stream",
     "text": [
      "Help on method_descriptor:\n",
      "\n",
      "sort(self, /, *, key=None, reverse=False)\n",
      "    Sort the list in ascending order and return None.\n",
      "\n",
      "    The sort is in-place (i.e. the list itself is modified) and stable (i.e. the\n",
      "    order of two equal elements is maintained).\n",
      "\n",
      "    If a key function is given, apply it once to each list item and sort them,\n",
      "    ascending or descending, according to their function values.\n",
      "\n",
      "    The reverse flag can be set to sort in descending order.\n",
      "\n"
     ]
    }
   ],
   "source": [
    "help(list.sort)"
   ]
  },
  {
   "cell_type": "code",
   "execution_count": 14,
   "id": "2de12fe9-d7e1-439e-a5e4-d8fd125db45d",
   "metadata": {},
   "outputs": [
    {
     "data": {
      "text/plain": [
       "['test', 8, 6, 5, 4, 2.3, 1]"
      ]
     },
     "execution_count": 14,
     "metadata": {},
     "output_type": "execute_result"
    }
   ],
   "source": [
    "l2"
   ]
  },
  {
   "cell_type": "code",
   "execution_count": 15,
   "id": "8c37b662-4146-4178-9002-7ead3126c31f",
   "metadata": {},
   "outputs": [
    {
     "ename": "TypeError",
     "evalue": "'<' not supported between instances of 'int' and 'str'",
     "output_type": "error",
     "traceback": [
      "\u001b[1;31m---------------------------------------------------------------------------\u001b[0m",
      "\u001b[1;31mTypeError\u001b[0m                                 Traceback (most recent call last)",
      "Cell \u001b[1;32mIn[15], line 1\u001b[0m\n\u001b[1;32m----> 1\u001b[0m \u001b[43ml2\u001b[49m\u001b[38;5;241;43m.\u001b[39;49m\u001b[43msort\u001b[49m\u001b[43m(\u001b[49m\u001b[43m)\u001b[49m\n",
      "\u001b[1;31mTypeError\u001b[0m: '<' not supported between instances of 'int' and 'str'"
     ]
    }
   ],
   "source": [
    "l2.sort()"
   ]
  },
  {
   "cell_type": "code",
   "execution_count": 16,
   "id": "9e916028-a372-4b7d-889d-4571257c2436",
   "metadata": {},
   "outputs": [
    {
     "name": "stdout",
     "output_type": "stream",
     "text": [
      "None\n"
     ]
    }
   ],
   "source": [
    "l3=[2,23,3,4,12,14]\n",
    "a=l3.sort() # by default it will sort the elements in ascending order\n",
    "print(a)"
   ]
  },
  {
   "cell_type": "code",
   "execution_count": 17,
   "id": "decee685-9ddb-4315-9b2e-eeb0d9dba210",
   "metadata": {},
   "outputs": [
    {
     "name": "stdout",
     "output_type": "stream",
     "text": [
      "[2, 3, 4, 12, 14, 23]\n"
     ]
    }
   ],
   "source": [
    "print(l3)"
   ]
  },
  {
   "cell_type": "code",
   "execution_count": 18,
   "id": "b3be419c-9918-4c24-af18-0986e3b4c041",
   "metadata": {},
   "outputs": [],
   "source": [
    "l3.sort(reverse=True)  # sort the elements in descending order"
   ]
  },
  {
   "cell_type": "code",
   "execution_count": 19,
   "id": "490f6ce7-eed4-4850-a237-cbce7d3400de",
   "metadata": {},
   "outputs": [
    {
     "name": "stdout",
     "output_type": "stream",
     "text": [
      "[23, 14, 12, 4, 3, 2]\n"
     ]
    }
   ],
   "source": [
    "print(l3)"
   ]
  },
  {
   "cell_type": "code",
   "execution_count": 20,
   "id": "73278418-8d9b-4adb-9407-7e04b77bee2a",
   "metadata": {},
   "outputs": [
    {
     "name": "stdout",
     "output_type": "stream",
     "text": [
      "[23, 14, 12, 4, 3, 2]\n"
     ]
    }
   ],
   "source": [
    "l4=l3.copy()\n",
    "print(l4)"
   ]
  },
  {
   "cell_type": "code",
   "execution_count": 21,
   "id": "7200df4d-9c46-4aba-90f4-e1b52382248d",
   "metadata": {},
   "outputs": [
    {
     "name": "stdout",
     "output_type": "stream",
     "text": [
      "2832798683520\n"
     ]
    }
   ],
   "source": [
    "print(id(l3))"
   ]
  },
  {
   "cell_type": "code",
   "execution_count": 22,
   "id": "78b66f18-176e-46b6-9d06-a28c804d849a",
   "metadata": {},
   "outputs": [
    {
     "name": "stdout",
     "output_type": "stream",
     "text": [
      "2832798539200\n"
     ]
    }
   ],
   "source": [
    "print(id(l4))"
   ]
  },
  {
   "cell_type": "code",
   "execution_count": 24,
   "id": "6638ca5a-5e32-421b-9628-feb9d56a6f1d",
   "metadata": {},
   "outputs": [
    {
     "data": {
      "text/plain": [
       "[23, 14, 12, 4, 3, 2]"
      ]
     },
     "execution_count": 24,
     "metadata": {},
     "output_type": "execute_result"
    }
   ],
   "source": [
    "l4"
   ]
  },
  {
   "cell_type": "code",
   "execution_count": 25,
   "id": "67f96570-c044-4746-959a-a8e735da290b",
   "metadata": {},
   "outputs": [
    {
     "name": "stdout",
     "output_type": "stream",
     "text": [
      "[]\n"
     ]
    }
   ],
   "source": [
    "l4.clear()\n",
    "print(l4)"
   ]
  },
  {
   "cell_type": "code",
   "execution_count": 26,
   "id": "c6f16447-a6a7-404e-abcc-1619eba1bf0b",
   "metadata": {},
   "outputs": [],
   "source": [
    "del l4"
   ]
  },
  {
   "cell_type": "code",
   "execution_count": 28,
   "id": "ae556d52-8372-4fd5-9a11-ddc0c5a6c6a0",
   "metadata": {},
   "outputs": [
    {
     "ename": "NameError",
     "evalue": "name 'l4' is not defined",
     "output_type": "error",
     "traceback": [
      "\u001b[1;31m---------------------------------------------------------------------------\u001b[0m",
      "\u001b[1;31mNameError\u001b[0m                                 Traceback (most recent call last)",
      "Cell \u001b[1;32mIn[28], line 1\u001b[0m\n\u001b[1;32m----> 1\u001b[0m \u001b[38;5;28mprint\u001b[39m(\u001b[43ml4\u001b[49m)\n",
      "\u001b[1;31mNameError\u001b[0m: name 'l4' is not defined"
     ]
    }
   ],
   "source": [
    "print(l4)"
   ]
  },
  {
   "cell_type": "code",
   "execution_count": 29,
   "id": "47205f29-bd13-43f5-b062-d025e61679c3",
   "metadata": {},
   "outputs": [
    {
     "data": {
      "text/plain": [
       "[23, 14, 12, 4, 3, 2]"
      ]
     },
     "execution_count": 29,
     "metadata": {},
     "output_type": "execute_result"
    }
   ],
   "source": [
    "l3"
   ]
  },
  {
   "cell_type": "code",
   "execution_count": 30,
   "id": "bf745168-431a-49ff-8287-ed74401e50a0",
   "metadata": {},
   "outputs": [
    {
     "data": {
      "text/plain": [
       "3"
      ]
     },
     "execution_count": 30,
     "metadata": {},
     "output_type": "execute_result"
    }
   ],
   "source": [
    "l3[4]"
   ]
  },
  {
   "cell_type": "code",
   "execution_count": 31,
   "id": "b811a47b-985b-477b-87c3-e89830f20555",
   "metadata": {},
   "outputs": [],
   "source": [
    "l3[4]='viksha'"
   ]
  },
  {
   "cell_type": "code",
   "execution_count": 32,
   "id": "dab99afa-ed07-4f14-8ba2-fec4fbd31b5c",
   "metadata": {},
   "outputs": [
    {
     "name": "stdout",
     "output_type": "stream",
     "text": [
      "[23, 14, 12, 4, 'viksha', 2]\n"
     ]
    }
   ],
   "source": [
    "print(l3)"
   ]
  },
  {
   "cell_type": "code",
   "execution_count": 35,
   "id": "21ffcf9d-6f92-4bba-9108-1ea398c340bc",
   "metadata": {},
   "outputs": [
    {
     "name": "stdin",
     "output_type": "stream",
     "text": [
      " 20\n"
     ]
    },
    {
     "name": "stdout",
     "output_type": "stream",
     "text": [
      "[20]\n"
     ]
    },
    {
     "name": "stdin",
     "output_type": "stream",
     "text": [
      " 30\n"
     ]
    },
    {
     "name": "stdout",
     "output_type": "stream",
     "text": [
      "[20, 30]\n"
     ]
    },
    {
     "name": "stdin",
     "output_type": "stream",
     "text": [
      " 40\n"
     ]
    },
    {
     "name": "stdout",
     "output_type": "stream",
     "text": [
      "[20, 30, 40]\n"
     ]
    },
    {
     "name": "stdin",
     "output_type": "stream",
     "text": [
      " 50\n"
     ]
    },
    {
     "name": "stdout",
     "output_type": "stream",
     "text": [
      "[20, 30, 40, 50]\n"
     ]
    },
    {
     "name": "stdin",
     "output_type": "stream",
     "text": [
      " 60\n"
     ]
    },
    {
     "name": "stdout",
     "output_type": "stream",
     "text": [
      "[20, 30, 40, 50, 60]\n",
      "final elements stored in the list are [20, 30, 40, 50, 60]\n"
     ]
    }
   ],
   "source": [
    "# take 5 inputs from the user and store them in a list and print the list\n",
    "#[1,2,3,4,5]\n",
    "l=[]\n",
    "for i in range(0,5,1):\n",
    "    a=int(input())\n",
    "    l.append(a)\n",
    "    print(l)\n",
    "print(\"final elements stored in the list are {}\".format(l))"
   ]
  },
  {
   "cell_type": "markdown",
   "id": "d58511b7-f604-42cf-a2d3-66b2545fbb80",
   "metadata": {},
   "source": [
    "#### Tuples\n",
    "- represented with ()\n",
    "- ordered\n",
    "- immutable"
   ]
  },
  {
   "cell_type": "code",
   "execution_count": 37,
   "id": "83381cef-de02-4fdc-8215-b5979c916aee",
   "metadata": {},
   "outputs": [
    {
     "name": "stdout",
     "output_type": "stream",
     "text": [
      "<class 'tuple'>\n",
      "()\n"
     ]
    }
   ],
   "source": [
    "# define an empty tuple\n",
    "t=()\n",
    "print(type(t))\n",
    "print(t)"
   ]
  },
  {
   "cell_type": "code",
   "execution_count": 39,
   "id": "6c23b58f-61da-4416-bd0d-5e593bbf496b",
   "metadata": {},
   "outputs": [
    {
     "name": "stdout",
     "output_type": "stream",
     "text": [
      "(1, 2, 3, 4.5, 'tuple', True, [20, 30, 40])\n"
     ]
    }
   ],
   "source": [
    "t=(1,2,3,4.5,'tuple',True,[20,30,40])\n",
    "print(t)"
   ]
  },
  {
   "cell_type": "code",
   "execution_count": 40,
   "id": "243cfa8d-8739-4352-a8b5-5612fe13569b",
   "metadata": {},
   "outputs": [
    {
     "data": {
      "text/plain": [
       "4.5"
      ]
     },
     "execution_count": 40,
     "metadata": {},
     "output_type": "execute_result"
    }
   ],
   "source": [
    "t[3]"
   ]
  },
  {
   "cell_type": "code",
   "execution_count": 42,
   "id": "f9b36957-6c0a-47e2-882c-169582b5a050",
   "metadata": {},
   "outputs": [
    {
     "name": "stdout",
     "output_type": "stream",
     "text": [
      "[20, 30, 40]\n"
     ]
    }
   ],
   "source": [
    "a=t[-1]\n",
    "print(a)"
   ]
  },
  {
   "cell_type": "code",
   "execution_count": 43,
   "id": "8175ad56-3c44-4d5f-ad3a-32fb6fd20d65",
   "metadata": {},
   "outputs": [
    {
     "name": "stdout",
     "output_type": "stream",
     "text": [
      "<class 'list'>\n"
     ]
    }
   ],
   "source": [
    "print(type(a))"
   ]
  },
  {
   "cell_type": "code",
   "execution_count": 44,
   "id": "161834ed-d047-4e7f-80b3-66b1a2e68b9b",
   "metadata": {},
   "outputs": [
    {
     "data": {
      "text/plain": [
       "(1, 2, 3, 4.5)"
      ]
     },
     "execution_count": 44,
     "metadata": {},
     "output_type": "execute_result"
    }
   ],
   "source": [
    "# to slice the tuple\n",
    "#t[start:end:step]\n",
    "t[0:4:1]"
   ]
  },
  {
   "cell_type": "code",
   "execution_count": 45,
   "id": "68fb02ba-b226-477b-b65c-ae1f6a97d417",
   "metadata": {},
   "outputs": [
    {
     "name": "stdout",
     "output_type": "stream",
     "text": [
      "1\n",
      "2\n",
      "3\n",
      "4.5\n",
      "tuple\n",
      "True\n",
      "[20, 30, 40]\n"
     ]
    }
   ],
   "source": [
    "# iterating the tuple\n",
    "for i in t:\n",
    "    print(i)"
   ]
  },
  {
   "cell_type": "code",
   "execution_count": 46,
   "id": "57210317-1491-4bbb-bdf7-df2803e0ed93",
   "metadata": {},
   "outputs": [
    {
     "name": "stdout",
     "output_type": "stream",
     "text": [
      "1\n",
      "2\n",
      "3\n",
      "4.5\n",
      "tuple\n",
      "True\n",
      "[20, 30, 40]\n"
     ]
    }
   ],
   "source": [
    "for i in range(0,len(t)):\n",
    "    print(t[i])"
   ]
  },
  {
   "cell_type": "code",
   "execution_count": 47,
   "id": "6b676b31-1caf-461e-b5ed-e5b91e35bcd8",
   "metadata": {},
   "outputs": [
    {
     "data": {
      "text/plain": [
       "['__add__',\n",
       " '__class__',\n",
       " '__class_getitem__',\n",
       " '__contains__',\n",
       " '__delattr__',\n",
       " '__dir__',\n",
       " '__doc__',\n",
       " '__eq__',\n",
       " '__format__',\n",
       " '__ge__',\n",
       " '__getattribute__',\n",
       " '__getitem__',\n",
       " '__getnewargs__',\n",
       " '__getstate__',\n",
       " '__gt__',\n",
       " '__hash__',\n",
       " '__init__',\n",
       " '__init_subclass__',\n",
       " '__iter__',\n",
       " '__le__',\n",
       " '__len__',\n",
       " '__lt__',\n",
       " '__mul__',\n",
       " '__ne__',\n",
       " '__new__',\n",
       " '__reduce__',\n",
       " '__reduce_ex__',\n",
       " '__repr__',\n",
       " '__rmul__',\n",
       " '__setattr__',\n",
       " '__sizeof__',\n",
       " '__str__',\n",
       " '__subclasshook__',\n",
       " 'count',\n",
       " 'index']"
      ]
     },
     "execution_count": 47,
     "metadata": {},
     "output_type": "execute_result"
    }
   ],
   "source": [
    "dir(tuple)"
   ]
  },
  {
   "cell_type": "code",
   "execution_count": 49,
   "id": "072b10d5-965b-4388-a963-a4ef5b71b0ab",
   "metadata": {},
   "outputs": [
    {
     "data": {
      "text/plain": [
       "3"
      ]
     },
     "execution_count": 49,
     "metadata": {},
     "output_type": "execute_result"
    }
   ],
   "source": [
    "t=(1,2,3,3,4,5,6,6,6)\n",
    "t.count(6)"
   ]
  },
  {
   "cell_type": "code",
   "execution_count": 50,
   "id": "a4f8c680-da43-4934-90ba-7d141b639899",
   "metadata": {},
   "outputs": [
    {
     "data": {
      "text/plain": [
       "1"
      ]
     },
     "execution_count": 50,
     "metadata": {},
     "output_type": "execute_result"
    }
   ],
   "source": [
    "t.index(2)"
   ]
  },
  {
   "cell_type": "markdown",
   "id": "9a596b8c-0748-487c-9e09-d59424f44e1a",
   "metadata": {},
   "source": [
    "##### Dictionaries\n",
    "- represented with {}\n",
    "- unordered\n",
    "- access the data using keys and values\n",
    "- keys are immutable\n",
    "- values are mutable"
   ]
  },
  {
   "cell_type": "code",
   "execution_count": 52,
   "id": "38d62ae8-a30d-4cce-b658-51856d41cfe1",
   "metadata": {},
   "outputs": [
    {
     "name": "stdout",
     "output_type": "stream",
     "text": [
      "{}\n",
      "<class 'dict'>\n"
     ]
    }
   ],
   "source": [
    "d={}\n",
    "print(d)\n",
    "print(type(d))"
   ]
  },
  {
   "cell_type": "code",
   "execution_count": 53,
   "id": "b0c7e0c0-4f44-4585-a376-b7f04ddf6bc5",
   "metadata": {},
   "outputs": [
    {
     "name": "stdout",
     "output_type": "stream",
     "text": [
      "{'m1': 35, 'm2': 60, 'english': 56, 'drawing': 45}\n"
     ]
    }
   ],
   "source": [
    "# m1:35\n",
    "# m1,m2,english, drwaing-----keys\n",
    "# 35,60,56,45----->values\n",
    "d={\"m1\":35,\"m2\":60,\"english\":56,\"drawing\":45}\n",
    "print(d)"
   ]
  },
  {
   "cell_type": "code",
   "execution_count": 54,
   "id": "58b86001-aaef-475c-988b-54eab25d9247",
   "metadata": {},
   "outputs": [
    {
     "data": {
      "text/plain": [
       "56"
      ]
     },
     "execution_count": 54,
     "metadata": {},
     "output_type": "execute_result"
    }
   ],
   "source": [
    "d['english']"
   ]
  },
  {
   "cell_type": "code",
   "execution_count": 56,
   "id": "d8448d22-adb9-46da-be62-4a73c5419ae1",
   "metadata": {},
   "outputs": [
    {
     "data": {
      "text/plain": [
       "60"
      ]
     },
     "execution_count": 56,
     "metadata": {},
     "output_type": "execute_result"
    }
   ],
   "source": [
    "d['m2']"
   ]
  },
  {
   "cell_type": "code",
   "execution_count": 57,
   "id": "3fb4d299-71c6-4a72-965d-2196dc570bc1",
   "metadata": {},
   "outputs": [],
   "source": [
    "d['m2']=75"
   ]
  },
  {
   "cell_type": "code",
   "execution_count": 58,
   "id": "63973997-d150-46f0-99ed-b68eb7f6518f",
   "metadata": {},
   "outputs": [
    {
     "name": "stdout",
     "output_type": "stream",
     "text": [
      "{'m1': 35, 'm2': 75, 'english': 56, 'drawing': 45}\n"
     ]
    }
   ],
   "source": [
    "print(d)"
   ]
  },
  {
   "cell_type": "code",
   "execution_count": 59,
   "id": "d7f03b10-0f47-4672-a920-0cc8578e31f8",
   "metadata": {},
   "outputs": [
    {
     "data": {
      "text/plain": [
       "['__class__',\n",
       " '__class_getitem__',\n",
       " '__contains__',\n",
       " '__delattr__',\n",
       " '__delitem__',\n",
       " '__dir__',\n",
       " '__doc__',\n",
       " '__eq__',\n",
       " '__format__',\n",
       " '__ge__',\n",
       " '__getattribute__',\n",
       " '__getitem__',\n",
       " '__getstate__',\n",
       " '__gt__',\n",
       " '__hash__',\n",
       " '__init__',\n",
       " '__init_subclass__',\n",
       " '__ior__',\n",
       " '__iter__',\n",
       " '__le__',\n",
       " '__len__',\n",
       " '__lt__',\n",
       " '__ne__',\n",
       " '__new__',\n",
       " '__or__',\n",
       " '__reduce__',\n",
       " '__reduce_ex__',\n",
       " '__repr__',\n",
       " '__reversed__',\n",
       " '__ror__',\n",
       " '__setattr__',\n",
       " '__setitem__',\n",
       " '__sizeof__',\n",
       " '__str__',\n",
       " '__subclasshook__',\n",
       " 'clear',\n",
       " 'copy',\n",
       " 'fromkeys',\n",
       " 'get',\n",
       " 'items',\n",
       " 'keys',\n",
       " 'pop',\n",
       " 'popitem',\n",
       " 'setdefault',\n",
       " 'update',\n",
       " 'values']"
      ]
     },
     "execution_count": 59,
     "metadata": {},
     "output_type": "execute_result"
    }
   ],
   "source": [
    "dir(dict)"
   ]
  },
  {
   "cell_type": "code",
   "execution_count": 60,
   "id": "736942bb-d623-4c24-b32e-e4f4c1ad95ee",
   "metadata": {},
   "outputs": [
    {
     "data": {
      "text/plain": [
       "{'m1': 35, 'm2': 75, 'english': 56, 'drawing': 45}"
      ]
     },
     "execution_count": 60,
     "metadata": {},
     "output_type": "execute_result"
    }
   ],
   "source": [
    "d"
   ]
  },
  {
   "cell_type": "code",
   "execution_count": 62,
   "id": "8599a8de-5292-4b09-b5f4-471d8c48ac29",
   "metadata": {},
   "outputs": [
    {
     "name": "stdout",
     "output_type": "stream",
     "text": [
      "dict_values([35, 75, 56, 45])\n"
     ]
    }
   ],
   "source": [
    "print(d.values())"
   ]
  },
  {
   "cell_type": "code",
   "execution_count": 63,
   "id": "1a15b1cc-9a1a-4a5d-b897-226a862101ec",
   "metadata": {},
   "outputs": [
    {
     "name": "stdout",
     "output_type": "stream",
     "text": [
      "dict_keys(['m1', 'm2', 'english', 'drawing'])\n"
     ]
    }
   ],
   "source": [
    "print(d.keys())"
   ]
  },
  {
   "cell_type": "code",
   "execution_count": 64,
   "id": "902079a5-58c4-4bd6-82d3-165c725ff34d",
   "metadata": {},
   "outputs": [
    {
     "name": "stdout",
     "output_type": "stream",
     "text": [
      "dict_items([('m1', 35), ('m2', 75), ('english', 56), ('drawing', 45)])\n"
     ]
    }
   ],
   "source": [
    "print(d.items())  # returns the both key and value pair in the form of tuple"
   ]
  },
  {
   "cell_type": "code",
   "execution_count": 66,
   "id": "61318c76-bb6b-4208-bdb1-092f86e8e915",
   "metadata": {},
   "outputs": [
    {
     "name": "stdout",
     "output_type": "stream",
     "text": [
      "35\n",
      "75\n",
      "56\n",
      "45\n"
     ]
    }
   ],
   "source": [
    "# iterating the dictionary\n",
    "for i in d.values():\n",
    "    print(i)"
   ]
  },
  {
   "cell_type": "code",
   "execution_count": 67,
   "id": "509e1504-d165-4097-bc00-4fbd23e041a3",
   "metadata": {},
   "outputs": [
    {
     "name": "stdout",
     "output_type": "stream",
     "text": [
      "m1\n",
      "m2\n",
      "english\n",
      "drawing\n"
     ]
    }
   ],
   "source": [
    "for i in d.keys():\n",
    "    print(i)"
   ]
  },
  {
   "cell_type": "code",
   "execution_count": 68,
   "id": "181dec9c-feee-4c78-a3dd-538fa1024611",
   "metadata": {},
   "outputs": [
    {
     "name": "stdout",
     "output_type": "stream",
     "text": [
      "('m1', 35)\n",
      "('m2', 75)\n",
      "('english', 56)\n",
      "('drawing', 45)\n"
     ]
    }
   ],
   "source": [
    "for i in d.items():\n",
    "    print(i)"
   ]
  },
  {
   "cell_type": "code",
   "execution_count": null,
   "id": "d700e1ea-d38f-4167-91ce-9e4e3acde9ea",
   "metadata": {},
   "outputs": [],
   "source": []
  }
 ],
 "metadata": {
  "kernelspec": {
   "display_name": "Python 3 (ipykernel)",
   "language": "python",
   "name": "python3"
  },
  "language_info": {
   "codemirror_mode": {
    "name": "ipython",
    "version": 3
   },
   "file_extension": ".py",
   "mimetype": "text/x-python",
   "name": "python",
   "nbconvert_exporter": "python",
   "pygments_lexer": "ipython3",
   "version": "3.12.1"
  }
 },
 "nbformat": 4,
 "nbformat_minor": 5
}
