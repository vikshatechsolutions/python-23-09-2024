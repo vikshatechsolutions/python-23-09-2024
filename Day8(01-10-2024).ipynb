{
 "cells": [
  {
   "cell_type": "code",
   "execution_count": 1,
   "id": "1b07a878-6ac7-406f-9c80-b04e6153179e",
   "metadata": {},
   "outputs": [
    {
     "data": {
      "text/plain": [
       "['__add__',\n",
       " '__class__',\n",
       " '__contains__',\n",
       " '__delattr__',\n",
       " '__dir__',\n",
       " '__doc__',\n",
       " '__eq__',\n",
       " '__format__',\n",
       " '__ge__',\n",
       " '__getattribute__',\n",
       " '__getitem__',\n",
       " '__getnewargs__',\n",
       " '__getstate__',\n",
       " '__gt__',\n",
       " '__hash__',\n",
       " '__init__',\n",
       " '__init_subclass__',\n",
       " '__iter__',\n",
       " '__le__',\n",
       " '__len__',\n",
       " '__lt__',\n",
       " '__mod__',\n",
       " '__mul__',\n",
       " '__ne__',\n",
       " '__new__',\n",
       " '__reduce__',\n",
       " '__reduce_ex__',\n",
       " '__repr__',\n",
       " '__rmod__',\n",
       " '__rmul__',\n",
       " '__setattr__',\n",
       " '__sizeof__',\n",
       " '__str__',\n",
       " '__subclasshook__',\n",
       " 'capitalize',\n",
       " 'casefold',\n",
       " 'center',\n",
       " 'count',\n",
       " 'encode',\n",
       " 'endswith',\n",
       " 'expandtabs',\n",
       " 'find',\n",
       " 'format',\n",
       " 'format_map',\n",
       " 'index',\n",
       " 'isalnum',\n",
       " 'isalpha',\n",
       " 'isascii',\n",
       " 'isdecimal',\n",
       " 'isdigit',\n",
       " 'isidentifier',\n",
       " 'islower',\n",
       " 'isnumeric',\n",
       " 'isprintable',\n",
       " 'isspace',\n",
       " 'istitle',\n",
       " 'isupper',\n",
       " 'join',\n",
       " 'ljust',\n",
       " 'lower',\n",
       " 'lstrip',\n",
       " 'maketrans',\n",
       " 'partition',\n",
       " 'removeprefix',\n",
       " 'removesuffix',\n",
       " 'replace',\n",
       " 'rfind',\n",
       " 'rindex',\n",
       " 'rjust',\n",
       " 'rpartition',\n",
       " 'rsplit',\n",
       " 'rstrip',\n",
       " 'split',\n",
       " 'splitlines',\n",
       " 'startswith',\n",
       " 'strip',\n",
       " 'swapcase',\n",
       " 'title',\n",
       " 'translate',\n",
       " 'upper',\n",
       " 'zfill']"
      ]
     },
     "execution_count": 1,
     "metadata": {},
     "output_type": "execute_result"
    }
   ],
   "source": [
    "dir(str)"
   ]
  },
  {
   "cell_type": "code",
   "execution_count": 2,
   "id": "581e34f3-cabe-44e0-8800-f6b888913f0e",
   "metadata": {},
   "outputs": [
    {
     "name": "stdout",
     "output_type": "stream",
     "text": [
      "Help on method_descriptor:\n",
      "\n",
      "format(...)\n",
      "    S.format(*args, **kwargs) -> str\n",
      "\n",
      "    Return a formatted version of S, using substitutions from args and kwargs.\n",
      "    The substitutions are identified by braces ('{' and '}').\n",
      "\n"
     ]
    }
   ],
   "source": [
    "help(str.format)"
   ]
  },
  {
   "cell_type": "code",
   "execution_count": 3,
   "id": "426ff16b-144c-404c-8b1a-99f97202bd59",
   "metadata": {},
   "outputs": [
    {
     "ename": "TypeError",
     "evalue": "can only concatenate str (not \"int\") to str",
     "output_type": "error",
     "traceback": [
      "\u001b[1;31m---------------------------------------------------------------------------\u001b[0m",
      "\u001b[1;31mTypeError\u001b[0m                                 Traceback (most recent call last)",
      "Cell \u001b[1;32mIn[3], line 1\u001b[0m\n\u001b[1;32m----> 1\u001b[0m \u001b[38;5;28mprint\u001b[39m(\u001b[38;5;124;43m\"\u001b[39;49m\u001b[38;5;124;43msample\u001b[39;49m\u001b[38;5;124;43m\"\u001b[39;49m\u001b[38;5;241;43m+\u001b[39;49m\u001b[38;5;241;43m123\u001b[39;49m)\n",
      "\u001b[1;31mTypeError\u001b[0m: can only concatenate str (not \"int\") to str"
     ]
    }
   ],
   "source": [
    "print(\"sample\"+123)"
   ]
  },
  {
   "cell_type": "code",
   "execution_count": 4,
   "id": "5c343662-a9cb-4e2e-989f-31a77ffa63ad",
   "metadata": {},
   "outputs": [
    {
     "name": "stdout",
     "output_type": "stream",
     "text": [
      "teststring\n"
     ]
    }
   ],
   "source": [
    "print(\"test\"+\"string\")"
   ]
  },
  {
   "cell_type": "code",
   "execution_count": 5,
   "id": "bed7a5a1-002b-42aa-aaed-63b77a5679d9",
   "metadata": {},
   "outputs": [
    {
     "name": "stdin",
     "output_type": "stream",
     "text": [
      " 30 \n",
      " 40\n"
     ]
    },
    {
     "name": "stdout",
     "output_type": "stream",
     "text": [
      "the sum of 30 and 40 is 70\n"
     ]
    }
   ],
   "source": [
    "a=int(input())\n",
    "b=int(input())\n",
    "c=a+b\n",
    "print(\"the sum of \"+ str(a)+' '+ 'and '+ str(b)+ ' is '+ str(c))"
   ]
  },
  {
   "cell_type": "code",
   "execution_count": 69,
   "id": "ea3f6f14-15da-405b-882f-a2322471a3a1",
   "metadata": {},
   "outputs": [
    {
     "name": "stdout",
     "output_type": "stream",
     "text": [
      "the sum of [20, 30, 40] and 40 is 70\n"
     ]
    }
   ],
   "source": [
    "print(\"the sum of {} and {} is {}\".format(a,b,c))"
   ]
  },
  {
   "cell_type": "code",
   "execution_count": 70,
   "id": "c71e62fe-f7b1-445e-a858-296da5e5f8b3",
   "metadata": {},
   "outputs": [
    {
     "name": "stdout",
     "output_type": "stream",
     "text": [
      "the sum of [20, 30, 40] and 40 is 70\n"
     ]
    }
   ],
   "source": [
    "print(\"the sum of {0} and {1} is {2}\".format(a,b,c))"
   ]
  },
  {
   "cell_type": "code",
   "execution_count": 71,
   "id": "06bded32-d2de-48ee-a416-15cd4149b71e",
   "metadata": {},
   "outputs": [
    {
     "name": "stdout",
     "output_type": "stream",
     "text": [
      "the sum of 40 and [20, 30, 40] is 70\n"
     ]
    }
   ],
   "source": [
    "print(\"the sum of {0} and {1} is {2}\".format(b,a,c))"
   ]
  },
  {
   "cell_type": "code",
   "execution_count": 72,
   "id": "b43287e6-3dc8-4031-b536-47e3b4faf166",
   "metadata": {},
   "outputs": [
    {
     "name": "stdout",
     "output_type": "stream",
     "text": [
      "the sum of 40 and [20, 30, 40] is 70\n"
     ]
    }
   ],
   "source": [
    "print(\"the sum of {1} and {0} is {2}\".format(a,b,c))"
   ]
  },
  {
   "cell_type": "code",
   "execution_count": 73,
   "id": "08ae12a7-8519-49f4-be94-9294902c9503",
   "metadata": {},
   "outputs": [
    {
     "name": "stdout",
     "output_type": "stream",
     "text": [
      "Help on method_descriptor:\n",
      "\n",
      "split(self, /, sep=None, maxsplit=-1)\n",
      "    Return a list of the substrings in the string, using sep as the separator string.\n",
      "\n",
      "      sep\n",
      "        The separator used to split the string.\n",
      "\n",
      "        When set to None (the default value), will split on any whitespace\n",
      "        character (including \\n \\r \\t \\f and spaces) and will discard\n",
      "        empty strings from the result.\n",
      "      maxsplit\n",
      "        Maximum number of splits (starting from the left).\n",
      "        -1 (the default value) means no limit.\n",
      "\n",
      "    Note, str.split() is mainly useful for data that has been intentionally\n",
      "    delimited.  With natural text that includes punctuation, consider using\n",
      "    the regular expression module.\n",
      "\n"
     ]
    }
   ],
   "source": [
    "help(str.split)"
   ]
  },
  {
   "cell_type": "code",
   "execution_count": 74,
   "id": "631c7f13-8df2-4be6-b16d-e8e2047bef0a",
   "metadata": {},
   "outputs": [
    {
     "data": {
      "text/plain": [
       "['a', 'bc', 'def', 'ghij', 'klmno']"
      ]
     },
     "execution_count": 74,
     "metadata": {},
     "output_type": "execute_result"
    }
   ],
   "source": [
    "a= \"a bc def ghij klmno\"\n",
    "a.split() # by default using space it will split the values"
   ]
  },
  {
   "cell_type": "code",
   "execution_count": 75,
   "id": "affd433e-7f26-4fb1-9b04-bb95c90af87c",
   "metadata": {},
   "outputs": [
    {
     "data": {
      "text/plain": [
       "['a,bc,def,ghij,klmno']"
      ]
     },
     "execution_count": 75,
     "metadata": {},
     "output_type": "execute_result"
    }
   ],
   "source": [
    "a=\"a,bc,def,ghij,klmno\"\n",
    "a.split()"
   ]
  },
  {
   "cell_type": "code",
   "execution_count": 76,
   "id": "74f529cc-b4b1-4489-9f7d-9dd4b48332f8",
   "metadata": {},
   "outputs": [
    {
     "data": {
      "text/plain": [
       "['a', 'bc', 'def', 'ghij', 'klmno']"
      ]
     },
     "execution_count": 76,
     "metadata": {},
     "output_type": "execute_result"
    }
   ],
   "source": [
    "a=\"a,bc,def,ghij,klmno\"\n",
    "a.split(',')"
   ]
  },
  {
   "cell_type": "code",
   "execution_count": 77,
   "id": "1c09fb03-08d9-48ef-a60b-dd2c566c520a",
   "metadata": {},
   "outputs": [
    {
     "data": {
      "text/plain": [
       "['', ',bc,def,ghij,klmno']"
      ]
     },
     "execution_count": 77,
     "metadata": {},
     "output_type": "execute_result"
    }
   ],
   "source": [
    "a=\"a,bc,def,ghij,klmno\"\n",
    "a.split('a')"
   ]
  },
  {
   "cell_type": "code",
   "execution_count": 78,
   "id": "b642a187-614b-4972-807e-1f584146fac1",
   "metadata": {},
   "outputs": [
    {
     "name": "stdin",
     "output_type": "stream",
     "text": [
      " 1 2 3 4 5\n"
     ]
    },
    {
     "data": {
      "text/plain": [
       "['1', '2', '3', '4', '5']"
      ]
     },
     "execution_count": 78,
     "metadata": {},
     "output_type": "execute_result"
    }
   ],
   "source": [
    "#  i/p-- 1 2 3 4 5\n",
    "# o/p--> 15\n",
    "a= input()\n",
    "a.split(' ')"
   ]
  },
  {
   "cell_type": "code",
   "execution_count": 79,
   "id": "acbf98d6-7a52-4110-b7fc-de52049dc481",
   "metadata": {},
   "outputs": [
    {
     "data": {
      "text/plain": [
       "True"
      ]
     },
     "execution_count": 79,
     "metadata": {},
     "output_type": "execute_result"
    }
   ],
   "source": [
    "a=\"python\"\n",
    "a.startswith('p')"
   ]
  },
  {
   "cell_type": "code",
   "execution_count": 80,
   "id": "26ab2528-f126-4fa4-b68b-a71b6a5083c2",
   "metadata": {},
   "outputs": [
    {
     "data": {
      "text/plain": [
       "True"
      ]
     },
     "execution_count": 80,
     "metadata": {},
     "output_type": "execute_result"
    }
   ],
   "source": [
    "a.endswith('n')\n"
   ]
  },
  {
   "cell_type": "code",
   "execution_count": 81,
   "id": "1c021c4d-fee1-4b32-a5fc-493ce1d08b61",
   "metadata": {},
   "outputs": [
    {
     "data": {
      "text/plain": [
       "False"
      ]
     },
     "execution_count": 81,
     "metadata": {},
     "output_type": "execute_result"
    }
   ],
   "source": [
    "a.endswith('0')"
   ]
  },
  {
   "cell_type": "code",
   "execution_count": 82,
   "id": "a32dff31-7389-4281-a24b-bb373cb05dc8",
   "metadata": {},
   "outputs": [
    {
     "ename": "TypeError",
     "evalue": "'str' object does not support item assignment",
     "output_type": "error",
     "traceback": [
      "\u001b[1;31m---------------------------------------------------------------------------\u001b[0m",
      "\u001b[1;31mTypeError\u001b[0m                                 Traceback (most recent call last)",
      "Cell \u001b[1;32mIn[82], line 2\u001b[0m\n\u001b[0;32m      1\u001b[0m s\u001b[38;5;241m=\u001b[39m\u001b[38;5;124m'\u001b[39m\u001b[38;5;124mteststring\u001b[39m\u001b[38;5;124m'\u001b[39m\n\u001b[1;32m----> 2\u001b[0m \u001b[43ms\u001b[49m\u001b[43m[\u001b[49m\u001b[38;5;241;43m0\u001b[39;49m\u001b[43m]\u001b[49m \u001b[38;5;241m=\u001b[39m \u001b[38;5;124m'\u001b[39m\u001b[38;5;124mr\u001b[39m\u001b[38;5;124m'\u001b[39m\n\u001b[0;32m      3\u001b[0m \u001b[38;5;66;03m# string are immutable in nature\u001b[39;00m\n",
      "\u001b[1;31mTypeError\u001b[0m: 'str' object does not support item assignment"
     ]
    }
   ],
   "source": [
    "s='teststring'\n",
    "s[0] = 'r'\n",
    "# string are immutable in nature"
   ]
  },
  {
   "cell_type": "markdown",
   "id": "2e7b03d3-1fc8-4039-9319-7084f42f77d8",
   "metadata": {},
   "source": [
    "#### Lists\n",
    "- mutable\n",
    "- collection of heterogeneous data\n",
    "- represent with []\n",
    "- ordered "
   ]
  },
  {
   "cell_type": "code",
   "execution_count": 83,
   "id": "fbf19102-c891-4e20-81a0-e4c4d3e12c01",
   "metadata": {},
   "outputs": [
    {
     "name": "stdout",
     "output_type": "stream",
     "text": [
      "<class 'list'>\n"
     ]
    }
   ],
   "source": [
    "l=[]\n",
    "print(type(l))"
   ]
  },
  {
   "cell_type": "code",
   "execution_count": 84,
   "id": "af7dcfd2-78e3-4e8e-b789-34ac3faa8ea5",
   "metadata": {},
   "outputs": [
    {
     "data": {
      "text/plain": [
       "[1, 2.3, (2+3j), 'test']"
      ]
     },
     "execution_count": 84,
     "metadata": {},
     "output_type": "execute_result"
    }
   ],
   "source": [
    "ll=[1, 2.3,2+3j, 'test']\n",
    "ll"
   ]
  },
  {
   "cell_type": "code",
   "execution_count": 85,
   "id": "ee9c8e7b-acad-47f8-94b9-f068de7fd5ad",
   "metadata": {},
   "outputs": [
    {
     "data": {
      "text/plain": [
       "[1, 2, 3, 4, 5]"
      ]
     },
     "execution_count": 85,
     "metadata": {},
     "output_type": "execute_result"
    }
   ],
   "source": [
    "l2=[1,2,3,4,5]\n",
    "l2"
   ]
  },
  {
   "cell_type": "code",
   "execution_count": 86,
   "id": "b0d38914-54da-42b7-8085-7f76c5e8f3a7",
   "metadata": {},
   "outputs": [
    {
     "data": {
      "text/plain": [
       "[1, 2.3, (2+3j), 'test']"
      ]
     },
     "execution_count": 86,
     "metadata": {},
     "output_type": "execute_result"
    }
   ],
   "source": [
    "ll"
   ]
  },
  {
   "cell_type": "code",
   "execution_count": 87,
   "id": "0413b524-dab0-4c49-80d0-7a9a9b06eb5a",
   "metadata": {},
   "outputs": [
    {
     "data": {
      "text/plain": [
       "4"
      ]
     },
     "execution_count": 87,
     "metadata": {},
     "output_type": "execute_result"
    }
   ],
   "source": [
    "len(ll)  # to give total no of elements in a list"
   ]
  },
  {
   "cell_type": "code",
   "execution_count": 88,
   "id": "86662dad-de39-42e3-ac0c-5fa5df6456e6",
   "metadata": {},
   "outputs": [
    {
     "data": {
      "text/plain": [
       "2.3"
      ]
     },
     "execution_count": 88,
     "metadata": {},
     "output_type": "execute_result"
    }
   ],
   "source": [
    "# to access the elements in your we can forward indexing or backward indexing\n",
    "ll[1] # forward indexing"
   ]
  },
  {
   "cell_type": "code",
   "execution_count": 89,
   "id": "1d75e2da-ebd0-4e3c-a0b0-98cc6d6ebbbd",
   "metadata": {},
   "outputs": [
    {
     "data": {
      "text/plain": [
       "'test'"
      ]
     },
     "execution_count": 89,
     "metadata": {},
     "output_type": "execute_result"
    }
   ],
   "source": [
    "ll[-1] # backward indexing\n"
   ]
  },
  {
   "cell_type": "code",
   "execution_count": 90,
   "id": "93a1c508-0ce0-4cb3-842e-28275ade0e06",
   "metadata": {},
   "outputs": [
    {
     "data": {
      "text/plain": [
       "'test'"
      ]
     },
     "execution_count": 90,
     "metadata": {},
     "output_type": "execute_result"
    }
   ],
   "source": [
    "ll[3]"
   ]
  },
  {
   "cell_type": "code",
   "execution_count": 91,
   "id": "aac418b9-45da-47c9-9b22-0816960f7513",
   "metadata": {},
   "outputs": [
    {
     "name": "stdout",
     "output_type": "stream",
     "text": [
      "1\n",
      "2\n",
      "3.3\n",
      "4\n",
      "5\n",
      "6\n",
      "7.7\n",
      "5\n",
      "6\n"
     ]
    }
   ],
   "source": [
    "# iterating the list\n",
    "li= [1,2,3.3,4,5,6,7.7,5,6]\n",
    "for i in li:\n",
    "    print(i)"
   ]
  },
  {
   "cell_type": "code",
   "execution_count": 92,
   "id": "7b53c215-f317-4d4c-acde-cc23eba57a1c",
   "metadata": {},
   "outputs": [
    {
     "name": "stdout",
     "output_type": "stream",
     "text": [
      "1\n",
      "2\n",
      "3.3\n",
      "4\n",
      "5\n",
      "6\n",
      "7.7\n",
      "5\n",
      "6\n"
     ]
    }
   ],
   "source": [
    "for i in range(0,len(li),1):\n",
    "    print(li[i])"
   ]
  },
  {
   "cell_type": "code",
   "execution_count": 93,
   "id": "75717042-78eb-4f9c-a0d1-9f2b0983eb55",
   "metadata": {},
   "outputs": [
    {
     "data": {
      "text/plain": [
       "['__add__',\n",
       " '__class__',\n",
       " '__class_getitem__',\n",
       " '__contains__',\n",
       " '__delattr__',\n",
       " '__delitem__',\n",
       " '__dir__',\n",
       " '__doc__',\n",
       " '__eq__',\n",
       " '__format__',\n",
       " '__ge__',\n",
       " '__getattribute__',\n",
       " '__getitem__',\n",
       " '__getstate__',\n",
       " '__gt__',\n",
       " '__hash__',\n",
       " '__iadd__',\n",
       " '__imul__',\n",
       " '__init__',\n",
       " '__init_subclass__',\n",
       " '__iter__',\n",
       " '__le__',\n",
       " '__len__',\n",
       " '__lt__',\n",
       " '__mul__',\n",
       " '__ne__',\n",
       " '__new__',\n",
       " '__reduce__',\n",
       " '__reduce_ex__',\n",
       " '__repr__',\n",
       " '__reversed__',\n",
       " '__rmul__',\n",
       " '__setattr__',\n",
       " '__setitem__',\n",
       " '__sizeof__',\n",
       " '__str__',\n",
       " '__subclasshook__',\n",
       " 'append',\n",
       " 'clear',\n",
       " 'copy',\n",
       " 'count',\n",
       " 'extend',\n",
       " 'index',\n",
       " 'insert',\n",
       " 'pop',\n",
       " 'remove',\n",
       " 'reverse',\n",
       " 'sort']"
      ]
     },
     "execution_count": 93,
     "metadata": {},
     "output_type": "execute_result"
    }
   ],
   "source": [
    "dir(list)"
   ]
  },
  {
   "cell_type": "code",
   "execution_count": 94,
   "id": "fb975755-fe8d-4330-917f-5c0d2935adc2",
   "metadata": {},
   "outputs": [
    {
     "name": "stdout",
     "output_type": "stream",
     "text": [
      "Help on method_descriptor:\n",
      "\n",
      "append(self, object, /)\n",
      "    Append object to the end of the list.\n",
      "\n"
     ]
    }
   ],
   "source": [
    "help(list.append)"
   ]
  },
  {
   "cell_type": "code",
   "execution_count": 95,
   "id": "2cb266c2-eb21-4d0e-8b5d-47c449925c96",
   "metadata": {},
   "outputs": [
    {
     "data": {
      "text/plain": [
       "[1, 2, 3.3, 4, 5, 6, 7.7, 5, 6]"
      ]
     },
     "execution_count": 95,
     "metadata": {},
     "output_type": "execute_result"
    }
   ],
   "source": [
    "li"
   ]
  },
  {
   "cell_type": "code",
   "execution_count": 96,
   "id": "91f6dfc3-3919-4daf-8706-d816a2c2fbba",
   "metadata": {},
   "outputs": [],
   "source": [
    "li.append(10)"
   ]
  },
  {
   "cell_type": "code",
   "execution_count": 97,
   "id": "a1a67721-fa4b-4fc5-bca5-144b3edeadbc",
   "metadata": {},
   "outputs": [
    {
     "data": {
      "text/plain": [
       "[1, 2, 3.3, 4, 5, 6, 7.7, 5, 6, 10]"
      ]
     },
     "execution_count": 97,
     "metadata": {},
     "output_type": "execute_result"
    }
   ],
   "source": [
    "li"
   ]
  },
  {
   "cell_type": "code",
   "execution_count": 98,
   "id": "dcdef9ae-8187-4c5a-aab9-8042bbf979d5",
   "metadata": {},
   "outputs": [
    {
     "name": "stdout",
     "output_type": "stream",
     "text": [
      "Help on method_descriptor:\n",
      "\n",
      "insert(self, index, object, /)\n",
      "    Insert object before index.\n",
      "\n"
     ]
    }
   ],
   "source": [
    "help(list.insert)"
   ]
  },
  {
   "cell_type": "code",
   "execution_count": 99,
   "id": "2e4d3d3b-7a85-43f0-aaed-0c667f08dd20",
   "metadata": {},
   "outputs": [],
   "source": [
    "li.insert(3,'insert_test')"
   ]
  },
  {
   "cell_type": "code",
   "execution_count": 100,
   "id": "81ddcd53-feca-4f29-81c8-6a997849a7e9",
   "metadata": {},
   "outputs": [
    {
     "data": {
      "text/plain": [
       "[1, 2, 3.3, 'insert_test', 4, 5, 6, 7.7, 5, 6, 10]"
      ]
     },
     "execution_count": 100,
     "metadata": {},
     "output_type": "execute_result"
    }
   ],
   "source": [
    "li"
   ]
  },
  {
   "cell_type": "code",
   "execution_count": 101,
   "id": "2272b75e-3cc7-4494-83b2-6098d906b3e2",
   "metadata": {},
   "outputs": [],
   "source": [
    "li.append(2)\n"
   ]
  },
  {
   "cell_type": "code",
   "execution_count": 102,
   "id": "07649f63-0e2d-40a8-aa31-b4eaa085f462",
   "metadata": {},
   "outputs": [
    {
     "data": {
      "text/plain": [
       "[1, 2, 3.3, 'insert_test', 4, 5, 6, 7.7, 5, 6, 10, 2]"
      ]
     },
     "execution_count": 102,
     "metadata": {},
     "output_type": "execute_result"
    }
   ],
   "source": [
    "li\n"
   ]
  },
  {
   "cell_type": "code",
   "execution_count": 103,
   "id": "0c07fc93-fee3-449f-a8e3-3e7412f287cb",
   "metadata": {},
   "outputs": [
    {
     "data": {
      "text/plain": [
       "2"
      ]
     },
     "execution_count": 103,
     "metadata": {},
     "output_type": "execute_result"
    }
   ],
   "source": [
    "li.count(2)"
   ]
  },
  {
   "cell_type": "code",
   "execution_count": 104,
   "id": "5ad79833-7184-41cd-b7ad-3067aa23a140",
   "metadata": {},
   "outputs": [
    {
     "data": {
      "text/plain": [
       "[1, 2, 3.3, 'insert_test', 4, 5, 6, 7.7, 5, 6, 10, 2]"
      ]
     },
     "execution_count": 104,
     "metadata": {},
     "output_type": "execute_result"
    }
   ],
   "source": [
    "li"
   ]
  },
  {
   "cell_type": "code",
   "execution_count": 105,
   "id": "2eaa275b-18d7-436c-bd02-fe7fca05b209",
   "metadata": {},
   "outputs": [
    {
     "data": {
      "text/plain": [
       "3"
      ]
     },
     "execution_count": 105,
     "metadata": {},
     "output_type": "execute_result"
    }
   ],
   "source": [
    "li.index('insert_test')"
   ]
  },
  {
   "cell_type": "code",
   "execution_count": 106,
   "id": "e0222275-74fa-499d-a019-697b0156371a",
   "metadata": {},
   "outputs": [
    {
     "name": "stdout",
     "output_type": "stream",
     "text": [
      "Help on method_descriptor:\n",
      "\n",
      "extend(self, iterable, /)\n",
      "    Extend list by appending elements from the iterable.\n",
      "\n"
     ]
    }
   ],
   "source": [
    "help(list.extend)"
   ]
  },
  {
   "cell_type": "code",
   "execution_count": 107,
   "id": "c314461a-dc43-4a58-9050-4f649dac133d",
   "metadata": {},
   "outputs": [],
   "source": [
    "li.extend(['a','b',30,40.5])"
   ]
  },
  {
   "cell_type": "code",
   "execution_count": 108,
   "id": "e024d545-fe90-4960-953a-6a7f8fb97bb3",
   "metadata": {},
   "outputs": [
    {
     "data": {
      "text/plain": [
       "[1, 2, 3.3, 'insert_test', 4, 5, 6, 7.7, 5, 6, 10, 2, 'a', 'b', 30, 40.5]"
      ]
     },
     "execution_count": 108,
     "metadata": {},
     "output_type": "execute_result"
    }
   ],
   "source": [
    "li"
   ]
  },
  {
   "cell_type": "code",
   "execution_count": 109,
   "id": "2e1d83ff-9442-4cfb-968d-3da87715406a",
   "metadata": {},
   "outputs": [],
   "source": [
    "li.append(['c','d',40,50.5])"
   ]
  },
  {
   "cell_type": "code",
   "execution_count": 110,
   "id": "179fefab-dd6a-4974-a726-7138dcfc0aaa",
   "metadata": {},
   "outputs": [
    {
     "data": {
      "text/plain": [
       "[1,\n",
       " 2,\n",
       " 3.3,\n",
       " 'insert_test',\n",
       " 4,\n",
       " 5,\n",
       " 6,\n",
       " 7.7,\n",
       " 5,\n",
       " 6,\n",
       " 10,\n",
       " 2,\n",
       " 'a',\n",
       " 'b',\n",
       " 30,\n",
       " 40.5,\n",
       " ['c', 'd', 40, 50.5]]"
      ]
     },
     "execution_count": 110,
     "metadata": {},
     "output_type": "execute_result"
    }
   ],
   "source": [
    "li"
   ]
  },
  {
   "cell_type": "code",
   "execution_count": 111,
   "id": "65987a60-80df-4bda-9d96-5a4194a86af6",
   "metadata": {},
   "outputs": [
    {
     "data": {
      "text/plain": [
       "[1,\n",
       " 2,\n",
       " 3.3,\n",
       " 'insert_test',\n",
       " 4,\n",
       " 5,\n",
       " 6,\n",
       " 7.7,\n",
       " 5,\n",
       " 6,\n",
       " 10,\n",
       " 2,\n",
       " 'a',\n",
       " 'b',\n",
       " 30,\n",
       " 40.5,\n",
       " ['c', 'd', 40, 50.5]]"
      ]
     },
     "execution_count": 111,
     "metadata": {},
     "output_type": "execute_result"
    }
   ],
   "source": [
    "li\n"
   ]
  },
  {
   "cell_type": "code",
   "execution_count": 112,
   "id": "e89ab88f-9a5f-4d5e-88eb-7ffbea01f37f",
   "metadata": {},
   "outputs": [
    {
     "data": {
      "text/plain": [
       "['c', 'd', 40, 50.5]"
      ]
     },
     "execution_count": 112,
     "metadata": {},
     "output_type": "execute_result"
    }
   ],
   "source": [
    "li.pop() # by default pop removes the last element of your list"
   ]
  },
  {
   "cell_type": "code",
   "execution_count": 113,
   "id": "1b7abfd7-f924-4cda-9df4-68d79b75b0b4",
   "metadata": {},
   "outputs": [
    {
     "data": {
      "text/plain": [
       "[1, 2, 3.3, 'insert_test', 4, 5, 6, 7.7, 5, 6, 10, 2, 'a', 'b', 30, 40.5]"
      ]
     },
     "execution_count": 113,
     "metadata": {},
     "output_type": "execute_result"
    }
   ],
   "source": [
    "li"
   ]
  },
  {
   "cell_type": "code",
   "execution_count": 114,
   "id": "4c8869d4-0890-4f36-9414-60c6c546f12b",
   "metadata": {},
   "outputs": [
    {
     "data": {
      "text/plain": [
       "30"
      ]
     },
     "execution_count": 114,
     "metadata": {},
     "output_type": "execute_result"
    }
   ],
   "source": [
    "li.pop(-2) # use the index no while using pop to del a particular element from your list"
   ]
  },
  {
   "cell_type": "code",
   "execution_count": 115,
   "id": "8fc09481-fc65-4738-975e-0a3863c7ef8f",
   "metadata": {},
   "outputs": [],
   "source": [
    "li.remove('insert_test') # need to provide the value that you want to remove from the list\n"
   ]
  },
  {
   "cell_type": "code",
   "execution_count": 47,
   "id": "6b676b31-1caf-461e-b5ed-e5b91e35bcd8",
   "metadata": {},
   "outputs": [
    {
     "data": {
      "text/plain": [
       "['__add__',\n",
       " '__class__',\n",
       " '__class_getitem__',\n",
       " '__contains__',\n",
       " '__delattr__',\n",
       " '__dir__',\n",
       " '__doc__',\n",
       " '__eq__',\n",
       " '__format__',\n",
       " '__ge__',\n",
       " '__getattribute__',\n",
       " '__getitem__',\n",
       " '__getnewargs__',\n",
       " '__getstate__',\n",
       " '__gt__',\n",
       " '__hash__',\n",
       " '__init__',\n",
       " '__init_subclass__',\n",
       " '__iter__',\n",
       " '__le__',\n",
       " '__len__',\n",
       " '__lt__',\n",
       " '__mul__',\n",
       " '__ne__',\n",
       " '__new__',\n",
       " '__reduce__',\n",
       " '__reduce_ex__',\n",
       " '__repr__',\n",
       " '__rmul__',\n",
       " '__setattr__',\n",
       " '__sizeof__',\n",
       " '__str__',\n",
       " '__subclasshook__',\n",
       " 'count',\n",
       " 'index']"
      ]
     },
     "execution_count": 47,
     "metadata": {},
     "output_type": "execute_result"
    }
   ],
   "source": [
    "dir(tuple)"
   ]
  },
  {
   "cell_type": "code",
   "execution_count": 49,
   "id": "072b10d5-965b-4388-a963-a4ef5b71b0ab",
   "metadata": {},
   "outputs": [
    {
     "data": {
      "text/plain": [
       "3"
      ]
     },
     "execution_count": 49,
     "metadata": {},
     "output_type": "execute_result"
    }
   ],
   "source": [
    "t=(1,2,3,3,4,5,6,6,6)\n",
    "t.count(6)"
   ]
  },
  {
   "cell_type": "code",
   "execution_count": 50,
   "id": "a4f8c680-da43-4934-90ba-7d141b639899",
   "metadata": {},
   "outputs": [
    {
     "data": {
      "text/plain": [
       "1"
      ]
     },
     "execution_count": 50,
     "metadata": {},
     "output_type": "execute_result"
    }
   ],
   "source": [
    "t.index(2)"
   ]
  },
  {
   "cell_type": "markdown",
   "id": "9a596b8c-0748-487c-9e09-d59424f44e1a",
   "metadata": {},
   "source": [
    "##### Dictionaries\n",
    "- represented with {}\n",
    "- unordered\n",
    "- access the data using keys and values\n",
    "- keys are immutable\n",
    "- values are mutable"
   ]
  },
  {
   "cell_type": "code",
   "execution_count": 52,
   "id": "38d62ae8-a30d-4cce-b658-51856d41cfe1",
   "metadata": {},
   "outputs": [
    {
     "name": "stdout",
     "output_type": "stream",
     "text": [
      "{}\n",
      "<class 'dict'>\n"
     ]
    }
   ],
   "source": [
    "d={}\n",
    "print(d)\n",
    "print(type(d))"
   ]
  },
  {
   "cell_type": "code",
   "execution_count": 53,
   "id": "b0c7e0c0-4f44-4585-a376-b7f04ddf6bc5",
   "metadata": {},
   "outputs": [
    {
     "name": "stdout",
     "output_type": "stream",
     "text": [
      "{'m1': 35, 'm2': 60, 'english': 56, 'drawing': 45}\n"
     ]
    }
   ],
   "source": [
    "# m1:35\n",
    "# m1,m2,english, drwaing-----keys\n",
    "# 35,60,56,45----->values\n",
    "d={\"m1\":35,\"m2\":60,\"english\":56,\"drawing\":45}\n",
    "print(d)"
   ]
  },
  {
   "cell_type": "code",
   "execution_count": 54,
   "id": "58b86001-aaef-475c-988b-54eab25d9247",
   "metadata": {},
   "outputs": [
    {
     "data": {
      "text/plain": [
       "56"
      ]
     },
     "execution_count": 54,
     "metadata": {},
     "output_type": "execute_result"
    }
   ],
   "source": [
    "d['english']"
   ]
  },
  {
   "cell_type": "code",
   "execution_count": 56,
   "id": "d8448d22-adb9-46da-be62-4a73c5419ae1",
   "metadata": {},
   "outputs": [
    {
     "data": {
      "text/plain": [
       "60"
      ]
     },
     "execution_count": 56,
     "metadata": {},
     "output_type": "execute_result"
    }
   ],
   "source": [
    "d['m2']"
   ]
  },
  {
   "cell_type": "code",
   "execution_count": 57,
   "id": "3fb4d299-71c6-4a72-965d-2196dc570bc1",
   "metadata": {},
   "outputs": [],
   "source": [
    "d['m2']=75"
   ]
  },
  {
   "cell_type": "code",
   "execution_count": 58,
   "id": "63973997-d150-46f0-99ed-b68eb7f6518f",
   "metadata": {},
   "outputs": [
    {
     "name": "stdout",
     "output_type": "stream",
     "text": [
      "{'m1': 35, 'm2': 75, 'english': 56, 'drawing': 45}\n"
     ]
    }
   ],
   "source": [
    "print(d)"
   ]
  },
  {
   "cell_type": "code",
   "execution_count": 59,
   "id": "d7f03b10-0f47-4672-a920-0cc8578e31f8",
   "metadata": {},
   "outputs": [
    {
     "data": {
      "text/plain": [
       "['__class__',\n",
       " '__class_getitem__',\n",
       " '__contains__',\n",
       " '__delattr__',\n",
       " '__delitem__',\n",
       " '__dir__',\n",
       " '__doc__',\n",
       " '__eq__',\n",
       " '__format__',\n",
       " '__ge__',\n",
       " '__getattribute__',\n",
       " '__getitem__',\n",
       " '__getstate__',\n",
       " '__gt__',\n",
       " '__hash__',\n",
       " '__init__',\n",
       " '__init_subclass__',\n",
       " '__ior__',\n",
       " '__iter__',\n",
       " '__le__',\n",
       " '__len__',\n",
       " '__lt__',\n",
       " '__ne__',\n",
       " '__new__',\n",
       " '__or__',\n",
       " '__reduce__',\n",
       " '__reduce_ex__',\n",
       " '__repr__',\n",
       " '__reversed__',\n",
       " '__ror__',\n",
       " '__setattr__',\n",
       " '__setitem__',\n",
       " '__sizeof__',\n",
       " '__str__',\n",
       " '__subclasshook__',\n",
       " 'clear',\n",
       " 'copy',\n",
       " 'fromkeys',\n",
       " 'get',\n",
       " 'items',\n",
       " 'keys',\n",
       " 'pop',\n",
       " 'popitem',\n",
       " 'setdefault',\n",
       " 'update',\n",
       " 'values']"
      ]
     },
     "execution_count": 59,
     "metadata": {},
     "output_type": "execute_result"
    }
   ],
   "source": [
    "dir(dict)"
   ]
  },
  {
   "cell_type": "code",
   "execution_count": 60,
   "id": "736942bb-d623-4c24-b32e-e4f4c1ad95ee",
   "metadata": {},
   "outputs": [
    {
     "data": {
      "text/plain": [
       "{'m1': 35, 'm2': 75, 'english': 56, 'drawing': 45}"
      ]
     },
     "execution_count": 60,
     "metadata": {},
     "output_type": "execute_result"
    }
   ],
   "source": [
    "d"
   ]
  },
  {
   "cell_type": "code",
   "execution_count": 62,
   "id": "8599a8de-5292-4b09-b5f4-471d8c48ac29",
   "metadata": {},
   "outputs": [
    {
     "name": "stdout",
     "output_type": "stream",
     "text": [
      "dict_values([35, 75, 56, 45])\n"
     ]
    }
   ],
   "source": [
    "print(d.values())"
   ]
  },
  {
   "cell_type": "code",
   "execution_count": 63,
   "id": "1a15b1cc-9a1a-4a5d-b897-226a862101ec",
   "metadata": {},
   "outputs": [
    {
     "name": "stdout",
     "output_type": "stream",
     "text": [
      "dict_keys(['m1', 'm2', 'english', 'drawing'])\n"
     ]
    }
   ],
   "source": [
    "print(d.keys())"
   ]
  },
  {
   "cell_type": "code",
   "execution_count": 64,
   "id": "902079a5-58c4-4bd6-82d3-165c725ff34d",
   "metadata": {},
   "outputs": [
    {
     "name": "stdout",
     "output_type": "stream",
     "text": [
      "dict_items([('m1', 35), ('m2', 75), ('english', 56), ('drawing', 45)])\n"
     ]
    }
   ],
   "source": [
    "print(d.items())  # returns the both key and value pair in the form of tuple"
   ]
  },
  {
   "cell_type": "code",
   "execution_count": 66,
   "id": "61318c76-bb6b-4208-bdb1-092f86e8e915",
   "metadata": {},
   "outputs": [
    {
     "name": "stdout",
     "output_type": "stream",
     "text": [
      "35\n",
      "75\n",
      "56\n",
      "45\n"
     ]
    }
   ],
   "source": [
    "# iterating the dictionary\n",
    "for i in d.values():\n",
    "    print(i)"
   ]
  },
  {
   "cell_type": "code",
   "execution_count": 67,
   "id": "509e1504-d165-4097-bc00-4fbd23e041a3",
   "metadata": {},
   "outputs": [
    {
     "name": "stdout",
     "output_type": "stream",
     "text": [
      "m1\n",
      "m2\n",
      "english\n",
      "drawing\n"
     ]
    }
   ],
   "source": [
    "for i in d.keys():\n",
    "    print(i)"
   ]
  },
  {
   "cell_type": "code",
   "execution_count": 68,
   "id": "181dec9c-feee-4c78-a3dd-538fa1024611",
   "metadata": {},
   "outputs": [
    {
     "name": "stdout",
     "output_type": "stream",
     "text": [
      "('m1', 35)\n",
      "('m2', 75)\n",
      "('english', 56)\n",
      "('drawing', 45)\n"
     ]
    }
   ],
   "source": [
    "for i in d.items():\n",
    "    print(i)"
   ]
  },
  {
   "cell_type": "code",
   "execution_count": null,
   "id": "d700e1ea-d38f-4167-91ce-9e4e3acde9ea",
   "metadata": {},
   "outputs": [],
   "source": []
  }
 ],
 "metadata": {
  "kernelspec": {
   "display_name": "Python 3 (ipykernel)",
   "language": "python",
   "name": "python3"
  },
  "language_info": {
   "codemirror_mode": {
    "name": "ipython",
    "version": 3
   },
   "file_extension": ".py",
   "mimetype": "text/x-python",
   "name": "python",
   "nbconvert_exporter": "python",
   "pygments_lexer": "ipython3",
   "version": "3.12.1"
  }
 },
 "nbformat": 4,
 "nbformat_minor": 5
}
