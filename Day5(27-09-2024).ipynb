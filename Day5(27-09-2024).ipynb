{
 "cells": [
  {
   "cell_type": "markdown",
   "id": "47d694c9-86a0-4bb9-a134-988ac5477da5",
   "metadata": {},
   "source": [
    "#### Flow control\n",
    "**describes the order in which the statements will be executed at run time**\n",
    "- Conditional statements\n",
    "    - if\n",
    "    - else\n",
    "    - if-elif\n",
    "    - if-elif-else\n",
    "- Iterative Statements\n",
    "  - for\n",
    "  - while\n",
    "- Transfer Statements\n",
    "  - break\n",
    "  - continue\n",
    "  - pass"
   ]
  },
  {
   "cell_type": "raw",
   "id": "700b0592-75a0-44e8-8d1d-a1268c32e0ab",
   "metadata": {},
   "source": [
    "# Conditional statements\n",
    "if condition :\n",
    "    statement\n",
    "    or\n",
    "if condition:\n",
    "    statement1\n",
    "    statement2\n",
    "    statement3"
   ]
  },
  {
   "cell_type": "raw",
   "id": "665fd1c8-c1d9-46fe-9799-533db2cfaea1",
   "metadata": {},
   "source": [
    "# if-else\n",
    "if condition:\n",
    "    statement1\n",
    "    statement2...\n",
    "    statementn\n",
    "else:\n",
    "    statement"
   ]
  },
  {
   "cell_type": "code",
   "execution_count": null,
   "id": "2370cb5d-f045-4811-9254-d62a5b1b8b60",
   "metadata": {},
   "outputs": [],
   "source": [
    "# if-else\n",
    "if condition:\n",
    "    statement1\n",
    "    statement2..\n",
    "    statementn\n",
    "elif:\n",
    "    statement1\n",
    "    statement2..\n",
    "    statementn\n",
    "else:\n",
    "    statement\n",
    "    "
   ]
  },
  {
   "cell_type": "code",
   "execution_count": 5,
   "id": "6ea4bddc-59f9-40de-b071-082d59afbab5",
   "metadata": {},
   "outputs": [
    {
     "name": "stdin",
     "output_type": "stream",
     "text": [
      "enter the value of a 24\n"
     ]
    },
    {
     "name": "stdout",
     "output_type": "stream",
     "text": [
      "finished\n"
     ]
    }
   ],
   "source": [
    "#write a program in python to print true only if the given value a is 10\n",
    "a=int(input(\"enter the value of a\"))\n",
    "if a==10:\n",
    "    print(\"true\")\n",
    "print(\"finished\")"
   ]
  },
  {
   "cell_type": "code",
   "execution_count": 7,
   "id": "1b934fbb-b941-4025-aae2-6e5d50642cf6",
   "metadata": {},
   "outputs": [
    {
     "name": "stdin",
     "output_type": "stream",
     "text": [
      "enter the value of a 23\n"
     ]
    },
    {
     "name": "stdout",
     "output_type": "stream",
     "text": [
      "False\n"
     ]
    }
   ],
   "source": [
    "a=int(input(\"enter the value of a\"))\n",
    "if a==10:\n",
    "    print(\"True\")\n",
    "else:\n",
    "    print(\"False\")"
   ]
  },
  {
   "cell_type": "code",
   "execution_count": 9,
   "id": "3754af62-796e-4fa5-be62-6201f10fdeec",
   "metadata": {},
   "outputs": [
    {
     "name": "stdin",
     "output_type": "stream",
     "text": [
      "Enter the value of a 2\n",
      "Enter the value of b 10\n",
      "Enter the value of c 15\n"
     ]
    },
    {
     "name": "stdout",
     "output_type": "stream",
     "text": [
      "c is bigger\n"
     ]
    }
   ],
   "source": [
    "# write a program to print the biggest number for 3 given numbers\n",
    "a= int(input(\"Enter the value of a\"))\n",
    "b= int(input(\"Enter the value of b\"))\n",
    "c= int(input(\"Enter the value of c\"))\n",
    "if a>b and a>c:\n",
    "    print(\"a is bigger\")\n",
    "elif b>a and b>c:\n",
    "    print(\"b is bigger\")\n",
    "else:\n",
    "    print(\"c is bigger\")"
   ]
  },
  {
   "cell_type": "code",
   "execution_count": 10,
   "id": "93292977-7f53-47d6-8ffa-8daed689c285",
   "metadata": {},
   "outputs": [
    {
     "ename": "IndentationError",
     "evalue": "expected an indented block after 'if' statement on line 4 (3150739426.py, line 5)",
     "output_type": "error",
     "traceback": [
      "\u001b[1;36m  Cell \u001b[1;32mIn[10], line 5\u001b[1;36m\u001b[0m\n\u001b[1;33m    print(\"a is bigger\")\u001b[0m\n\u001b[1;37m    ^\u001b[0m\n\u001b[1;31mIndentationError\u001b[0m\u001b[1;31m:\u001b[0m expected an indented block after 'if' statement on line 4\n"
     ]
    }
   ],
   "source": [
    "a= int(input(\"Enter the value of a\"))\n",
    "b= int(input(\"Enter the value of b\"))\n",
    "c= int(input(\"Enter the value of c\"))\n",
    "if a>b and a>c:\n",
    "print(\"a is bigger\")\n",
    "elif b>a and b>c:\n",
    "    print(\"b is bigger\")\n",
    "else:\n",
    "    print(\"c is bigger\")"
   ]
  },
  {
   "cell_type": "code",
   "execution_count": 18,
   "id": "fa6c96ea-35f8-4c99-a45d-52e5374e089f",
   "metadata": {},
   "outputs": [
    {
     "name": "stdin",
     "output_type": "stream",
     "text": [
      " 23\n"
     ]
    },
    {
     "name": "stdout",
     "output_type": "stream",
     "text": [
      "positive number\n"
     ]
    }
   ],
   "source": [
    "#write a program in python to check whether the given number is positive, negative or zero\n",
    "a=int(input())\n",
    "if a>=1:\n",
    "    print(\"positive number\")\n",
    "elif a<=-1:\n",
    "    print(\"negative number\")\n",
    "elif a==0:\n",
    "        print(\"zero\")"
   ]
  },
  {
   "cell_type": "code",
   "execution_count": 19,
   "id": "40f57632-4af6-414d-ab20-4b5ebf6f9319",
   "metadata": {},
   "outputs": [
    {
     "name": "stdin",
     "output_type": "stream",
     "text": [
      "enter a number 49\n"
     ]
    },
    {
     "name": "stdout",
     "output_type": "stream",
     "text": [
      "false\n"
     ]
    }
   ],
   "source": [
    "# write a program in python to dispaly true if the given number is multiple of 2 and positive\n",
    "a= int(input(\"enter a number\"))\n",
    "if a%2==0:\n",
    "    if a>0:\n",
    "        print(\"true\")\n",
    "else:\n",
    "    print(\"false\")"
   ]
  },
  {
   "cell_type": "markdown",
   "id": "f6c66ea2-76ed-4e68-8be6-319a9de01416",
   "metadata": {},
   "source": [
    "###### Iterative statements\n",
    "range(start, end, step)\n",
    "- start is inclusive\n",
    "- end is exclusive\n",
    "- step (by default increments to 1)"
   ]
  },
  {
   "cell_type": "code",
   "execution_count": 20,
   "id": "07b73765-dc95-4017-be5e-261d7e665f36",
   "metadata": {},
   "outputs": [
    {
     "name": "stdout",
     "output_type": "stream",
     "text": [
      "Help on class range in module builtins:\n",
      "\n",
      "class range(object)\n",
      " |  range(stop) -> range object\n",
      " |  range(start, stop[, step]) -> range object\n",
      " |\n",
      " |  Return an object that produces a sequence of integers from start (inclusive)\n",
      " |  to stop (exclusive) by step.  range(i, j) produces i, i+1, i+2, ..., j-1.\n",
      " |  start defaults to 0, and stop is omitted!  range(4) produces 0, 1, 2, 3.\n",
      " |  These are exactly the valid indices for a list of 4 elements.\n",
      " |  When step is given, it specifies the increment (or decrement).\n",
      " |\n",
      " |  Methods defined here:\n",
      " |\n",
      " |  __bool__(self, /)\n",
      " |      True if self else False\n",
      " |\n",
      " |  __contains__(self, key, /)\n",
      " |      Return bool(key in self).\n",
      " |\n",
      " |  __eq__(self, value, /)\n",
      " |      Return self==value.\n",
      " |\n",
      " |  __ge__(self, value, /)\n",
      " |      Return self>=value.\n",
      " |\n",
      " |  __getattribute__(self, name, /)\n",
      " |      Return getattr(self, name).\n",
      " |\n",
      " |  __getitem__(self, key, /)\n",
      " |      Return self[key].\n",
      " |\n",
      " |  __gt__(self, value, /)\n",
      " |      Return self>value.\n",
      " |\n",
      " |  __hash__(self, /)\n",
      " |      Return hash(self).\n",
      " |\n",
      " |  __iter__(self, /)\n",
      " |      Implement iter(self).\n",
      " |\n",
      " |  __le__(self, value, /)\n",
      " |      Return self<=value.\n",
      " |\n",
      " |  __len__(self, /)\n",
      " |      Return len(self).\n",
      " |\n",
      " |  __lt__(self, value, /)\n",
      " |      Return self<value.\n",
      " |\n",
      " |  __ne__(self, value, /)\n",
      " |      Return self!=value.\n",
      " |\n",
      " |  __reduce__(...)\n",
      " |      Helper for pickle.\n",
      " |\n",
      " |  __repr__(self, /)\n",
      " |      Return repr(self).\n",
      " |\n",
      " |  __reversed__(...)\n",
      " |      Return a reverse iterator.\n",
      " |\n",
      " |  count(...)\n",
      " |      rangeobject.count(value) -> integer -- return number of occurrences of value\n",
      " |\n",
      " |  index(...)\n",
      " |      rangeobject.index(value) -> integer -- return index of value.\n",
      " |      Raise ValueError if the value is not present.\n",
      " |\n",
      " |  ----------------------------------------------------------------------\n",
      " |  Static methods defined here:\n",
      " |\n",
      " |  __new__(*args, **kwargs) from builtins.type\n",
      " |      Create and return a new object.  See help(type) for accurate signature.\n",
      " |\n",
      " |  ----------------------------------------------------------------------\n",
      " |  Data descriptors defined here:\n",
      " |\n",
      " |  start\n",
      " |\n",
      " |  step\n",
      " |\n",
      " |  stop\n",
      "\n"
     ]
    }
   ],
   "source": [
    "help(range)"
   ]
  },
  {
   "cell_type": "code",
   "execution_count": 21,
   "id": "7afb6d5a-1454-4ec0-9168-1083b79c54ef",
   "metadata": {},
   "outputs": [
    {
     "data": {
      "text/plain": [
       "range(1, 10)"
      ]
     },
     "execution_count": 21,
     "metadata": {},
     "output_type": "execute_result"
    }
   ],
   "source": [
    "range(1,10,1)---->1,2,3,4,5,6,7,8,9"
   ]
  },
  {
   "cell_type": "code",
   "execution_count": 22,
   "id": "af1c2c62-9543-49c7-8268-3d5225c9fc57",
   "metadata": {},
   "outputs": [
    {
     "data": {
      "text/plain": [
       "range(1, 10, 2)"
      ]
     },
     "execution_count": 22,
     "metadata": {},
     "output_type": "execute_result"
    }
   ],
   "source": [
    "range(1,10,2)---->1,3,5,7,9"
   ]
  },
  {
   "cell_type": "code",
   "execution_count": null,
   "id": "c43bb13b-376e-4042-8e7b-1c0f594c2f2c",
   "metadata": {},
   "outputs": [],
   "source": [
    "range(10)\n",
    "end value-->10\n",
    "we did not provide start value--- defaults to 0\n",
    "we did not provide step value--- defaults to 1\n",
    "\n",
    "result---->0,1,2,3,4,5,6,7,8,9"
   ]
  },
  {
   "cell_type": "markdown",
   "id": "34885f5b-cc34-4482-9c17-55e47499d9f1",
   "metadata": {},
   "source": [
    "range(2,20,2)---->2,4,6,8,10,12,14,16,18\n",
    "start-2\n",
    "end value--20 which is exclusive i,e sequence will stop at 19\n",
    "step value--2\n",
    "2+2=4\n",
    "4+2=6"
   ]
  },
  {
   "cell_type": "raw",
   "id": "ce409af8-d2e9-4afd-a704-b687f5320890",
   "metadata": {},
   "source": [
    "for variable in range(n):\n",
    "    statement1\n",
    "    statement2\n",
    "    statement3\n",
    "    ...\n",
    "    staementsn"
   ]
  },
  {
   "cell_type": "code",
   "execution_count": 27,
   "id": "77bbeedd-6ea4-4173-b85c-3b57d5f3cad9",
   "metadata": {},
   "outputs": [
    {
     "name": "stdout",
     "output_type": "stream",
     "text": [
      "0 python\n",
      "1 python\n",
      "2 python\n",
      "3 python\n",
      "4 python\n",
      "5 python\n",
      "6 python\n",
      "7 python\n",
      "8 python\n",
      "9 python\n"
     ]
    }
   ],
   "source": [
    "# to print a string python 10 times\n",
    "for i in range(10):\n",
    "    print(i,\"python\")"
   ]
  },
  {
   "cell_type": "code",
   "execution_count": 28,
   "id": "cd539784-6c81-4b62-bc23-e8c57508b6b2",
   "metadata": {},
   "outputs": [
    {
     "name": "stdout",
     "output_type": "stream",
     "text": [
      "1\n",
      "2\n",
      "3\n",
      "4\n",
      "5\n",
      "6\n",
      "7\n",
      "8\n",
      "9\n"
     ]
    }
   ],
   "source": [
    "for i in range(1,10,1):\n",
    "    print(i)"
   ]
  },
  {
   "cell_type": "code",
   "execution_count": 31,
   "id": "51181039-7f49-4179-a0b0-d9e316295bb2",
   "metadata": {},
   "outputs": [
    {
     "name": "stdout",
     "output_type": "stream",
     "text": [
      "1,2,3,4,5,6,7,8,9,"
     ]
    }
   ],
   "source": [
    "for i in range (1,10,1):\n",
    "     print(i,end=\",\")"
   ]
  },
  {
   "cell_type": "code",
   "execution_count": 30,
   "id": "3dff84e5-b674-4c15-88b6-418366a61b25",
   "metadata": {},
   "outputs": [
    {
     "name": "stdout",
     "output_type": "stream",
     "text": [
      "1,6,11,16,21,26,31,36,41,46,51,56,61,66,71,76,81,86,91,96,"
     ]
    }
   ],
   "source": [
    "for i in range(1,100,5):\n",
    "    print(i,end=',')"
   ]
  },
  {
   "cell_type": "code",
   "execution_count": null,
   "id": "96f56412-6c22-42db-b178-70e5855c9435",
   "metadata": {},
   "outputs": [],
   "source": []
  }
 ],
 "metadata": {
  "kernelspec": {
   "display_name": "Python 3 (ipykernel)",
   "language": "python",
   "name": "python3"
  },
  "language_info": {
   "codemirror_mode": {
    "name": "ipython",
    "version": 3
   },
   "file_extension": ".py",
   "mimetype": "text/x-python",
   "name": "python",
   "nbconvert_exporter": "python",
   "pygments_lexer": "ipython3",
   "version": "3.12.1"
  }
 },
 "nbformat": 4,
 "nbformat_minor": 5
}
