{
 "cells": [
  {
   "cell_type": "raw",
   "id": "16f848e4",
   "metadata": {},
   "source": [
    "# Regular expressions continution\n",
    "'[]'---> to match any characters provided\n",
    "'+'----> for one or more occurences\n",
    "*---> zero or more occurences\n",
    "^ or /A --> to match start of the string\n",
    "$ or /Z---> to match end of te string\n",
    ". ----> to match any character\n",
    "{}----> to match exactly the given number of characters"
   ]
  },
  {
   "cell_type": "code",
   "execution_count": 3,
   "id": "10c322ad",
   "metadata": {},
   "outputs": [
    {
     "data": {
      "text/plain": [
       "<re.Match object; span=(0, 9), match='missisipi'>"
      ]
     },
     "execution_count": 3,
     "metadata": {},
     "output_type": "execute_result"
    }
   ],
   "source": [
    "import re\n",
    "re.search('^m.{5,10}i$', 'missisipi')"
   ]
  },
  {
   "cell_type": "code",
   "execution_count": 6,
   "id": "6d961fa7",
   "metadata": {},
   "outputs": [
    {
     "data": {
      "text/plain": [
       "<re.Match object; span=(0, 7), match='misiipi'>"
      ]
     },
     "execution_count": 6,
     "metadata": {},
     "output_type": "execute_result"
    }
   ],
   "source": [
    "\n",
    "re.search('^m.{5,10}i$', 'misiipi')"
   ]
  },
  {
   "cell_type": "code",
   "execution_count": 7,
   "id": "ac28edc3",
   "metadata": {},
   "outputs": [],
   "source": [
    "\n",
    "re.search('^m.{5,10}i$', 'misipi')"
   ]
  },
  {
   "cell_type": "code",
   "execution_count": 9,
   "id": "42802bdb",
   "metadata": {},
   "outputs": [],
   "source": [
    "\n",
    "re.search('^m.{5,10}i$', 'misiiiiippppppi')"
   ]
  },
  {
   "cell_type": "code",
   "execution_count": 10,
   "id": "7ddf85d5",
   "metadata": {},
   "outputs": [
    {
     "data": {
      "text/plain": [
       "<re.Match object; span=(0, 1), match='1'>"
      ]
     },
     "execution_count": 10,
     "metadata": {},
     "output_type": "execute_result"
    }
   ],
   "source": [
    "#\\d is used to match digits\n",
    "re.search('\\d','12345')"
   ]
  },
  {
   "cell_type": "code",
   "execution_count": 11,
   "id": "19404eef",
   "metadata": {},
   "outputs": [
    {
     "data": {
      "text/plain": [
       "<re.Match object; span=(0, 10), match='1234567890'>"
      ]
     },
     "execution_count": 11,
     "metadata": {},
     "output_type": "execute_result"
    }
   ],
   "source": [
    "re.search('\\d{10}','1234567890')"
   ]
  },
  {
   "cell_type": "code",
   "execution_count": 12,
   "id": "0443a003",
   "metadata": {},
   "outputs": [],
   "source": [
    "re.search('\\d{10}','123456789')"
   ]
  },
  {
   "cell_type": "code",
   "execution_count": 14,
   "id": "9a36bd1d",
   "metadata": {},
   "outputs": [
    {
     "data": {
      "text/plain": [
       "<re.Match object; span=(0, 10), match='1234567890'>"
      ]
     },
     "execution_count": 14,
     "metadata": {},
     "output_type": "execute_result"
    }
   ],
   "source": [
    "re.search('\\d{10}','123456789000')"
   ]
  },
  {
   "cell_type": "code",
   "execution_count": 15,
   "id": "75ef8322",
   "metadata": {},
   "outputs": [
    {
     "data": {
      "text/plain": [
       "<re.Match object; span=(0, 5), match='12345'>"
      ]
     },
     "execution_count": 15,
     "metadata": {},
     "output_type": "execute_result"
    }
   ],
   "source": [
    "re.search('\\d{5,10}','12345')"
   ]
  },
  {
   "cell_type": "code",
   "execution_count": 16,
   "id": "6614b562",
   "metadata": {},
   "outputs": [
    {
     "data": {
      "text/plain": [
       "<re.Match object; span=(4, 5), match='@'>"
      ]
     },
     "execution_count": 16,
     "metadata": {},
     "output_type": "execute_result"
    }
   ],
   "source": [
    "#\\D ---> other than digits\n",
    "re.search(\"\\D\", '1234@%')"
   ]
  },
  {
   "cell_type": "code",
   "execution_count": 18,
   "id": "bb9f5dcd",
   "metadata": {},
   "outputs": [
    {
     "data": {
      "text/plain": [
       "<re.Match object; span=(4, 9), match='@%%%%'>"
      ]
     },
     "execution_count": 18,
     "metadata": {},
     "output_type": "execute_result"
    }
   ],
   "source": [
    "re.search(\"\\D+\", '1234@%%%%')"
   ]
  },
  {
   "cell_type": "code",
   "execution_count": 19,
   "id": "971d78c7",
   "metadata": {},
   "outputs": [
    {
     "data": {
      "text/plain": [
       "<re.Match object; span=(3, 4), match=' '>"
      ]
     },
     "execution_count": 19,
     "metadata": {},
     "output_type": "execute_result"
    }
   ],
   "source": [
    "#\\s is used to match any spaces\n",
    "# \\S is used to match anything other than spaces\n",
    "re.search('\\s', \"123  456\")"
   ]
  },
  {
   "cell_type": "code",
   "execution_count": 21,
   "id": "1e61b742",
   "metadata": {},
   "outputs": [
    {
     "data": {
      "text/plain": [
       "<re.Match object; span=(2, 5), match='123'>"
      ]
     },
     "execution_count": 21,
     "metadata": {},
     "output_type": "execute_result"
    }
   ],
   "source": [
    "re.search('\\S+', \"  123  456\")"
   ]
  },
  {
   "cell_type": "code",
   "execution_count": 22,
   "id": "f971c36f",
   "metadata": {},
   "outputs": [
    {
     "data": {
      "text/plain": [
       "<re.Match object; span=(0, 8), match='_123ASas'>"
      ]
     },
     "execution_count": 22,
     "metadata": {},
     "output_type": "execute_result"
    }
   ],
   "source": [
    "#\\w is used to match alphanumeric(lower case and upper case, digits and underscore)\n",
    "#\\W is used to match only special characters\n",
    "re.search(\"\\w+\",\"_123ASas\")"
   ]
  },
  {
   "cell_type": "code",
   "execution_count": 23,
   "id": "18a52391",
   "metadata": {},
   "outputs": [
    {
     "data": {
      "text/plain": [
       "<re.Match object; span=(8, 9), match='%'>"
      ]
     },
     "execution_count": 23,
     "metadata": {},
     "output_type": "execute_result"
    }
   ],
   "source": [
    "re.search(\"\\W\",\"_123ASas%\")"
   ]
  },
  {
   "cell_type": "markdown",
   "id": "4afb8a42",
   "metadata": {},
   "source": [
    "##### Mobile number validation\n",
    "- it should have 10 digits\n",
    "- it should contain digits only\n",
    "- it should start with 6,7,8,9\n",
    "- 10 digit number should start with +91 or 0"
   ]
  },
  {
   "cell_type": "code",
   "execution_count": 25,
   "id": "f51f47a8",
   "metadata": {},
   "outputs": [
    {
     "name": "stdout",
     "output_type": "stream",
     "text": [
      "1234567890\n",
      "Please enter a valid no\n"
     ]
    }
   ],
   "source": [
    "pattern= '^[6789]\\d{9}$'\n",
    "mob_no= input()\n",
    "if re.match(pattern,mob_no):\n",
    "    print(\"valid no\")\n",
    "else:\n",
    "    print(\"Please enter a valid no\")"
   ]
  },
  {
   "cell_type": "code",
   "execution_count": 27,
   "id": "a5d412cb",
   "metadata": {},
   "outputs": [
    {
     "name": "stdout",
     "output_type": "stream",
     "text": [
      "+91123456789\n",
      "Please enter a valid no\n"
     ]
    }
   ],
   "source": [
    "pattern='^[+][9][1][6789]\\d{9}$'\n",
    "mob_no= input()\n",
    "if re.match(pattern,mob_no):\n",
    "    print(\"valid no\")\n",
    "else:\n",
    "    print(\"Please enter a valid no\")"
   ]
  },
  {
   "cell_type": "code",
   "execution_count": null,
   "id": "fe224e3f",
   "metadata": {},
   "outputs": [],
   "source": [
    "pattern='^[0][6789]\\d{9}$' #if mobile no starts with zero"
   ]
  },
  {
   "cell_type": "markdown",
   "id": "9a451c01",
   "metadata": {},
   "source": [
    "##### Email validation\n",
    "- username is not case sensitive\n",
    "- username should be in range 8-25 characters\n",
    "- domain gmail.com\n",
    "- can start with characters or digits"
   ]
  },
  {
   "cell_type": "code",
   "execution_count": 55,
   "id": "22764ed5",
   "metadata": {},
   "outputs": [],
   "source": [
    "pattern='^[a-zA-Z0-9][0-9a-zA-z_]{7-24}[0-9a-zA-z][@][g][m][a][i][l][.][c][o][m]$'\n",
    "re.match(pattern,\"sandhyagangadharan1283@gmail.com\")"
   ]
  },
  {
   "cell_type": "code",
   "execution_count": 56,
   "id": "5cf98882",
   "metadata": {},
   "outputs": [],
   "source": [
    "re.match(pattern,'sandhyagangadharan1283@gmail.com')"
   ]
  },
  {
   "cell_type": "code",
   "execution_count": 57,
   "id": "2d491ad1",
   "metadata": {},
   "outputs": [],
   "source": [
    "re.match(pattern,'testregularexpres@gmail.com')"
   ]
  },
  {
   "cell_type": "code",
   "execution_count": 58,
   "id": "212eb935",
   "metadata": {},
   "outputs": [],
   "source": [
    "re.search(pattern,\"testreexpre@gmail.com\")"
   ]
  },
  {
   "cell_type": "code",
   "execution_count": null,
   "id": "c3466863",
   "metadata": {},
   "outputs": [],
   "source": [
    "### roll no validation "
   ]
  },
  {
   "cell_type": "markdown",
   "id": "9b910ebf",
   "metadata": {},
   "source": [
    "##### File handling\n",
    "- read\n",
    "- write \n",
    "- append "
   ]
  },
  {
   "cell_type": "code",
   "execution_count": 59,
   "id": "ab89b830",
   "metadata": {
    "collapsed": true
   },
   "outputs": [
    {
     "name": "stdout",
     "output_type": "stream",
     "text": [
      "Help on built-in function open in module io:\n",
      "\n",
      "open(file, mode='r', buffering=-1, encoding=None, errors=None, newline=None, closefd=True, opener=None)\n",
      "    Open file and return a stream.  Raise OSError upon failure.\n",
      "    \n",
      "    file is either a text or byte string giving the name (and the path\n",
      "    if the file isn't in the current working directory) of the file to\n",
      "    be opened or an integer file descriptor of the file to be\n",
      "    wrapped. (If a file descriptor is given, it is closed when the\n",
      "    returned I/O object is closed, unless closefd is set to False.)\n",
      "    \n",
      "    mode is an optional string that specifies the mode in which the file\n",
      "    is opened. It defaults to 'r' which means open for reading in text\n",
      "    mode.  Other common values are 'w' for writing (truncating the file if\n",
      "    it already exists), 'x' for creating and writing to a new file, and\n",
      "    'a' for appending (which on some Unix systems, means that all writes\n",
      "    append to the end of the file regardless of the current seek position).\n",
      "    In text mode, if encoding is not specified the encoding used is platform\n",
      "    dependent: locale.getpreferredencoding(False) is called to get the\n",
      "    current locale encoding. (For reading and writing raw bytes use binary\n",
      "    mode and leave encoding unspecified.) The available modes are:\n",
      "    \n",
      "    ========= ===============================================================\n",
      "    Character Meaning\n",
      "    --------- ---------------------------------------------------------------\n",
      "    'r'       open for reading (default)\n",
      "    'w'       open for writing, truncating the file first\n",
      "    'x'       create a new file and open it for writing\n",
      "    'a'       open for writing, appending to the end of the file if it exists\n",
      "    'b'       binary mode\n",
      "    't'       text mode (default)\n",
      "    '+'       open a disk file for updating (reading and writing)\n",
      "    'U'       universal newline mode (deprecated)\n",
      "    ========= ===============================================================\n",
      "    \n",
      "    The default mode is 'rt' (open for reading text). For binary random\n",
      "    access, the mode 'w+b' opens and truncates the file to 0 bytes, while\n",
      "    'r+b' opens the file without truncation. The 'x' mode implies 'w' and\n",
      "    raises an `FileExistsError` if the file already exists.\n",
      "    \n",
      "    Python distinguishes between files opened in binary and text modes,\n",
      "    even when the underlying operating system doesn't. Files opened in\n",
      "    binary mode (appending 'b' to the mode argument) return contents as\n",
      "    bytes objects without any decoding. In text mode (the default, or when\n",
      "    't' is appended to the mode argument), the contents of the file are\n",
      "    returned as strings, the bytes having been first decoded using a\n",
      "    platform-dependent encoding or using the specified encoding if given.\n",
      "    \n",
      "    'U' mode is deprecated and will raise an exception in future versions\n",
      "    of Python.  It has no effect in Python 3.  Use newline to control\n",
      "    universal newlines mode.\n",
      "    \n",
      "    buffering is an optional integer used to set the buffering policy.\n",
      "    Pass 0 to switch buffering off (only allowed in binary mode), 1 to select\n",
      "    line buffering (only usable in text mode), and an integer > 1 to indicate\n",
      "    the size of a fixed-size chunk buffer.  When no buffering argument is\n",
      "    given, the default buffering policy works as follows:\n",
      "    \n",
      "    * Binary files are buffered in fixed-size chunks; the size of the buffer\n",
      "      is chosen using a heuristic trying to determine the underlying device's\n",
      "      \"block size\" and falling back on `io.DEFAULT_BUFFER_SIZE`.\n",
      "      On many systems, the buffer will typically be 4096 or 8192 bytes long.\n",
      "    \n",
      "    * \"Interactive\" text files (files for which isatty() returns True)\n",
      "      use line buffering.  Other text files use the policy described above\n",
      "      for binary files.\n",
      "    \n",
      "    encoding is the name of the encoding used to decode or encode the\n",
      "    file. This should only be used in text mode. The default encoding is\n",
      "    platform dependent, but any encoding supported by Python can be\n",
      "    passed.  See the codecs module for the list of supported encodings.\n",
      "    \n",
      "    errors is an optional string that specifies how encoding errors are to\n",
      "    be handled---this argument should not be used in binary mode. Pass\n",
      "    'strict' to raise a ValueError exception if there is an encoding error\n",
      "    (the default of None has the same effect), or pass 'ignore' to ignore\n",
      "    errors. (Note that ignoring encoding errors can lead to data loss.)\n",
      "    See the documentation for codecs.register or run 'help(codecs.Codec)'\n",
      "    for a list of the permitted encoding error strings.\n",
      "    \n",
      "    newline controls how universal newlines works (it only applies to text\n",
      "    mode). It can be None, '', '\\n', '\\r', and '\\r\\n'.  It works as\n",
      "    follows:\n",
      "    \n",
      "    * On input, if newline is None, universal newlines mode is\n",
      "      enabled. Lines in the input can end in '\\n', '\\r', or '\\r\\n', and\n",
      "      these are translated into '\\n' before being returned to the\n",
      "      caller. If it is '', universal newline mode is enabled, but line\n",
      "      endings are returned to the caller untranslated. If it has any of\n",
      "      the other legal values, input lines are only terminated by the given\n",
      "      string, and the line ending is returned to the caller untranslated.\n",
      "    \n",
      "    * On output, if newline is None, any '\\n' characters written are\n",
      "      translated to the system default line separator, os.linesep. If\n",
      "      newline is '' or '\\n', no translation takes place. If newline is any\n",
      "      of the other legal values, any '\\n' characters written are translated\n",
      "      to the given string.\n",
      "    \n",
      "    If closefd is False, the underlying file descriptor will be kept open\n",
      "    when the file is closed. This does not work when a file name is given\n",
      "    and must be True in that case.\n",
      "    \n",
      "    A custom opener can be used by passing a callable as *opener*. The\n",
      "    underlying file descriptor for the file object is then obtained by\n",
      "    calling *opener* with (*file*, *flags*). *opener* must return an open\n",
      "    file descriptor (passing os.open as *opener* results in functionality\n",
      "    similar to passing None).\n",
      "    \n",
      "    open() returns a file object whose type depends on the mode, and\n",
      "    through which the standard file operations such as reading and writing\n",
      "    are performed. When open() is used to open a file in a text mode ('w',\n",
      "    'r', 'wt', 'rt', etc.), it returns a TextIOWrapper. When used to open\n",
      "    a file in a binary mode, the returned class varies: in read binary\n",
      "    mode, it returns a BufferedReader; in write binary and append binary\n",
      "    modes, it returns a BufferedWriter, and in read/write mode, it returns\n",
      "    a BufferedRandom.\n",
      "    \n",
      "    It is also possible to use a string or bytearray as a file for both\n",
      "    reading and writing. For strings StringIO can be used like a file\n",
      "    opened in a text mode, and for bytes a BytesIO can be used like a file\n",
      "    opened in a binary mode.\n",
      "\n"
     ]
    }
   ],
   "source": [
    "help(open)"
   ]
  },
  {
   "cell_type": "code",
   "execution_count": 3,
   "id": "0809cd07",
   "metadata": {},
   "outputs": [
    {
     "name": "stdout",
     "output_type": "stream",
     "text": [
      "<_io.TextIOWrapper name='sample.txt' mode='r' encoding='cp1252'>\n"
     ]
    }
   ],
   "source": [
    "f=open('sample.txt')\n",
    "print(f)"
   ]
  },
  {
   "cell_type": "code",
   "execution_count": 5,
   "id": "d4ec4909",
   "metadata": {},
   "outputs": [
    {
     "name": "stdout",
     "output_type": "stream",
     "text": [
      "<_io.TextIOWrapper name='sample.txt' mode='r' encoding='cp1252'>\n"
     ]
    }
   ],
   "source": [
    "# By default the file opens in read mode\n",
    "f=open('sample.txt', 'r')\n",
    "print(f)\n",
    "f.close()"
   ]
  },
  {
   "cell_type": "code",
   "execution_count": 6,
   "id": "d71bfec3",
   "metadata": {},
   "outputs": [
    {
     "name": "stdout",
     "output_type": "stream",
     "text": [
      "<_io.TextIOWrapper name='sample.txt' mode='r' encoding='cp1252'>\n"
     ]
    }
   ],
   "source": [
    "with open('sample.txt', 'r') as f:\n",
    "    print(f)"
   ]
  },
  {
   "cell_type": "code",
   "execution_count": 2,
   "id": "185e6485",
   "metadata": {},
   "outputs": [
    {
     "name": "stdout",
     "output_type": "stream",
     "text": [
      "This is a test file used to deliver file handling concept\n",
      "this is second line \n",
      "this is third line\n",
      "<class 'str'>\n"
     ]
    }
   ],
   "source": [
    "with open('sample.txt','r') as f:\n",
    "    print(f.read())\n",
    "    print(type(f.read()))"
   ]
  },
  {
   "cell_type": "code",
   "execution_count": 9,
   "id": "c628fc93",
   "metadata": {},
   "outputs": [
    {
     "data": {
      "text/plain": [
       "'This is a test file used to deliver file handling concept\\nthis is second line \\nthis is third line'"
      ]
     },
     "execution_count": 9,
     "metadata": {},
     "output_type": "execute_result"
    }
   ],
   "source": [
    "f=open('sample.txt','r')\n",
    "a=f.read()# reads all the data from the file as a single string\n",
    "a\n",
    "#f.close()"
   ]
  },
  {
   "cell_type": "code",
   "execution_count": 10,
   "id": "e467e50e",
   "metadata": {},
   "outputs": [
    {
     "name": "stdout",
     "output_type": "stream",
     "text": [
      "This is a test file used to deliver file handling concept\n",
      "this is second line \n",
      "this is third line\n"
     ]
    }
   ],
   "source": [
    "print(a)"
   ]
  },
  {
   "cell_type": "code",
   "execution_count": null,
   "id": "7274bbf3",
   "metadata": {},
   "outputs": [],
   "source": []
  }
 ],
 "metadata": {
  "kernelspec": {
   "display_name": "Python 3",
   "language": "python",
   "name": "python3"
  },
  "language_info": {
   "codemirror_mode": {
    "name": "ipython",
    "version": 3
   },
   "file_extension": ".py",
   "mimetype": "text/x-python",
   "name": "python",
   "nbconvert_exporter": "python",
   "pygments_lexer": "ipython3",
   "version": "3.8.8"
  }
 },
 "nbformat": 4,
 "nbformat_minor": 5
}
