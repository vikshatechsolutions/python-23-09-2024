{
 "cells": [
  {
   "cell_type": "markdown",
   "id": "abab4b15-e529-4805-8952-544e215d38c9",
   "metadata": {},
   "source": [
    "# Heading in markdown\n",
    "#### Literate programming\n",
    "## Literate programming\n",
    "### Literate programming\n",
    " - programming+ Documentation\n",
    "\n",
    " - esc+m ---->converts the cell into markdown mode\n",
    "\n",
    " - esc+y ----> converts the cell to code mode"
   ]
  },
  {
   "cell_type": "markdown",
   "id": "9365da7f-258c-4521-89f6-92da97ae87be",
   "metadata": {},
   "source": [
    "### Identifiers in Python\n",
    "- A name in python is called identifier. It can be class name or function name or variable name\n",
    "  \n",
    "**Rules to define a identifier in python**\n",
    "- only allowed characters in python as identifiers are alphabets(either loweror upper case), digits(0to9) and underscore\n",
    "- should not start with digits\n",
    "- reserved words cannot be used as identifiers\n",
    "- case sensitive"
   ]
  },
  {
   "cell_type": "code",
   "execution_count": 11,
   "id": "bd2685a3-6576-4964-8c87-2056ce4ac835",
   "metadata": {},
   "outputs": [],
   "source": [
    "# to store a value of  10 with name a\n",
    "# a is identifier which also called as variable name\n",
    "a=10"
   ]
  },
  {
   "cell_type": "code",
   "execution_count": 2,
   "id": "62092036-8492-4d9c-b5da-6444ca4ac702",
   "metadata": {},
   "outputs": [],
   "source": [
    "b=20"
   ]
  },
  {
   "cell_type": "code",
   "execution_count": 3,
   "id": "595074ec-fbba-484d-bbdd-6409f4f44acb",
   "metadata": {},
   "outputs": [],
   "source": [
    "abc=20"
   ]
  },
  {
   "cell_type": "code",
   "execution_count": 4,
   "id": "602b49f6-c5f1-4ea0-bac9-a1071a078b9f",
   "metadata": {},
   "outputs": [],
   "source": [
    "_abc=30"
   ]
  },
  {
   "cell_type": "code",
   "execution_count": 5,
   "id": "d21cec47-d19c-4312-8fa6-b7cc419ae41f",
   "metadata": {},
   "outputs": [
    {
     "ename": "SyntaxError",
     "evalue": "invalid decimal literal (1311409325.py, line 1)",
     "output_type": "error",
     "traceback": [
      "\u001b[1;36m  Cell \u001b[1;32mIn[5], line 1\u001b[1;36m\u001b[0m\n\u001b[1;33m    12abc=34\u001b[0m\n\u001b[1;37m     ^\u001b[0m\n\u001b[1;31mSyntaxError\u001b[0m\u001b[1;31m:\u001b[0m invalid decimal literal\n"
     ]
    }
   ],
   "source": [
    "12abc=34"
   ]
  },
  {
   "cell_type": "code",
   "execution_count": 45,
   "id": "610ee8ba-861d-4d5d-beaf-5af62bafb31d",
   "metadata": {},
   "outputs": [
    {
     "ename": "SyntaxError",
     "evalue": "invalid syntax (1708944492.py, line 1)",
     "output_type": "error",
     "traceback": [
      "\u001b[1;36m  Cell \u001b[1;32mIn[45], line 1\u001b[1;36m\u001b[0m\n\u001b[1;33m    p$thon=1100\u001b[0m\n\u001b[1;37m     ^\u001b[0m\n\u001b[1;31mSyntaxError\u001b[0m\u001b[1;31m:\u001b[0m invalid syntax\n"
     ]
    }
   ],
   "source": [
    "p$thon=1100"
   ]
  },
  {
   "cell_type": "code",
   "execution_count": 46,
   "id": "c80e1ceb-c653-4ab8-ad51-fc18fddcb33c",
   "metadata": {},
   "outputs": [],
   "source": [
    "# single variable and single value\n",
    "adilakshmi = 10"
   ]
  },
  {
   "cell_type": "code",
   "execution_count": 14,
   "id": "4a00466d-b838-467f-bf2f-9058f7ea0937",
   "metadata": {},
   "outputs": [
    {
     "data": {
      "text/plain": [
       "10"
      ]
     },
     "execution_count": 14,
     "metadata": {},
     "output_type": "execute_result"
    }
   ],
   "source": [
    "adilakshmi"
   ]
  },
  {
   "cell_type": "code",
   "execution_count": 15,
   "id": "2fed2fba-e92a-495a-868e-c4ea080ef85f",
   "metadata": {},
   "outputs": [
    {
     "ename": "TypeError",
     "evalue": "cannot unpack non-iterable int object",
     "output_type": "error",
     "traceback": [
      "\u001b[1;31m---------------------------------------------------------------------------\u001b[0m",
      "\u001b[1;31mTypeError\u001b[0m                                 Traceback (most recent call last)",
      "Cell \u001b[1;32mIn[15], line 2\u001b[0m\n\u001b[0;32m      1\u001b[0m \u001b[38;5;66;03m# multiple variable and single value \u001b[39;00m\n\u001b[1;32m----> 2\u001b[0m sai, jagadeesh \u001b[38;5;241m=\u001b[39m \u001b[38;5;241m100\u001b[39m\n",
      "\u001b[1;31mTypeError\u001b[0m: cannot unpack non-iterable int object"
     ]
    }
   ],
   "source": [
    "# multiple variable and single value \n",
    "sai, jagadeesh = 100"
   ]
  },
  {
   "cell_type": "code",
   "execution_count": 17,
   "id": "b9279a78-0c3a-4809-8f99-9c0c5eccecd3",
   "metadata": {},
   "outputs": [],
   "source": [
    "sai = jagadeesh = 100"
   ]
  },
  {
   "cell_type": "code",
   "execution_count": 18,
   "id": "6d679945-6965-4951-94a5-4fa0847989c9",
   "metadata": {},
   "outputs": [
    {
     "data": {
      "text/plain": [
       "100"
      ]
     },
     "execution_count": 18,
     "metadata": {},
     "output_type": "execute_result"
    }
   ],
   "source": [
    "sai"
   ]
  },
  {
   "cell_type": "code",
   "execution_count": 19,
   "id": "182c2ec8-7518-41bf-81a2-a88e001114fe",
   "metadata": {},
   "outputs": [
    {
     "data": {
      "text/plain": [
       "100"
      ]
     },
     "execution_count": 19,
     "metadata": {},
     "output_type": "execute_result"
    }
   ],
   "source": [
    "jagadeesh "
   ]
  },
  {
   "cell_type": "code",
   "execution_count": 20,
   "id": "6b510444-1ffa-4bd2-b5d6-69dc43d3ee50",
   "metadata": {},
   "outputs": [
    {
     "data": {
      "text/plain": [
       "2306544831824"
      ]
     },
     "execution_count": 20,
     "metadata": {},
     "output_type": "execute_result"
    }
   ],
   "source": [
    "id(sai)"
   ]
  },
  {
   "cell_type": "code",
   "execution_count": 21,
   "id": "ca0c3132-17b5-437e-abf5-a615045f565a",
   "metadata": {},
   "outputs": [
    {
     "data": {
      "text/plain": [
       "2306544831824"
      ]
     },
     "execution_count": 21,
     "metadata": {},
     "output_type": "execute_result"
    }
   ],
   "source": [
    "id(jagadeesh)"
   ]
  },
  {
   "cell_type": "code",
   "execution_count": 23,
   "id": "0614eed1-1246-44be-ae3d-3844ab4f63f1",
   "metadata": {},
   "outputs": [],
   "source": [
    "bhargav=20"
   ]
  },
  {
   "cell_type": "code",
   "execution_count": 24,
   "id": "2226e57e-e934-4b5b-89c3-9215e265ea9a",
   "metadata": {},
   "outputs": [],
   "source": [
    "gopi=20"
   ]
  },
  {
   "cell_type": "code",
   "execution_count": 25,
   "id": "a1e37833-6816-4566-a246-3e9e5bec04ab",
   "metadata": {},
   "outputs": [
    {
     "data": {
      "text/plain": [
       "2306544829264"
      ]
     },
     "execution_count": 25,
     "metadata": {},
     "output_type": "execute_result"
    }
   ],
   "source": [
    "id(bhargav)"
   ]
  },
  {
   "cell_type": "code",
   "execution_count": 26,
   "id": "67cd654b-9224-4da1-9151-b1862b341e2c",
   "metadata": {},
   "outputs": [
    {
     "data": {
      "text/plain": [
       "2306544829264"
      ]
     },
     "execution_count": 26,
     "metadata": {},
     "output_type": "execute_result"
    }
   ],
   "source": [
    "id(gopi)"
   ]
  },
  {
   "cell_type": "code",
   "execution_count": 27,
   "id": "a51a6ff4-81db-40f0-b06b-b1e93723eeec",
   "metadata": {},
   "outputs": [],
   "source": [
    "# multiple variables and multiple values\n",
    "naveen, krishna = 23.5, 47.2"
   ]
  },
  {
   "cell_type": "code",
   "execution_count": 28,
   "id": "1ac1cd56-f064-4c0a-8565-bc0562218a03",
   "metadata": {},
   "outputs": [
    {
     "data": {
      "text/plain": [
       "23.5"
      ]
     },
     "execution_count": 28,
     "metadata": {},
     "output_type": "execute_result"
    }
   ],
   "source": [
    "naveen"
   ]
  },
  {
   "cell_type": "code",
   "execution_count": 29,
   "id": "646617c1-5935-4dbc-ab55-1ab3d85239f1",
   "metadata": {},
   "outputs": [
    {
     "data": {
      "text/plain": [
       "47.2"
      ]
     },
     "execution_count": 29,
     "metadata": {},
     "output_type": "execute_result"
    }
   ],
   "source": [
    "krishna"
   ]
  },
  {
   "cell_type": "code",
   "execution_count": null,
   "id": "5fe84993-01e6-4278-b94d-275304e1fb51",
   "metadata": {},
   "outputs": [],
   "source": []
  }
 ],
 "metadata": {
  "kernelspec": {
   "display_name": "Python 3 (ipykernel)",
   "language": "python",
   "name": "python3"
  },
  "language_info": {
   "codemirror_mode": {
    "name": "ipython",
    "version": 3
   },
   "file_extension": ".py",
   "mimetype": "text/x-python",
   "name": "python",
   "nbconvert_exporter": "python",
   "pygments_lexer": "ipython3",
   "version": "3.10.1"
  }
 },
 "nbformat": 4,
 "nbformat_minor": 5
}
