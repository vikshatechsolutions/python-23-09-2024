{
 "cells": [
  {
   "cell_type": "markdown",
   "id": "fb44d83b",
   "metadata": {},
   "source": [
    "###### Comprehensions\n",
    "- In python we use comprehensions for simplifying the code and reduce the lines of code\n",
    "- List comprehensions-[]\n",
    "- Dictionary comprehensions-{}\n",
    "- Set comprehensions-set()"
   ]
  },
  {
   "cell_type": "code",
   "execution_count": 4,
   "id": "85b6ad47",
   "metadata": {},
   "outputs": [
    {
     "name": "stdout",
     "output_type": "stream",
     "text": [
      "1 \n",
      "10\n",
      "[1, 2, 3, 4, 5, 6, 7, 8, 9, 10]\n"
     ]
    }
   ],
   "source": [
    "# print 1 to 10 numbers in the list\n",
    "l=[]\n",
    "lb= int(input())\n",
    "ub=int(input())\n",
    "for i in range(lb,ub+1):\n",
    "    l.append(i)\n",
    "print(l)  "
   ]
  },
  {
   "cell_type": "code",
   "execution_count": 5,
   "id": "cb9769bb",
   "metadata": {},
   "outputs": [
    {
     "data": {
      "text/plain": [
       "[1, 2, 3, 4, 5, 6, 7, 8, 9, 10]"
      ]
     },
     "execution_count": 5,
     "metadata": {},
     "output_type": "execute_result"
    }
   ],
   "source": [
    "[i for i in range(1,11)]"
   ]
  },
  {
   "cell_type": "code",
   "execution_count": 7,
   "id": "3f2ab174",
   "metadata": {},
   "outputs": [
    {
     "name": "stdout",
     "output_type": "stream",
     "text": [
      "[2, 4, 6, 8]\n"
     ]
    }
   ],
   "source": [
    "# print even numbers from a given list in list format\n",
    "l=[1,2,3,4,5,6,7,8]\n",
    "res=[]\n",
    "for i in l:\n",
    "    if i%2==0:\n",
    "        res.append(i)\n",
    "print(res)"
   ]
  },
  {
   "cell_type": "code",
   "execution_count": 8,
   "id": "7adaea6c",
   "metadata": {},
   "outputs": [
    {
     "data": {
      "text/plain": [
       "[2, 4, 6, 8]"
      ]
     },
     "execution_count": 8,
     "metadata": {},
     "output_type": "execute_result"
    }
   ],
   "source": [
    "l=[1,2,3,4,5,6,7,8]\n",
    "[i for i in l if i%2==0]"
   ]
  },
  {
   "cell_type": "code",
   "execution_count": 9,
   "id": "442b6eda",
   "metadata": {},
   "outputs": [
    {
     "name": "stdout",
     "output_type": "stream",
     "text": [
      "['odd', 2, 'odd', 4, 'odd', 6, 'odd']\n"
     ]
    }
   ],
   "source": [
    "# print the even no in the list, but in place of odd numbers replace the odd value with \"odd\"\n",
    "# l=[1,2,3,4,5]\n",
    "#l=['odd',2,'odd',4,'odd']\n",
    "l=[1,2,3,4,5,6,7]\n",
    "res=[]\n",
    "for i in l:\n",
    "    if i%2==0:\n",
    "        res.append(i)\n",
    "    else:\n",
    "        res.append(\"odd\")\n",
    "print(res)"
   ]
  },
  {
   "cell_type": "code",
   "execution_count": 14,
   "id": "9b6bbd18",
   "metadata": {},
   "outputs": [
    {
     "name": "stdout",
     "output_type": "stream",
     "text": [
      "['odd', 2, 'odd', 4, 'odd', 6, 'odd']\n"
     ]
    }
   ],
   "source": [
    "#if we use both if and else conditions then if else conditions should be defined first and later we need to define for\n",
    "l=[1,2,3,4,5,6,7]\n",
    "a=[i if i%2==0 else 'odd' for i in l]\n",
    "print(a)"
   ]
  },
  {
   "cell_type": "code",
   "execution_count": 20,
   "id": "b3264e8b",
   "metadata": {},
   "outputs": [
    {
     "name": "stdout",
     "output_type": "stream",
     "text": [
      "['python', 'programming', 'viksha', 'tech', 'solutions']\n"
     ]
    }
   ],
   "source": [
    "# task\n",
    "a=['python programming','viksha tech solutions']\n",
    "#final_list=['python', 'programming','viksha','tech','solutions']\n",
    "# seperate each word with comma and print the output in the list\n",
    "final_list=[]\n",
    "for i in a:\n",
    "    res=i.split()\n",
    "    final_list.extend(res)\n",
    "print(final_list)"
   ]
  },
  {
   "cell_type": "code",
   "execution_count": 22,
   "id": "bce5cb5c",
   "metadata": {},
   "outputs": [
    {
     "name": "stdout",
     "output_type": "stream",
     "text": [
      "['python', 'programming', 'viksha', 'tech', 'solutions']\n"
     ]
    }
   ],
   "source": [
    "final_list=[]\n",
    "for i in a:\n",
    "    res=i.split()\n",
    "    for j in res:\n",
    "        final_list.append(j)\n",
    "print(final_list)"
   ]
  },
  {
   "cell_type": "code",
   "execution_count": 23,
   "id": "084d7faf",
   "metadata": {},
   "outputs": [
    {
     "data": {
      "text/plain": [
       "['python', 'programming', 'viksha', 'tech', 'solutions']"
      ]
     },
     "execution_count": 23,
     "metadata": {},
     "output_type": "execute_result"
    }
   ],
   "source": [
    "[j for i in a for j in i.split()]"
   ]
  },
  {
   "cell_type": "code",
   "execution_count": 26,
   "id": "62babec4",
   "metadata": {},
   "outputs": [
    {
     "data": {
      "text/plain": [
       "dict_items([])"
      ]
     },
     "execution_count": 26,
     "metadata": {},
     "output_type": "execute_result"
    }
   ],
   "source": [
    "##### Dictionary comprehensions\n",
    "state=[\"Telangana\", 'Andhra_Pradesh','Tamil_Nadu']\n",
    "capital=[\"Hyderabad\",\"Amaravathi\",\"Chennai\"]\n",
    "d={}\n",
    "# zip(state,capital)\n",
    "# d[key]=value"
   ]
  },
  {
   "cell_type": "code",
   "execution_count": 27,
   "id": "4aa55629",
   "metadata": {},
   "outputs": [
    {
     "data": {
      "text/plain": [
       "<zip at 0x26ba1479240>"
      ]
     },
     "execution_count": 27,
     "metadata": {},
     "output_type": "execute_result"
    }
   ],
   "source": [
    "zip(state,capital)"
   ]
  },
  {
   "cell_type": "code",
   "execution_count": 28,
   "id": "8fe922cf",
   "metadata": {},
   "outputs": [
    {
     "name": "stdout",
     "output_type": "stream",
     "text": [
      "('Telangana', 'Hyderabad')\n",
      "('Andhra_Pradesh', 'Amaravathi')\n",
      "('Tamil_Nadu', 'Chennai')\n"
     ]
    }
   ],
   "source": [
    "for i in zip(state,capital):\n",
    "    print(i)"
   ]
  },
  {
   "cell_type": "code",
   "execution_count": 29,
   "id": "82986d8c",
   "metadata": {},
   "outputs": [
    {
     "name": "stdout",
     "output_type": "stream",
     "text": [
      "{'Telangana': 'Hyderabad', 'Andhra_Pradesh': 'Amaravathi', 'Tamil_Nadu': 'Chennai'}\n"
     ]
    }
   ],
   "source": [
    "for i in zip(state,capital):\n",
    "    d[i[0]]=i[1]\n",
    "print(d)"
   ]
  },
  {
   "cell_type": "code",
   "execution_count": 31,
   "id": "8e4fae49",
   "metadata": {},
   "outputs": [
    {
     "name": "stdout",
     "output_type": "stream",
     "text": [
      "Telangana\n",
      "Andhra_Pradesh\n",
      "Tamil_Nadu\n"
     ]
    }
   ],
   "source": [
    "for i,j in zip(state,capital):\n",
    "    print(i)"
   ]
  },
  {
   "cell_type": "code",
   "execution_count": 32,
   "id": "a3633c5a",
   "metadata": {},
   "outputs": [
    {
     "name": "stdout",
     "output_type": "stream",
     "text": [
      "{'Telangana': 'Hyderabad', 'Andhra_Pradesh': 'Amaravathi', 'Tamil_Nadu': 'Chennai'}\n"
     ]
    }
   ],
   "source": [
    "for key,value in zip(state,capital):\n",
    "    d[key]=value\n",
    "print(d)"
   ]
  },
  {
   "cell_type": "code",
   "execution_count": 33,
   "id": "09708e07",
   "metadata": {},
   "outputs": [
    {
     "data": {
      "text/plain": [
       "{'Telangana': 'Hyderabad',\n",
       " 'Andhra_Pradesh': 'Amaravathi',\n",
       " 'Tamil_Nadu': 'Chennai'}"
      ]
     },
     "execution_count": 33,
     "metadata": {},
     "output_type": "execute_result"
    }
   ],
   "source": [
    "{key:value for key,value in zip(state,capital)}"
   ]
  },
  {
   "cell_type": "code",
   "execution_count": 34,
   "id": "9ea07765",
   "metadata": {},
   "outputs": [
    {
     "data": {
      "text/plain": [
       "{1: 1, 2: 4, 3: 9, 4: 16, 5: 25, 6: 36, 7: 49}"
      ]
     },
     "execution_count": 34,
     "metadata": {},
     "output_type": "execute_result"
    }
   ],
   "source": [
    "# l=[1,2,3,4]\n",
    "#{1:1,2:4,3:9,4:16}\n",
    "{i:i**2 for i in l}"
   ]
  },
  {
   "cell_type": "markdown",
   "id": "a87681fa",
   "metadata": {},
   "source": [
    "###### Set Comprehensions\n",
    "- It is similar to list comprehension, main diff is set accepts only unique data"
   ]
  },
  {
   "cell_type": "code",
   "execution_count": 36,
   "id": "d5902956",
   "metadata": {},
   "outputs": [
    {
     "name": "stdout",
     "output_type": "stream",
     "text": [
      "{1, 3, 5, 7}\n"
     ]
    }
   ],
   "source": [
    "# print odd number in a set\n",
    "l=[1,2,3,3,4,5,6,7,8]\n",
    "s=set()\n",
    "for i in l:\n",
    "    if i%2!=0:\n",
    "        s.add(i)\n",
    "    \n",
    "print(s)"
   ]
  },
  {
   "cell_type": "code",
   "execution_count": 38,
   "id": "a5f43d96",
   "metadata": {},
   "outputs": [
    {
     "data": {
      "text/plain": [
       "{1, 3, 5, 7}"
      ]
     },
     "execution_count": 38,
     "metadata": {},
     "output_type": "execute_result"
    }
   ],
   "source": [
    "{i for i in l if i%2!=0}"
   ]
  },
  {
   "cell_type": "code",
   "execution_count": null,
   "id": "20149d73",
   "metadata": {},
   "outputs": [],
   "source": []
  }
 ],
 "metadata": {
  "kernelspec": {
   "display_name": "Python 3",
   "language": "python",
   "name": "python3"
  },
  "language_info": {
   "codemirror_mode": {
    "name": "ipython",
    "version": 3
   },
   "file_extension": ".py",
   "mimetype": "text/x-python",
   "name": "python",
   "nbconvert_exporter": "python",
   "pygments_lexer": "ipython3",
   "version": "3.8.8"
  }
 },
 "nbformat": 4,
 "nbformat_minor": 5
}
