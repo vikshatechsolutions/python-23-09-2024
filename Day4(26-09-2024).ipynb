{
 "cells": [
  {
   "cell_type": "markdown",
   "id": "5a90da5d-2d83-4fc6-94e5-e305a4ca69b8",
   "metadata": {},
   "source": [
    "**Different ways to display the values using print**"
   ]
  },
  {
   "cell_type": "code",
   "execution_count": 74,
   "id": "f49ed510-a1ef-44de-84ac-49ae85fe5c8e",
   "metadata": {},
   "outputs": [
    {
     "name": "stdout",
     "output_type": "stream",
     "text": [
      "10 20 30\n",
      "20 30\n"
     ]
    }
   ],
   "source": [
    "a=10\n",
    "b=20\n",
    "c=30\n",
    "print(a,b,c)\n",
    "print(b,c)"
   ]
  },
  {
   "cell_type": "code",
   "execution_count": 2,
   "id": "f50e9120-d4bc-42ae-a3cc-850c11910a80",
   "metadata": {
    "scrolled": true
   },
   "outputs": [
    {
     "name": "stdout",
     "output_type": "stream",
     "text": [
      "Help on built-in function print in module builtins:\n",
      "\n",
      "print(*args, sep=' ', end='\\n', file=None, flush=False)\n",
      "    Prints the values to a stream, or to sys.stdout by default.\n",
      "\n",
      "    sep\n",
      "      string inserted between values, default a space.\n",
      "    end\n",
      "      string appended after the last value, default a newline.\n",
      "    file\n",
      "      a file-like object (stream); defaults to the current sys.stdout.\n",
      "    flush\n",
      "      whether to forcibly flush the stream.\n",
      "\n"
     ]
    }
   ],
   "source": [
    "help(print)"
   ]
  },
  {
   "cell_type": "code",
   "execution_count": 5,
   "id": "e9765cc9-6ee0-49a4-b28a-a1f2fa81f49e",
   "metadata": {},
   "outputs": [
    {
     "name": "stdout",
     "output_type": "stream",
     "text": [
      "10@20@30\n"
     ]
    }
   ],
   "source": [
    "# \\n- new line \n",
    "# \\t- tab space\n",
    "print(a,b,c,sep=\"@\")"
   ]
  },
  {
   "cell_type": "code",
   "execution_count": 7,
   "id": "ae0a4387-c52d-4db4-a346-d49c7ddc431e",
   "metadata": {},
   "outputs": [
    {
     "name": "stdout",
     "output_type": "stream",
     "text": [
      "10 20 30\t20*30\n",
      "10\n"
     ]
    }
   ],
   "source": [
    "print(a,b,c,end='\\t')\n",
    "print(b,c,sep='*')\n",
    "print(a)"
   ]
  },
  {
   "cell_type": "markdown",
   "id": "08f62941-96af-4f03-af26-5ee1bf7db9c7",
   "metadata": {},
   "source": [
    "#### Operators in python\n",
    "- Arithematic operators(+,-,*,//,%,**,/)\n",
    "- Logical operators(and, or, not)\n",
    "- Comparison operators/relational(>,<,==,>=,<=,!=)\n",
    "- bitwise operators(&(and), |(or),~(not), right shift(>>), left shift(<<),xor(^))\n",
    "- Assignment operators(=, +=,,/=,%=,//=,**=)\n",
    "- Identity operators(is, is not)\n",
    "- Membership operators(in, not in)"
   ]
  },
  {
   "cell_type": "code",
   "execution_count": 68,
   "id": "71516d2a-39f8-40b3-9964-7ba8f95d4eb6",
   "metadata": {},
   "outputs": [
    {
     "name": "stdout",
     "output_type": "stream",
     "text": [
      "36\n",
      "32\n",
      "68\n",
      "17.0\n",
      "17\n",
      "0\n",
      "1156\n"
     ]
    }
   ],
   "source": [
    "# Arithematic operators\n",
    "a=34\n",
    "b=2\n",
    "print(a+b) # addition\n",
    "print(a-b) # subtraction\n",
    "print(a*b) # multiplication\n",
    "print(a/b) #   quotient\n",
    "print(a//b) # int(quotient)\n",
    "print(a%b) # modulo operator which gives remainder \n",
    "print(a**b) # power\n"
   ]
  },
  {
   "cell_type": "code",
   "execution_count": 17,
   "id": "df3c74df-a118-41a0-b608-e9ea936f73b2",
   "metadata": {},
   "outputs": [
    {
     "name": "stdout",
     "output_type": "stream",
     "text": [
      "True\n",
      "True\n"
     ]
    }
   ],
   "source": [
    "a=2\n",
    "b=4\n",
    "print(a==2)\n",
    "print(b==4)"
   ]
  },
  {
   "cell_type": "code",
   "execution_count": 20,
   "id": "7e992d74-dbde-48ef-bb38-d93460aa4508",
   "metadata": {},
   "outputs": [
    {
     "name": "stdout",
     "output_type": "stream",
     "text": [
      "True\n",
      "False\n"
     ]
    }
   ],
   "source": [
    "# logical operators\n",
    "a=2\n",
    "b=4\n",
    "print(a==2 and b==4)\n",
    "print(a==2 and b==5)"
   ]
  },
  {
   "cell_type": "code",
   "execution_count": 21,
   "id": "84b05d52-76fb-4716-8293-a4d24eb75d07",
   "metadata": {},
   "outputs": [
    {
     "name": "stdout",
     "output_type": "stream",
     "text": [
      "True\n",
      "True\n"
     ]
    }
   ],
   "source": [
    "print(a==2 or b==4)\n",
    "print(a==2 or b==5)"
   ]
  },
  {
   "cell_type": "code",
   "execution_count": 22,
   "id": "799d35ab-38b3-41f8-b5fa-2e1e488f27b9",
   "metadata": {},
   "outputs": [
    {
     "name": "stdout",
     "output_type": "stream",
     "text": [
      "False\n"
     ]
    }
   ],
   "source": [
    "print(a==3 or b==5)"
   ]
  },
  {
   "cell_type": "code",
   "execution_count": 34,
   "id": "58a379b9-abc7-47be-b051-23bd1f011afd",
   "metadata": {},
   "outputs": [
    {
     "name": "stdin",
     "output_type": "stream",
     "text": [
      "enter the value of a 24\n",
      "enter the value of b 36\n"
     ]
    },
    {
     "name": "stdout",
     "output_type": "stream",
     "text": [
      "True\n"
     ]
    }
   ],
   "source": [
    "# write a program to read two integer inputs from the user\n",
    "# if both the numbers are multiples of 2 then output the result as 1-True otherwise 0- False\n",
    "a=int(input(\"enter the value of a\"))\n",
    "b=int(input(\"enter the value of b\"))\n",
    "print( a%2==0  and b%2==0)"
   ]
  },
  {
   "cell_type": "code",
   "execution_count": 35,
   "id": "14e705ab-f97a-4ed9-b268-2cd6e84fe467",
   "metadata": {},
   "outputs": [
    {
     "name": "stdin",
     "output_type": "stream",
     "text": [
      "enter the value of a 23\n",
      "enter the value of b 46\n"
     ]
    },
    {
     "name": "stdout",
     "output_type": "stream",
     "text": [
      "False\n"
     ]
    }
   ],
   "source": [
    "a=int(input(\"enter the value of a\"))\n",
    "b=int(input(\"enter the value of b\"))\n",
    "print( a%2==0  and b%2==0)"
   ]
  },
  {
   "cell_type": "code",
   "execution_count": 36,
   "id": "424b1d3e-3a77-466f-a1de-2194abfed0e9",
   "metadata": {},
   "outputs": [
    {
     "data": {
      "text/plain": [
       "False"
      ]
     },
     "execution_count": 36,
     "metadata": {},
     "output_type": "execute_result"
    }
   ],
   "source": [
    "a=100\n",
    "a!=100"
   ]
  },
  {
   "cell_type": "code",
   "execution_count": 55,
   "id": "ec20bd5b-4ec8-4d15-8259-17b7088b9a21",
   "metadata": {},
   "outputs": [],
   "source": [
    "#Assignment operators\n",
    "abc=42\n",
    "bca=34"
   ]
  },
  {
   "cell_type": "code",
   "execution_count": 56,
   "id": "dd67674b-93ee-4973-a1d9-7feb8b854f1f",
   "metadata": {},
   "outputs": [],
   "source": [
    "abc+= 1 \n",
    "#abc=abc+1"
   ]
  },
  {
   "cell_type": "code",
   "execution_count": 57,
   "id": "361b80da-d09f-46d7-a990-024426bbe43c",
   "metadata": {},
   "outputs": [],
   "source": [
    "bca-= 1 \n",
    "#bca=bca-1"
   ]
  },
  {
   "cell_type": "code",
   "execution_count": 58,
   "id": "02dfa6b3-759e-4ad0-b7e5-49fc69e89269",
   "metadata": {},
   "outputs": [
    {
     "data": {
      "text/plain": [
       "33"
      ]
     },
     "execution_count": 58,
     "metadata": {},
     "output_type": "execute_result"
    }
   ],
   "source": [
    "bca"
   ]
  },
  {
   "cell_type": "code",
   "execution_count": 59,
   "id": "c40180ae-bf3a-414c-af62-56f59a7338fb",
   "metadata": {},
   "outputs": [
    {
     "name": "stderr",
     "output_type": "stream",
     "text": [
      "<>:3: SyntaxWarning: \"is\" with 'int' literal. Did you mean \"==\"?\n",
      "<>:3: SyntaxWarning: \"is\" with 'int' literal. Did you mean \"==\"?\n",
      "C:\\Users\\HP\\AppData\\Local\\Temp\\ipykernel_15840\\2549979251.py:3: SyntaxWarning: \"is\" with 'int' literal. Did you mean \"==\"?\n",
      "  v is 56\n"
     ]
    },
    {
     "data": {
      "text/plain": [
       "True"
      ]
     },
     "execution_count": 59,
     "metadata": {},
     "output_type": "execute_result"
    }
   ],
   "source": [
    "# Identity operators\n",
    "v= 56\n",
    "v is 56"
   ]
  },
  {
   "cell_type": "code",
   "execution_count": 60,
   "id": "9d75f01f-7fbc-430f-b26f-5455bdb15d57",
   "metadata": {},
   "outputs": [
    {
     "name": "stderr",
     "output_type": "stream",
     "text": [
      "<>:1: SyntaxWarning: \"is not\" with 'int' literal. Did you mean \"!=\"?\n",
      "<>:1: SyntaxWarning: \"is not\" with 'int' literal. Did you mean \"!=\"?\n",
      "C:\\Users\\HP\\AppData\\Local\\Temp\\ipykernel_15840\\3906269555.py:1: SyntaxWarning: \"is not\" with 'int' literal. Did you mean \"!=\"?\n",
      "  v is not 56\n"
     ]
    },
    {
     "data": {
      "text/plain": [
       "False"
      ]
     },
     "execution_count": 60,
     "metadata": {},
     "output_type": "execute_result"
    }
   ],
   "source": [
    "v is not 56"
   ]
  },
  {
   "cell_type": "code",
   "execution_count": 61,
   "id": "4c43c5bf-1201-4e46-b033-1d1db05aba52",
   "metadata": {},
   "outputs": [
    {
     "data": {
      "text/plain": [
       "True"
      ]
     },
     "execution_count": 61,
     "metadata": {},
     "output_type": "execute_result"
    }
   ],
   "source": [
    "a= 'python'\n",
    "b= 'python'\n",
    "a is b"
   ]
  },
  {
   "cell_type": "code",
   "execution_count": 62,
   "id": "f3381dee-d380-4e93-9dc2-8781acad3ded",
   "metadata": {},
   "outputs": [
    {
     "data": {
      "text/plain": [
       "False"
      ]
     },
     "execution_count": 62,
     "metadata": {},
     "output_type": "execute_result"
    }
   ],
   "source": [
    "a is not b"
   ]
  },
  {
   "cell_type": "code",
   "execution_count": 64,
   "id": "a2e8eed1-6b63-4969-8c39-78b55e5ceb4b",
   "metadata": {},
   "outputs": [
    {
     "data": {
      "text/plain": [
       "True"
      ]
     },
     "execution_count": 64,
     "metadata": {},
     "output_type": "execute_result"
    }
   ],
   "source": [
    "# Membership operators \n",
    "a= 'Guido Van Rosuum'\n",
    "'G' in a"
   ]
  },
  {
   "cell_type": "code",
   "execution_count": 65,
   "id": "fd76bb91-c6d2-45b5-851c-a8eaaba132f6",
   "metadata": {},
   "outputs": [
    {
     "data": {
      "text/plain": [
       "False"
      ]
     },
     "execution_count": 65,
     "metadata": {},
     "output_type": "execute_result"
    }
   ],
   "source": [
    "'g' in a"
   ]
  },
  {
   "cell_type": "code",
   "execution_count": 66,
   "id": "3862fa88-e30f-4799-9480-b9651be22358",
   "metadata": {},
   "outputs": [],
   "source": [
    "#python is case senstive language"
   ]
  },
  {
   "cell_type": "code",
   "execution_count": 67,
   "id": "344ffbf6-6529-49d3-8a11-f0b6925913a8",
   "metadata": {},
   "outputs": [
    {
     "data": {
      "text/plain": [
       "False"
      ]
     },
     "execution_count": 67,
     "metadata": {},
     "output_type": "execute_result"
    }
   ],
   "source": [
    "'R' not in a"
   ]
  },
  {
   "cell_type": "code",
   "execution_count": 70,
   "id": "1c0c2976-364e-4be0-9071-d46549ce40e0",
   "metadata": {},
   "outputs": [
    {
     "name": "stdin",
     "output_type": "stream",
     "text": [
      " empty\n"
     ]
    },
    {
     "name": "stdout",
     "output_type": "stream",
     "text": [
      "False\n"
     ]
    }
   ],
   "source": [
    "S=str(input())\n",
    "print(S=='e')"
   ]
  },
  {
   "cell_type": "code",
   "execution_count": 72,
   "id": "509674c0-b0ed-4478-8cbe-1c0c96380eb9",
   "metadata": {},
   "outputs": [
    {
     "name": "stdin",
     "output_type": "stream",
     "text": [
      " Empty\n"
     ]
    },
    {
     "name": "stdout",
     "output_type": "stream",
     "text": [
      "True\n"
     ]
    }
   ],
   "source": [
    "# write a program in python to read a string from the user and\n",
    "# check whether the string contains a char 'E'\n",
    "s= input()\n",
    "print('E'  in s)"
   ]
  },
  {
   "cell_type": "code",
   "execution_count": 73,
   "id": "21770a89-b212-4f35-8cd9-9f795b14797d",
   "metadata": {},
   "outputs": [
    {
     "name": "stdin",
     "output_type": "stream",
     "text": [
      " empty\n"
     ]
    },
    {
     "name": "stdout",
     "output_type": "stream",
     "text": [
      "False\n"
     ]
    }
   ],
   "source": [
    "s= input()\n",
    "print('E'  in s)"
   ]
  },
  {
   "cell_type": "code",
   "execution_count": 79,
   "id": "dadd4dbe-bb9a-4ec7-9efa-3f7fc6cda175",
   "metadata": {},
   "outputs": [
    {
     "name": "stdout",
     "output_type": "stream",
     "text": [
      "False\n",
      "True\n",
      "False\n",
      "True\n",
      "True\n",
      "False\n"
     ]
    }
   ],
   "source": [
    "# comparison operators\n",
    "a=2\n",
    "b=20\n",
    "print(a>b)\n",
    "print(a<b)\n",
    "print(a==b)\n",
    "print(a!=b)\n",
    "print(a>=2)\n",
    "print(b<=19)"
   ]
  }
 ],
 "metadata": {
  "kernelspec": {
   "display_name": "Python 3 (ipykernel)",
   "language": "python",
   "name": "python3"
  },
  "language_info": {
   "codemirror_mode": {
    "name": "ipython",
    "version": 3
   },
   "file_extension": ".py",
   "mimetype": "text/x-python",
   "name": "python",
   "nbconvert_exporter": "python",
   "pygments_lexer": "ipython3",
   "version": "3.12.1"
  }
 },
 "nbformat": 4,
 "nbformat_minor": 5
}
