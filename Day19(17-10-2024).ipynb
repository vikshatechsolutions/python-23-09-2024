{
 "cells": [
  {
   "cell_type": "markdown",
   "id": "7a473db1",
   "metadata": {},
   "source": [
    "#### OOPS(Object Oriented Programming System)\n",
    "- class--> a class is nothing but the blue print for creating your objects\n",
    "- object--> An object is an instance of the class which contains attributes and methods\n",
    "- reference variable"
   ]
  },
  {
   "cell_type": "code",
   "execution_count": 1,
   "id": "c9675ef3",
   "metadata": {},
   "outputs": [
    {
     "data": {
      "text/plain": [
       "<__main__.sample at 0x21d899629a0>"
      ]
     },
     "execution_count": 1,
     "metadata": {},
     "output_type": "execute_result"
    }
   ],
   "source": [
    "class sample:  # class\n",
    "    \"\"\"This is an example class created \"\"\" # documented string\n",
    "    pass\n",
    "\n",
    "obj= sample()  #object\n",
    "obj1=sample()\n",
    "\n",
    "\n",
    "obj  # reference variable\n"
   ]
  },
  {
   "cell_type": "code",
   "execution_count": 2,
   "id": "f4b3b020",
   "metadata": {},
   "outputs": [
    {
     "data": {
      "text/plain": [
       "'This is an example class created '"
      ]
     },
     "execution_count": 2,
     "metadata": {},
     "output_type": "execute_result"
    }
   ],
   "source": [
    "obj.__doc__"
   ]
  },
  {
   "cell_type": "markdown",
   "id": "27630486",
   "metadata": {},
   "source": [
    "##### Constructor(the method that we write for object variables)\n",
    "- to initialize and declare variables\n",
    "- method name should be __init__\n",
    "- whenever we create an object the constructor will get executed\n",
    "- a class should have only one constructor"
   ]
  },
  {
   "cell_type": "code",
   "execution_count": 12,
   "id": "2b91ef79",
   "metadata": {},
   "outputs": [
    {
     "name": "stdout",
     "output_type": "stream",
     "text": [
      "constructor executed\n",
      "constructor executed\n"
     ]
    }
   ],
   "source": [
    "class Student:\n",
    "    def __init__(self, name, rollno, branch):\n",
    "        self.name=name\n",
    "        self.rollno=rollno\n",
    "        self.branch=branch\n",
    "        print(\"constructor executed\")\n",
    "        \n",
    "a= Student(\"sandhya\",'210','EEE')  # object\n",
    "b= Student(\"test\",'1','ECE')"
   ]
  },
  {
   "cell_type": "code",
   "execution_count": 9,
   "id": "a2fe94f3",
   "metadata": {},
   "outputs": [
    {
     "data": {
      "text/plain": [
       "'sandhya'"
      ]
     },
     "execution_count": 9,
     "metadata": {},
     "output_type": "execute_result"
    }
   ],
   "source": [
    "a.name"
   ]
  },
  {
   "cell_type": "code",
   "execution_count": 10,
   "id": "416c818a",
   "metadata": {},
   "outputs": [
    {
     "data": {
      "text/plain": [
       "'210'"
      ]
     },
     "execution_count": 10,
     "metadata": {},
     "output_type": "execute_result"
    }
   ],
   "source": [
    "a.rollno"
   ]
  },
  {
   "cell_type": "code",
   "execution_count": 11,
   "id": "55330920",
   "metadata": {},
   "outputs": [
    {
     "data": {
      "text/plain": [
       "'EEE'"
      ]
     },
     "execution_count": 11,
     "metadata": {},
     "output_type": "execute_result"
    }
   ],
   "source": [
    "a.branch"
   ]
  },
  {
   "cell_type": "code",
   "execution_count": 13,
   "id": "ba2f343d",
   "metadata": {},
   "outputs": [
    {
     "data": {
      "text/plain": [
       "'test'"
      ]
     },
     "execution_count": 13,
     "metadata": {},
     "output_type": "execute_result"
    }
   ],
   "source": [
    "b.name"
   ]
  },
  {
   "cell_type": "code",
   "execution_count": 14,
   "id": "6d15dbe5",
   "metadata": {},
   "outputs": [
    {
     "data": {
      "text/plain": [
       "'1'"
      ]
     },
     "execution_count": 14,
     "metadata": {},
     "output_type": "execute_result"
    }
   ],
   "source": [
    "b.rollno\n"
   ]
  },
  {
   "cell_type": "code",
   "execution_count": 15,
   "id": "20b15f00",
   "metadata": {},
   "outputs": [
    {
     "data": {
      "text/plain": [
       "'ECE'"
      ]
     },
     "execution_count": 15,
     "metadata": {},
     "output_type": "execute_result"
    }
   ],
   "source": [
    "b.branch"
   ]
  },
  {
   "cell_type": "code",
   "execution_count": 17,
   "id": "08608558",
   "metadata": {},
   "outputs": [
    {
     "name": "stdout",
     "output_type": "stream",
     "text": [
      "constructor2 executed\n"
     ]
    }
   ],
   "source": [
    "class Student:\n",
    "    def __init__(self, name, rollno, branch):\n",
    "        self.name=name\n",
    "        self.rollno=rollno\n",
    "        self.branch=branch\n",
    "        print(\"constructor1 executed\")\n",
    "    def __init__(self):\n",
    "        print(\"constructor2 executed\")\n",
    "        \n",
    "a= Student()"
   ]
  },
  {
   "cell_type": "markdown",
   "id": "98572500",
   "metadata": {},
   "source": [
    "#### Self\n",
    "- self is a reference variable which always points to the current object\n",
    "- we need not provide self variable while we are creating an object\n",
    "- the first argument of the constructor should be ***self***\n",
    "- within the class to refer the current object we use self variable"
   ]
  },
  {
   "cell_type": "code",
   "execution_count": 34,
   "id": "5869cb6e",
   "metadata": {},
   "outputs": [
    {
     "name": "stdout",
     "output_type": "stream",
     "text": [
      "sandhya\n",
      "210\n",
      "EEE\n"
     ]
    }
   ],
   "source": [
    "class Student:\n",
    "    def __init__(self,name, rollno, branch):\n",
    "        self.n=name\n",
    "        self.rn=rollno\n",
    "        self.br=branch\n",
    "        \n",
    "    def display(self):\n",
    "        print(self.n)\n",
    "        print(self.rn)\n",
    "        print(self.br)\n",
    "        \n",
    "        \n",
    "a= Student(\"sandhya\",'210','EEE')\n",
    "a.display()"
   ]
  },
  {
   "cell_type": "code",
   "execution_count": 36,
   "id": "b7b54050",
   "metadata": {},
   "outputs": [
    {
     "name": "stdout",
     "output_type": "stream",
     "text": [
      "sandhya\n",
      "210\n",
      "EEE\n"
     ]
    }
   ],
   "source": [
    "print(a.n)\n",
    "print(a.rn)\n",
    "print(a.br)"
   ]
  },
  {
   "cell_type": "code",
   "execution_count": 44,
   "id": "fb1b48d8",
   "metadata": {},
   "outputs": [],
   "source": [
    "class calc:\n",
    "    college_name= 'viksha'  # class variables\n",
    "    def __init__(self,a,b):\n",
    "        self.n1=a  # n1 and n2 are called object variables\n",
    "        self.n2=b\n",
    "        \n",
    "    def add(self):\n",
    "        return self.n1+self.n2\n",
    "    \n",
    "    def sub(self):\n",
    "        return self.n1-self.n2\n",
    "    \n",
    "    def mul(self):\n",
    "        return self.n1*self.n2\n",
    "    \n",
    "    def display(self):\n",
    "        print(self.n1)\n",
    "        print(self.n2)\n",
    "        print(college_name)  "
   ]
  },
  {
   "cell_type": "code",
   "execution_count": 46,
   "id": "aa1f8c7e",
   "metadata": {},
   "outputs": [],
   "source": [
    "a=calc(45,23)"
   ]
  },
  {
   "cell_type": "code",
   "execution_count": 39,
   "id": "f155c41c",
   "metadata": {
    "collapsed": true
   },
   "outputs": [
    {
     "data": {
      "text/plain": [
       "['__class__',\n",
       " '__delattr__',\n",
       " '__dict__',\n",
       " '__dir__',\n",
       " '__doc__',\n",
       " '__eq__',\n",
       " '__format__',\n",
       " '__ge__',\n",
       " '__getattribute__',\n",
       " '__gt__',\n",
       " '__hash__',\n",
       " '__init__',\n",
       " '__init_subclass__',\n",
       " '__le__',\n",
       " '__lt__',\n",
       " '__module__',\n",
       " '__ne__',\n",
       " '__new__',\n",
       " '__reduce__',\n",
       " '__reduce_ex__',\n",
       " '__repr__',\n",
       " '__setattr__',\n",
       " '__sizeof__',\n",
       " '__str__',\n",
       " '__subclasshook__',\n",
       " '__weakref__',\n",
       " 'add',\n",
       " 'mul',\n",
       " 'sub']"
      ]
     },
     "execution_count": 39,
     "metadata": {},
     "output_type": "execute_result"
    }
   ],
   "source": [
    "dir(calc)"
   ]
  },
  {
   "cell_type": "code",
   "execution_count": 40,
   "id": "99ff4f5f",
   "metadata": {},
   "outputs": [
    {
     "data": {
      "text/plain": [
       "68"
      ]
     },
     "execution_count": 40,
     "metadata": {},
     "output_type": "execute_result"
    }
   ],
   "source": [
    "a.add()"
   ]
  },
  {
   "cell_type": "code",
   "execution_count": 41,
   "id": "55f2a2b0",
   "metadata": {},
   "outputs": [
    {
     "data": {
      "text/plain": [
       "22"
      ]
     },
     "execution_count": 41,
     "metadata": {},
     "output_type": "execute_result"
    }
   ],
   "source": [
    "a.sub()"
   ]
  },
  {
   "cell_type": "code",
   "execution_count": 42,
   "id": "2ff1e9eb",
   "metadata": {},
   "outputs": [
    {
     "data": {
      "text/plain": [
       "1035"
      ]
     },
     "execution_count": 42,
     "metadata": {},
     "output_type": "execute_result"
    }
   ],
   "source": [
    "a.mul()"
   ]
  },
  {
   "cell_type": "code",
   "execution_count": 47,
   "id": "1cb73c1a",
   "metadata": {},
   "outputs": [
    {
     "name": "stdout",
     "output_type": "stream",
     "text": [
      "45\n",
      "23\n"
     ]
    },
    {
     "ename": "NameError",
     "evalue": "name 'college_name' is not defined",
     "output_type": "error",
     "traceback": [
      "\u001b[1;31m---------------------------------------------------------------------------\u001b[0m",
      "\u001b[1;31mNameError\u001b[0m                                 Traceback (most recent call last)",
      "\u001b[1;32m<ipython-input-47-f7c7c41098f4>\u001b[0m in \u001b[0;36m<module>\u001b[1;34m\u001b[0m\n\u001b[1;32m----> 1\u001b[1;33m \u001b[0ma\u001b[0m\u001b[1;33m.\u001b[0m\u001b[0mdisplay\u001b[0m\u001b[1;33m(\u001b[0m\u001b[1;33m)\u001b[0m\u001b[1;33m\u001b[0m\u001b[1;33m\u001b[0m\u001b[0m\n\u001b[0m",
      "\u001b[1;32m<ipython-input-44-593374fb6797>\u001b[0m in \u001b[0;36mdisplay\u001b[1;34m(self)\u001b[0m\n\u001b[0;32m     17\u001b[0m         \u001b[0mprint\u001b[0m\u001b[1;33m(\u001b[0m\u001b[0mself\u001b[0m\u001b[1;33m.\u001b[0m\u001b[0mn1\u001b[0m\u001b[1;33m)\u001b[0m\u001b[1;33m\u001b[0m\u001b[1;33m\u001b[0m\u001b[0m\n\u001b[0;32m     18\u001b[0m         \u001b[0mprint\u001b[0m\u001b[1;33m(\u001b[0m\u001b[0mself\u001b[0m\u001b[1;33m.\u001b[0m\u001b[0mn2\u001b[0m\u001b[1;33m)\u001b[0m\u001b[1;33m\u001b[0m\u001b[1;33m\u001b[0m\u001b[0m\n\u001b[1;32m---> 19\u001b[1;33m         \u001b[0mprint\u001b[0m\u001b[1;33m(\u001b[0m\u001b[0mcollege_name\u001b[0m\u001b[1;33m)\u001b[0m\u001b[1;33m\u001b[0m\u001b[1;33m\u001b[0m\u001b[0m\n\u001b[0m",
      "\u001b[1;31mNameError\u001b[0m: name 'college_name' is not defined"
     ]
    }
   ],
   "source": [
    "a.display()"
   ]
  },
  {
   "cell_type": "code",
   "execution_count": null,
   "id": "960073ed",
   "metadata": {},
   "outputs": [],
   "source": []
  }
 ],
 "metadata": {
  "kernelspec": {
   "display_name": "Python 3",
   "language": "python",
   "name": "python3"
  },
  "language_info": {
   "codemirror_mode": {
    "name": "ipython",
    "version": 3
   },
   "file_extension": ".py",
   "mimetype": "text/x-python",
   "name": "python",
   "nbconvert_exporter": "python",
   "pygments_lexer": "ipython3",
   "version": "3.8.8"
  }
 },
 "nbformat": 4,
 "nbformat_minor": 5
}
