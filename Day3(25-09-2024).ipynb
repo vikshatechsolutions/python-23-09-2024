{
 "cells": [
  {
   "cell_type": "markdown",
   "id": "2887cf27-76c0-42cc-8932-af5bfd212047",
   "metadata": {},
   "source": [
    "##### Data types in python\n",
    "- represents the type of data present inside a variable\n",
    "-  we are not required to specify the type explicitly\n",
    "-  based on the value given type will be assigned automatically\n",
    "-  so python is dynamically typed language   \n",
    "**Inbuilt data types are**\n",
    "- int\n",
    "- float\n",
    "- complex\n",
    "- bool(True or False)\n",
    "- str - string- group of characters or a single character also comes under str data type\n",
    "  "
   ]
  },
  {
   "cell_type": "code",
   "execution_count": 1,
   "id": "ed09306b-a6d1-42f8-91a7-4c5311ae76a6",
   "metadata": {},
   "outputs": [],
   "source": [
    "a= 1000 "
   ]
  },
  {
   "cell_type": "code",
   "execution_count": 2,
   "id": "21145242-dbad-4d24-8ff0-fcb2342d68c6",
   "metadata": {},
   "outputs": [
    {
     "data": {
      "text/plain": [
       "int"
      ]
     },
     "execution_count": 2,
     "metadata": {},
     "output_type": "execute_result"
    }
   ],
   "source": [
    "# to check any type of data we use a inbuilt function called type()\n",
    "type(a)"
   ]
  },
  {
   "cell_type": "code",
   "execution_count": 3,
   "id": "98441353-d745-48c7-9810-33974cdecdfb",
   "metadata": {},
   "outputs": [
    {
     "data": {
      "text/plain": [
       "float"
      ]
     },
     "execution_count": 3,
     "metadata": {},
     "output_type": "execute_result"
    }
   ],
   "source": [
    "b= 23.5\n",
    "type(b)"
   ]
  },
  {
   "cell_type": "code",
   "execution_count": 9,
   "id": "1bc144cd-bb3d-4bf6-b37c-76962b86e054",
   "metadata": {},
   "outputs": [
    {
     "data": {
      "text/plain": [
       "complex"
      ]
     },
     "execution_count": 9,
     "metadata": {},
     "output_type": "execute_result"
    }
   ],
   "source": [
    "c= 2+3j\n",
    "type(c)\n"
   ]
  },
  {
   "cell_type": "code",
   "execution_count": 5,
   "id": "daf446ab-1047-4029-82f1-0b9281f08a91",
   "metadata": {},
   "outputs": [
    {
     "data": {
      "text/plain": [
       "bool"
      ]
     },
     "execution_count": 5,
     "metadata": {},
     "output_type": "execute_result"
    }
   ],
   "source": [
    "d= True\n",
    "type(d)\n"
   ]
  },
  {
   "cell_type": "code",
   "execution_count": 10,
   "id": "926c2f25-6cb6-4836-8786-76bdd39e8fb8",
   "metadata": {},
   "outputs": [
    {
     "ename": "NameError",
     "evalue": "name 'true' is not defined",
     "output_type": "error",
     "traceback": [
      "\u001b[1;31m---------------------------------------------------------------------------\u001b[0m",
      "\u001b[1;31mNameError\u001b[0m                                 Traceback (most recent call last)",
      "Cell \u001b[1;32mIn[10], line 1\u001b[0m\n\u001b[1;32m----> 1\u001b[0m dd\u001b[38;5;241m=\u001b[39m\u001b[43mtrue\u001b[49m\n",
      "\u001b[1;31mNameError\u001b[0m: name 'true' is not defined"
     ]
    }
   ],
   "source": [
    "dd=true"
   ]
  },
  {
   "cell_type": "code",
   "execution_count": 6,
   "id": "b6b9f11c-ce10-4337-bac2-174646057b47",
   "metadata": {},
   "outputs": [
    {
     "data": {
      "text/plain": [
       "str"
      ]
     },
     "execution_count": 6,
     "metadata": {},
     "output_type": "execute_result"
    }
   ],
   "source": [
    "e= 'python'\n",
    "type(e)\n"
   ]
  },
  {
   "cell_type": "code",
   "execution_count": 7,
   "id": "123925b9-29fc-485e-805c-8b94121a06bd",
   "metadata": {},
   "outputs": [
    {
     "data": {
      "text/plain": [
       "str"
      ]
     },
     "execution_count": 7,
     "metadata": {},
     "output_type": "execute_result"
    }
   ],
   "source": [
    "f= 'a'\n",
    "type(f)"
   ]
  },
  {
   "cell_type": "code",
   "execution_count": 8,
   "id": "f710f3b9-2c56-49b7-9587-d5ace1e851ce",
   "metadata": {},
   "outputs": [
    {
     "data": {
      "text/plain": [
       "str"
      ]
     },
     "execution_count": 8,
     "metadata": {},
     "output_type": "execute_result"
    }
   ],
   "source": [
    "g= \"10\"\n",
    "type(g)"
   ]
  },
  {
   "cell_type": "code",
   "execution_count": 11,
   "id": "e45ad1c7-56ca-4f44-9930-0b7c59e85530",
   "metadata": {},
   "outputs": [
    {
     "data": {
      "text/plain": [
       "str"
      ]
     },
     "execution_count": 11,
     "metadata": {},
     "output_type": "execute_result"
    }
   ],
   "source": [
    "gg='10'\n",
    "type(gg)"
   ]
  },
  {
   "cell_type": "markdown",
   "id": "a9c8bfc3-2290-44ea-b34a-a00e8f26e10d",
   "metadata": {},
   "source": [
    "#### Type conversion\n",
    "- converting from one data type to another datatype"
   ]
  },
  {
   "cell_type": "code",
   "execution_count": 12,
   "id": "4d3e17c9-3bb3-4e91-b5f4-9fe25bc6ed11",
   "metadata": {},
   "outputs": [
    {
     "data": {
      "text/plain": [
       "int"
      ]
     },
     "execution_count": 12,
     "metadata": {},
     "output_type": "execute_result"
    }
   ],
   "source": [
    "abc= 89\n",
    "type(abc)"
   ]
  },
  {
   "cell_type": "code",
   "execution_count": 13,
   "id": "e16381bf-1d80-4956-a9fb-d7af18411a1a",
   "metadata": {},
   "outputs": [
    {
     "data": {
      "text/plain": [
       "89.0"
      ]
     },
     "execution_count": 13,
     "metadata": {},
     "output_type": "execute_result"
    }
   ],
   "source": [
    "float(abc)"
   ]
  },
  {
   "cell_type": "code",
   "execution_count": 14,
   "id": "a326fe39-8629-46b8-bf17-2d16db4ef53e",
   "metadata": {},
   "outputs": [
    {
     "data": {
      "text/plain": [
       "'89'"
      ]
     },
     "execution_count": 14,
     "metadata": {},
     "output_type": "execute_result"
    }
   ],
   "source": [
    "str(abc)"
   ]
  },
  {
   "cell_type": "code",
   "execution_count": 15,
   "id": "e2cc25a8-760a-4272-af22-bb3a44d4a6c1",
   "metadata": {},
   "outputs": [
    {
     "data": {
      "text/plain": [
       "(89+0j)"
      ]
     },
     "execution_count": 15,
     "metadata": {},
     "output_type": "execute_result"
    }
   ],
   "source": [
    "complex(abc)"
   ]
  },
  {
   "cell_type": "code",
   "execution_count": 16,
   "id": "2853796a-372e-42de-8258-47beef3e334b",
   "metadata": {},
   "outputs": [
    {
     "data": {
      "text/plain": [
       "True"
      ]
     },
     "execution_count": 16,
     "metadata": {},
     "output_type": "execute_result"
    }
   ],
   "source": [
    "bool(abc)"
   ]
  },
  {
   "cell_type": "code",
   "execution_count": 17,
   "id": "dd034430-e192-4f82-ba27-15c1a9e520ec",
   "metadata": {},
   "outputs": [
    {
     "data": {
      "text/plain": [
       "False"
      ]
     },
     "execution_count": 17,
     "metadata": {},
     "output_type": "execute_result"
    }
   ],
   "source": [
    "ss= 0\n",
    "bool(ss)"
   ]
  },
  {
   "cell_type": "code",
   "execution_count": 19,
   "id": "e56b4da4-3015-4cfb-b5c4-88a296e90f8e",
   "metadata": {},
   "outputs": [
    {
     "data": {
      "text/plain": [
       "True"
      ]
     },
     "execution_count": 19,
     "metadata": {},
     "output_type": "execute_result"
    }
   ],
   "source": [
    "#0-false\n",
    "#any other num -- true\n",
    "sa= -1\n",
    "bool(sa)"
   ]
  },
  {
   "cell_type": "code",
   "execution_count": 20,
   "id": "f1319287-9841-48d7-8761-0cb0a4d52362",
   "metadata": {},
   "outputs": [
    {
     "data": {
      "text/plain": [
       "34"
      ]
     },
     "execution_count": 20,
     "metadata": {},
     "output_type": "execute_result"
    }
   ],
   "source": [
    "ff= 34.5\n",
    "int(ff)"
   ]
  },
  {
   "cell_type": "code",
   "execution_count": 21,
   "id": "4bb111b4-af9b-4c4e-83a7-8e00defeeb98",
   "metadata": {},
   "outputs": [
    {
     "data": {
      "text/plain": [
       "'34.5'"
      ]
     },
     "execution_count": 21,
     "metadata": {},
     "output_type": "execute_result"
    }
   ],
   "source": [
    "str(ff)"
   ]
  },
  {
   "cell_type": "code",
   "execution_count": 22,
   "id": "4daf1254-06f8-473c-8441-bfd1cd8669c3",
   "metadata": {},
   "outputs": [
    {
     "data": {
      "text/plain": [
       "(34.5+0j)"
      ]
     },
     "execution_count": 22,
     "metadata": {},
     "output_type": "execute_result"
    }
   ],
   "source": [
    "complex(ff)"
   ]
  },
  {
   "cell_type": "code",
   "execution_count": 23,
   "id": "979aade9-c0e7-418e-b9f5-6686b944e26f",
   "metadata": {},
   "outputs": [
    {
     "data": {
      "text/plain": [
       "True"
      ]
     },
     "execution_count": 23,
     "metadata": {},
     "output_type": "execute_result"
    }
   ],
   "source": [
    "bool(ff)"
   ]
  },
  {
   "cell_type": "code",
   "execution_count": 24,
   "id": "b54a0c4b-3767-455f-a507-4a1b786db11c",
   "metadata": {},
   "outputs": [
    {
     "ename": "ValueError",
     "evalue": "invalid literal for int() with base 10: 'python'",
     "output_type": "error",
     "traceback": [
      "\u001b[1;31m---------------------------------------------------------------------------\u001b[0m",
      "\u001b[1;31mValueError\u001b[0m                                Traceback (most recent call last)",
      "Cell \u001b[1;32mIn[24], line 2\u001b[0m\n\u001b[0;32m      1\u001b[0m st\u001b[38;5;241m=\u001b[39m \u001b[38;5;124m'\u001b[39m\u001b[38;5;124mpython\u001b[39m\u001b[38;5;124m'\u001b[39m\n\u001b[1;32m----> 2\u001b[0m \u001b[38;5;28;43mint\u001b[39;49m\u001b[43m(\u001b[49m\u001b[43mst\u001b[49m\u001b[43m)\u001b[49m\n",
      "\u001b[1;31mValueError\u001b[0m: invalid literal for int() with base 10: 'python'"
     ]
    }
   ],
   "source": [
    "st= 'python'\n",
    "int(st)"
   ]
  },
  {
   "cell_type": "code",
   "execution_count": 26,
   "id": "c5cdad47-cb57-4d6e-9105-f0bd58e87dee",
   "metadata": {},
   "outputs": [
    {
     "data": {
      "text/plain": [
       "10"
      ]
     },
     "execution_count": 26,
     "metadata": {},
     "output_type": "execute_result"
    }
   ],
   "source": [
    "si= '10'\n",
    "int(si)"
   ]
  },
  {
   "cell_type": "code",
   "execution_count": 27,
   "id": "636aa6c8-7016-4c2b-8b0c-a94e10353338",
   "metadata": {},
   "outputs": [
    {
     "data": {
      "text/plain": [
       "(10+0j)"
      ]
     },
     "execution_count": 27,
     "metadata": {},
     "output_type": "execute_result"
    }
   ],
   "source": [
    "complex(si)"
   ]
  },
  {
   "cell_type": "code",
   "execution_count": 28,
   "id": "b4dedb91-11af-4a10-b78c-bf3408f29a66",
   "metadata": {},
   "outputs": [
    {
     "data": {
      "text/plain": [
       "10.0"
      ]
     },
     "execution_count": 28,
     "metadata": {},
     "output_type": "execute_result"
    }
   ],
   "source": [
    "float(si)"
   ]
  },
  {
   "cell_type": "code",
   "execution_count": 29,
   "id": "20b5a7f2-b570-4bf9-b15a-acafbab9d81c",
   "metadata": {},
   "outputs": [
    {
     "data": {
      "text/plain": [
       "True"
      ]
     },
     "execution_count": 29,
     "metadata": {},
     "output_type": "execute_result"
    }
   ],
   "source": [
    "bool(si)"
   ]
  },
  {
   "cell_type": "code",
   "execution_count": 30,
   "id": "1ce5e706-82fe-4667-a247-db07aac71e48",
   "metadata": {},
   "outputs": [
    {
     "data": {
      "text/plain": [
       "True"
      ]
     },
     "execution_count": 30,
     "metadata": {},
     "output_type": "execute_result"
    }
   ],
   "source": [
    "bool(st)"
   ]
  },
  {
   "cell_type": "code",
   "execution_count": 31,
   "id": "0f876cc9-bb03-4410-9300-f5dd7810fe36",
   "metadata": {},
   "outputs": [
    {
     "ename": "ValueError",
     "evalue": "complex() arg is a malformed string",
     "output_type": "error",
     "traceback": [
      "\u001b[1;31m---------------------------------------------------------------------------\u001b[0m",
      "\u001b[1;31mValueError\u001b[0m                                Traceback (most recent call last)",
      "Cell \u001b[1;32mIn[31], line 1\u001b[0m\n\u001b[1;32m----> 1\u001b[0m \u001b[38;5;28;43mcomplex\u001b[39;49m\u001b[43m(\u001b[49m\u001b[43mst\u001b[49m\u001b[43m)\u001b[49m\n",
      "\u001b[1;31mValueError\u001b[0m: complex() arg is a malformed string"
     ]
    }
   ],
   "source": [
    "complex(st)"
   ]
  },
  {
   "cell_type": "code",
   "execution_count": 32,
   "id": "f7055b2a-7695-4b45-9299-7981050538f7",
   "metadata": {},
   "outputs": [
    {
     "ename": "ValueError",
     "evalue": "could not convert string to float: 'python'",
     "output_type": "error",
     "traceback": [
      "\u001b[1;31m---------------------------------------------------------------------------\u001b[0m",
      "\u001b[1;31mValueError\u001b[0m                                Traceback (most recent call last)",
      "Cell \u001b[1;32mIn[32], line 1\u001b[0m\n\u001b[1;32m----> 1\u001b[0m \u001b[38;5;28;43mfloat\u001b[39;49m\u001b[43m(\u001b[49m\u001b[43mst\u001b[49m\u001b[43m)\u001b[49m\n",
      "\u001b[1;31mValueError\u001b[0m: could not convert string to float: 'python'"
     ]
    }
   ],
   "source": [
    "float(st)"
   ]
  },
  {
   "cell_type": "markdown",
   "id": "bff679f5-b4e3-4371-a203-635a479808d8",
   "metadata": {},
   "source": [
    "#### Number systems\n",
    "- decimal\n",
    "- binary--bin()\n",
    "- octal---oct()\n",
    "- hexadecimal---hex()"
   ]
  },
  {
   "cell_type": "code",
   "execution_count": 46,
   "id": "5a2039cb-4ae2-452a-8de5-3a9301955e2a",
   "metadata": {},
   "outputs": [
    {
     "data": {
      "text/plain": [
       "'0b1000110111'"
      ]
     },
     "execution_count": 46,
     "metadata": {},
     "output_type": "execute_result"
    }
   ],
   "source": [
    "a=567\n",
    "bin(a)"
   ]
  },
  {
   "cell_type": "code",
   "execution_count": 47,
   "id": "a7febd89-53b6-4b72-9c6a-adc2eead9ebe",
   "metadata": {},
   "outputs": [
    {
     "data": {
      "text/plain": [
       "str"
      ]
     },
     "execution_count": 47,
     "metadata": {},
     "output_type": "execute_result"
    }
   ],
   "source": [
    "type(bin(a))"
   ]
  },
  {
   "cell_type": "code",
   "execution_count": 48,
   "id": "242c6ac8-1b1f-4c3f-9621-57f275548b1a",
   "metadata": {},
   "outputs": [
    {
     "data": {
      "text/plain": [
       "'0o1067'"
      ]
     },
     "execution_count": 48,
     "metadata": {},
     "output_type": "execute_result"
    }
   ],
   "source": [
    "oct(a)"
   ]
  },
  {
   "cell_type": "code",
   "execution_count": 49,
   "id": "43fc1ce0-9de2-4c95-982b-0773a8014cbe",
   "metadata": {},
   "outputs": [
    {
     "data": {
      "text/plain": [
       "'0x237'"
      ]
     },
     "execution_count": 49,
     "metadata": {},
     "output_type": "execute_result"
    }
   ],
   "source": [
    "hex(a)"
   ]
  },
  {
   "cell_type": "markdown",
   "id": "4e404856-e0eb-49c2-b758-8a2564801c47",
   "metadata": {},
   "source": [
    "- ord()---> gives you the ascii value of a given char\n",
    "- chr()---> gives the ascii character for the  given num"
   ]
  },
  {
   "cell_type": "code",
   "execution_count": 37,
   "id": "8bdcb0ad-e595-4cc4-b3a7-d07e38fa1cc3",
   "metadata": {},
   "outputs": [
    {
     "data": {
      "text/plain": [
       "97"
      ]
     },
     "execution_count": 37,
     "metadata": {},
     "output_type": "execute_result"
    }
   ],
   "source": [
    "ord('a')"
   ]
  },
  {
   "cell_type": "code",
   "execution_count": 38,
   "id": "a3d3b394-1f87-427f-8276-6ebe9c86a909",
   "metadata": {},
   "outputs": [
    {
     "data": {
      "text/plain": [
       "65"
      ]
     },
     "execution_count": 38,
     "metadata": {},
     "output_type": "execute_result"
    }
   ],
   "source": [
    "ord('A')"
   ]
  },
  {
   "cell_type": "code",
   "execution_count": 39,
   "id": "e808c616-82f0-4ed4-acce-abf2bc0f3560",
   "metadata": {},
   "outputs": [
    {
     "data": {
      "text/plain": [
       "'A'"
      ]
     },
     "execution_count": 39,
     "metadata": {},
     "output_type": "execute_result"
    }
   ],
   "source": [
    "chr(65)"
   ]
  },
  {
   "cell_type": "code",
   "execution_count": 40,
   "id": "90684d52-1a21-4b46-ab51-4d2849de5006",
   "metadata": {},
   "outputs": [
    {
     "data": {
      "text/plain": [
       "'a'"
      ]
     },
     "execution_count": 40,
     "metadata": {},
     "output_type": "execute_result"
    }
   ],
   "source": [
    "chr(97)"
   ]
  },
  {
   "cell_type": "code",
   "execution_count": 41,
   "id": "09b8b6b1-a258-404e-b797-5b19e7382bae",
   "metadata": {},
   "outputs": [
    {
     "data": {
      "text/plain": [
       "10"
      ]
     },
     "execution_count": 41,
     "metadata": {},
     "output_type": "execute_result"
    }
   ],
   "source": [
    "0b1010"
   ]
  },
  {
   "cell_type": "code",
   "execution_count": 42,
   "id": "d78500ed-2b36-40e0-aada-efd0e9bff162",
   "metadata": {},
   "outputs": [
    {
     "data": {
      "text/plain": [
       "274"
      ]
     },
     "execution_count": 42,
     "metadata": {},
     "output_type": "execute_result"
    }
   ],
   "source": [
    "0x112"
   ]
  },
  {
   "cell_type": "markdown",
   "id": "9f49ba4f-1c63-49d7-aa82-807ffc46cea9",
   "metadata": {},
   "source": [
    "#### Input and Output Statements\n",
    "- input()----> reads the data from the user\n",
    "- print()----> used to display the result/output/info"
   ]
  },
  {
   "cell_type": "code",
   "execution_count": 50,
   "id": "5f7fecea-a3c2-46d6-9366-af2a3bfaa6ec",
   "metadata": {},
   "outputs": [
    {
     "name": "stdin",
     "output_type": "stream",
     "text": [
      " 5\n"
     ]
    },
    {
     "data": {
      "text/plain": [
       "'5'"
      ]
     },
     "execution_count": 50,
     "metadata": {},
     "output_type": "execute_result"
    }
   ],
   "source": [
    "input()"
   ]
  },
  {
   "cell_type": "code",
   "execution_count": 51,
   "id": "c5490441-8366-4c0e-a5cd-e20bc5959bdb",
   "metadata": {},
   "outputs": [
    {
     "name": "stdin",
     "output_type": "stream",
     "text": [
      " abc\n"
     ]
    },
    {
     "data": {
      "text/plain": [
       "'abc'"
      ]
     },
     "execution_count": 51,
     "metadata": {},
     "output_type": "execute_result"
    }
   ],
   "source": [
    "input()"
   ]
  },
  {
   "cell_type": "code",
   "execution_count": 52,
   "id": "0b5128ba-d73c-480b-9cca-c6143abe63f1",
   "metadata": {},
   "outputs": [
    {
     "name": "stdin",
     "output_type": "stream",
     "text": [
      " 2+3j\n"
     ]
    },
    {
     "data": {
      "text/plain": [
       "'2+3j'"
      ]
     },
     "execution_count": 52,
     "metadata": {},
     "output_type": "execute_result"
    }
   ],
   "source": [
    "input()"
   ]
  },
  {
   "cell_type": "code",
   "execution_count": null,
   "id": "42e45087-3366-4935-96e4-32305a9cdff4",
   "metadata": {},
   "outputs": [],
   "source": [
    "input()"
   ]
  },
  {
   "cell_type": "code",
   "execution_count": 1,
   "id": "866ad248-ec15-40a4-b678-b330583c9ed5",
   "metadata": {},
   "outputs": [
    {
     "name": "stdin",
     "output_type": "stream",
     "text": [
      " False\n"
     ]
    },
    {
     "data": {
      "text/plain": [
       "'False'"
      ]
     },
     "execution_count": 1,
     "metadata": {},
     "output_type": "execute_result"
    }
   ],
   "source": [
    "input()"
   ]
  },
  {
   "cell_type": "code",
   "execution_count": 2,
   "id": "e6f8dfad-3a26-476b-9f79-6be6751b81d0",
   "metadata": {},
   "outputs": [
    {
     "name": "stdout",
     "output_type": "stream",
     "text": [
      "Python is high level programming language\n"
     ]
    }
   ],
   "source": [
    "print('Python is high level programming language')"
   ]
  },
  {
   "cell_type": "code",
   "execution_count": 3,
   "id": "cfad7b51-3dc4-4d22-894a-bd6a8cc474e4",
   "metadata": {},
   "outputs": [
    {
     "name": "stdout",
     "output_type": "stream",
     "text": [
      "10\n"
     ]
    }
   ],
   "source": [
    "print(10)"
   ]
  },
  {
   "cell_type": "code",
   "execution_count": 4,
   "id": "6e6e8ff8-b9b8-4c26-9259-24b678ca4ebb",
   "metadata": {},
   "outputs": [
    {
     "name": "stdin",
     "output_type": "stream",
     "text": [
      "enter a no 23\n"
     ]
    },
    {
     "name": "stdout",
     "output_type": "stream",
     "text": [
      "23\n"
     ]
    }
   ],
   "source": [
    "# Write a program to read a input from the user and display the result\n",
    "inp=input('enter a no')\n",
    "print(inp)"
   ]
  },
  {
   "cell_type": "code",
   "execution_count": 5,
   "id": "26406676-b5df-4087-80e3-2b830bcd17a1",
   "metadata": {},
   "outputs": [
    {
     "data": {
      "text/plain": [
       "str"
      ]
     },
     "execution_count": 5,
     "metadata": {},
     "output_type": "execute_result"
    }
   ],
   "source": [
    "type(inp)"
   ]
  },
  {
   "cell_type": "code",
   "execution_count": 6,
   "id": "57d00998-2dbe-46b6-af36-2c7b2cd97ed3",
   "metadata": {},
   "outputs": [
    {
     "name": "stdout",
     "output_type": "stream",
     "text": [
      "<class 'str'>\n"
     ]
    }
   ],
   "source": [
    "print(type(inp))"
   ]
  },
  {
   "cell_type": "code",
   "execution_count": 8,
   "id": "f349f43a-8935-4318-a526-f37bf6f59281",
   "metadata": {},
   "outputs": [
    {
     "name": "stdin",
     "output_type": "stream",
     "text": [
      "enter a no 34\n"
     ]
    },
    {
     "name": "stdout",
     "output_type": "stream",
     "text": [
      "<class 'int'>\n"
     ]
    }
   ],
   "source": [
    "# read an integer input from the user\n",
    "inp=input('enter a no')\n",
    "abc=int(inp) # type conversin from str to int\n",
    "print(type(abc)) "
   ]
  },
  {
   "cell_type": "code",
   "execution_count": 10,
   "id": "30690e12-40c7-49b9-b712-599724abf470",
   "metadata": {},
   "outputs": [
    {
     "name": "stdin",
     "output_type": "stream",
     "text": [
      "enter a no 34\n"
     ]
    },
    {
     "name": "stdout",
     "output_type": "stream",
     "text": [
      "34.0\n"
     ]
    }
   ],
   "source": [
    "# read the float input from the user and display the result\n",
    "f=float(input('enter a no'))\n",
    "print(f)"
   ]
  },
  {
   "cell_type": "code",
   "execution_count": 11,
   "id": "bcd1ee6e-104f-4cfd-8874-4aaff752c334",
   "metadata": {},
   "outputs": [
    {
     "name": "stdin",
     "output_type": "stream",
     "text": [
      "enter a no 45\n"
     ]
    },
    {
     "name": "stdout",
     "output_type": "stream",
     "text": [
      "45.0\n"
     ]
    }
   ],
   "source": [
    "f=float(input('enter a no'))\n",
    "print(f)"
   ]
  },
  {
   "cell_type": "code",
   "execution_count": 12,
   "id": "720b4bfa-1b7d-4bf6-9069-da13ff746edd",
   "metadata": {},
   "outputs": [
    {
     "name": "stdout",
     "output_type": "stream",
     "text": [
      "40\n"
     ]
    }
   ],
   "source": [
    "a=10 # static way\n",
    "b=30 \n",
    "print(a+b)"
   ]
  },
  {
   "cell_type": "code",
   "execution_count": 13,
   "id": "bf5240f7-9aa0-45a7-a584-dba80ffa8d76",
   "metadata": {},
   "outputs": [
    {
     "name": "stdout",
     "output_type": "stream",
     "text": [
      "90\n"
     ]
    }
   ],
   "source": [
    "a=40\n",
    "b=50\n",
    "print(a+b)"
   ]
  },
  {
   "cell_type": "code",
   "execution_count": 15,
   "id": "2ba1765f-7d03-4caa-bad8-17f0b63263fb",
   "metadata": {},
   "outputs": [
    {
     "name": "stdin",
     "output_type": "stream",
     "text": [
      "enter the value of a 30\n",
      "enter the value of b 40\n"
     ]
    },
    {
     "name": "stdout",
     "output_type": "stream",
     "text": [
      "70\n"
     ]
    }
   ],
   "source": [
    "a= int(input(\"enter the value of a\"))\n",
    "b= int(input(\"enter the value of b\"))\n",
    "print(a+b)"
   ]
  },
  {
   "cell_type": "code",
   "execution_count": null,
   "id": "9a0c881b-0dcd-4889-b67b-b99a9d387d50",
   "metadata": {},
   "outputs": [],
   "source": []
  }
 ],
 "metadata": {
  "kernelspec": {
   "display_name": "Python 3 (ipykernel)",
   "language": "python",
   "name": "python3"
  },
  "language_info": {
   "codemirror_mode": {
    "name": "ipython",
    "version": 3
   },
   "file_extension": ".py",
   "mimetype": "text/x-python",
   "name": "python",
   "nbconvert_exporter": "python",
   "pygments_lexer": "ipython3",
   "version": "3.12.1"
  }
 },
 "nbformat": 4,
 "nbformat_minor": 5
}
