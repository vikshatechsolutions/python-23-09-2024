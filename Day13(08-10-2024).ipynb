{
 "cells": [
  {
   "cell_type": "markdown",
   "id": "19a9f23f",
   "metadata": {},
   "source": [
    "#### Regular expressions"
   ]
  },
  {
   "cell_type": "code",
   "execution_count": 1,
   "id": "9712816b",
   "metadata": {},
   "outputs": [],
   "source": [
    "import re"
   ]
  },
  {
   "cell_type": "code",
   "execution_count": 2,
   "id": "5ed3a263",
   "metadata": {},
   "outputs": [
    {
     "data": {
      "text/plain": [
       "['A',\n",
       " 'ASCII',\n",
       " 'DEBUG',\n",
       " 'DOTALL',\n",
       " 'I',\n",
       " 'IGNORECASE',\n",
       " 'L',\n",
       " 'LOCALE',\n",
       " 'M',\n",
       " 'MULTILINE',\n",
       " 'Match',\n",
       " 'Pattern',\n",
       " 'RegexFlag',\n",
       " 'S',\n",
       " 'Scanner',\n",
       " 'T',\n",
       " 'TEMPLATE',\n",
       " 'U',\n",
       " 'UNICODE',\n",
       " 'VERBOSE',\n",
       " 'X',\n",
       " '_MAXCACHE',\n",
       " '__all__',\n",
       " '__builtins__',\n",
       " '__cached__',\n",
       " '__doc__',\n",
       " '__file__',\n",
       " '__loader__',\n",
       " '__name__',\n",
       " '__package__',\n",
       " '__spec__',\n",
       " '__version__',\n",
       " '_cache',\n",
       " '_compile',\n",
       " '_compile_repl',\n",
       " '_expand',\n",
       " '_locale',\n",
       " '_pickle',\n",
       " '_special_chars_map',\n",
       " '_subx',\n",
       " 'compile',\n",
       " 'copyreg',\n",
       " 'enum',\n",
       " 'error',\n",
       " 'escape',\n",
       " 'findall',\n",
       " 'finditer',\n",
       " 'fullmatch',\n",
       " 'functools',\n",
       " 'match',\n",
       " 'purge',\n",
       " 'search',\n",
       " 'split',\n",
       " 'sre_compile',\n",
       " 'sre_parse',\n",
       " 'sub',\n",
       " 'subn',\n",
       " 'template']"
      ]
     },
     "execution_count": 2,
     "metadata": {},
     "output_type": "execute_result"
    }
   ],
   "source": [
    "dir(re)"
   ]
  },
  {
   "cell_type": "code",
   "execution_count": 4,
   "id": "a5928dd4",
   "metadata": {},
   "outputs": [
    {
     "name": "stdout",
     "output_type": "stream",
     "text": [
      "True\n"
     ]
    }
   ],
   "source": [
    "s=\"python\"\n",
    "print('t' in s)"
   ]
  },
  {
   "cell_type": "code",
   "execution_count": 5,
   "id": "966ca7e2",
   "metadata": {},
   "outputs": [
    {
     "name": "stdout",
     "output_type": "stream",
     "text": [
      "Help on function search in module re:\n",
      "\n",
      "search(pattern, string, flags=0)\n",
      "    Scan through string looking for a match to the pattern, returning\n",
      "    a Match object, or None if no match was found.\n",
      "\n"
     ]
    }
   ],
   "source": [
    "help(re.search)"
   ]
  },
  {
   "cell_type": "code",
   "execution_count": 6,
   "id": "e603168d",
   "metadata": {},
   "outputs": [
    {
     "data": {
      "text/plain": [
       "'python'"
      ]
     },
     "execution_count": 6,
     "metadata": {},
     "output_type": "execute_result"
    }
   ],
   "source": [
    "s"
   ]
  },
  {
   "cell_type": "code",
   "execution_count": 7,
   "id": "c4a841ea",
   "metadata": {},
   "outputs": [
    {
     "data": {
      "text/plain": [
       "<re.Match object; span=(2, 3), match='t'>"
      ]
     },
     "execution_count": 7,
     "metadata": {},
     "output_type": "execute_result"
    }
   ],
   "source": [
    "re.search('t',s)"
   ]
  },
  {
   "cell_type": "code",
   "execution_count": 8,
   "id": "34ddb9b2",
   "metadata": {},
   "outputs": [
    {
     "data": {
      "text/plain": [
       "'t'"
      ]
     },
     "execution_count": 8,
     "metadata": {},
     "output_type": "execute_result"
    }
   ],
   "source": [
    "s[2:3]"
   ]
  },
  {
   "cell_type": "code",
   "execution_count": 9,
   "id": "020ce355",
   "metadata": {},
   "outputs": [
    {
     "name": "stdout",
     "output_type": "stream",
     "text": [
      "None\n"
     ]
    }
   ],
   "source": [
    "print(re.search('a',s))"
   ]
  },
  {
   "cell_type": "code",
   "execution_count": 10,
   "id": "0a50b7de",
   "metadata": {},
   "outputs": [
    {
     "name": "stdout",
     "output_type": "stream",
     "text": [
      "Help on function match in module re:\n",
      "\n",
      "match(pattern, string, flags=0)\n",
      "    Try to apply the pattern at the start of the string, returning\n",
      "    a Match object, or None if no match was found.\n",
      "\n"
     ]
    }
   ],
   "source": [
    "help(re.match)"
   ]
  },
  {
   "cell_type": "code",
   "execution_count": 11,
   "id": "0a382b29",
   "metadata": {},
   "outputs": [
    {
     "name": "stdout",
     "output_type": "stream",
     "text": [
      "None\n"
     ]
    }
   ],
   "source": [
    "print(re.match('t', 'python'))"
   ]
  },
  {
   "cell_type": "code",
   "execution_count": 13,
   "id": "a6a78524",
   "metadata": {},
   "outputs": [
    {
     "name": "stdout",
     "output_type": "stream",
     "text": [
      "<re.Match object; span=(0, 1), match='c'>\n"
     ]
    }
   ],
   "source": [
    "print(re.match('c', 'cpython'))"
   ]
  },
  {
   "cell_type": "code",
   "execution_count": 14,
   "id": "54cef71c",
   "metadata": {},
   "outputs": [
    {
     "name": "stdout",
     "output_type": "stream",
     "text": [
      "<re.Match object; span=(0, 1), match='c'>\n"
     ]
    }
   ],
   "source": [
    "print(re.search('c', 'cpython'))"
   ]
  },
  {
   "cell_type": "code",
   "execution_count": 15,
   "id": "3e0167c6",
   "metadata": {},
   "outputs": [
    {
     "name": "stdout",
     "output_type": "stream",
     "text": [
      "Help on function findall in module re:\n",
      "\n",
      "findall(pattern, string, flags=0)\n",
      "    Return a list of all non-overlapping matches in the string.\n",
      "    \n",
      "    If one or more capturing groups are present in the pattern, return\n",
      "    a list of groups; this will be a list of tuples if the pattern\n",
      "    has more than one group.\n",
      "    \n",
      "    Empty matches are included in the result.\n",
      "\n"
     ]
    }
   ],
   "source": [
    "help(re.findall)"
   ]
  },
  {
   "cell_type": "code",
   "execution_count": 16,
   "id": "d782eeff",
   "metadata": {},
   "outputs": [
    {
     "data": {
      "text/plain": [
       "['t', 't']"
      ]
     },
     "execution_count": 16,
     "metadata": {},
     "output_type": "execute_result"
    }
   ],
   "source": [
    "re.findall(\"t\",'template')"
   ]
  },
  {
   "cell_type": "code",
   "execution_count": 17,
   "id": "1090dece",
   "metadata": {},
   "outputs": [
    {
     "data": {
      "text/plain": [
       "<re.Match object; span=(0, 2), match='py'>"
      ]
     },
     "execution_count": 17,
     "metadata": {},
     "output_type": "execute_result"
    }
   ],
   "source": [
    "#[] set of characters(it tries to match any of the characters given )\n",
    "re.search('py','python')"
   ]
  },
  {
   "cell_type": "code",
   "execution_count": 19,
   "id": "cbb180fe",
   "metadata": {},
   "outputs": [
    {
     "data": {
      "text/plain": [
       "<re.Match object; span=(0, 1), match='p'>"
      ]
     },
     "execution_count": 19,
     "metadata": {},
     "output_type": "execute_result"
    }
   ],
   "source": [
    "re.search('[py]', 'python')"
   ]
  },
  {
   "cell_type": "code",
   "execution_count": 21,
   "id": "59b22091",
   "metadata": {},
   "outputs": [
    {
     "data": {
      "text/plain": [
       "<re.Match object; span=(0, 1), match='y'>"
      ]
     },
     "execution_count": 21,
     "metadata": {},
     "output_type": "execute_result"
    }
   ],
   "source": [
    "re.search('[py]', 'ythonp')"
   ]
  },
  {
   "cell_type": "code",
   "execution_count": 22,
   "id": "e40ba625",
   "metadata": {},
   "outputs": [
    {
     "data": {
      "text/plain": [
       "<re.Match object; span=(4, 5), match='d'>"
      ]
     },
     "execution_count": 22,
     "metadata": {},
     "output_type": "execute_result"
    }
   ],
   "source": [
    "re.search('[abcd]','jhfjdfabc')"
   ]
  },
  {
   "cell_type": "code",
   "execution_count": 23,
   "id": "206d2a11",
   "metadata": {},
   "outputs": [
    {
     "data": {
      "text/plain": [
       "<re.Match object; span=(1, 2), match='a'>"
      ]
     },
     "execution_count": 23,
     "metadata": {},
     "output_type": "execute_result"
    }
   ],
   "source": [
    "re.search('[abcd]','jaashdja')"
   ]
  },
  {
   "cell_type": "code",
   "execution_count": 24,
   "id": "cf254021",
   "metadata": {},
   "outputs": [
    {
     "data": {
      "text/plain": [
       "<re.Match object; span=(0, 2), match='pp'>"
      ]
     },
     "execution_count": 24,
     "metadata": {},
     "output_type": "execute_result"
    }
   ],
   "source": [
    "# '+' is for one or more ocurrences\n",
    "re.search('[pt]+','ppython')"
   ]
  },
  {
   "cell_type": "code",
   "execution_count": 25,
   "id": "786b5c95",
   "metadata": {},
   "outputs": [
    {
     "data": {
      "text/plain": [
       "<re.Match object; span=(0, 1), match='p'>"
      ]
     },
     "execution_count": 25,
     "metadata": {},
     "output_type": "execute_result"
    }
   ],
   "source": [
    "re.search('[pt]+','pypthon')"
   ]
  },
  {
   "cell_type": "code",
   "execution_count": 26,
   "id": "0db9e98b",
   "metadata": {},
   "outputs": [
    {
     "data": {
      "text/plain": [
       "<re.Match object; span=(0, 5), match='ppppp'>"
      ]
     },
     "execution_count": 26,
     "metadata": {},
     "output_type": "execute_result"
    }
   ],
   "source": [
    "re.search('[pt]+','pppppypthon')"
   ]
  },
  {
   "cell_type": "code",
   "execution_count": 27,
   "id": "3d81ed2b",
   "metadata": {},
   "outputs": [
    {
     "data": {
      "text/plain": [
       "<re.Match object; span=(0, 0), match=''>"
      ]
     },
     "execution_count": 27,
     "metadata": {},
     "output_type": "execute_result"
    }
   ],
   "source": [
    "# '*' is used for zero or more occurences\n",
    "re.search('[pt]*','viksha')"
   ]
  },
  {
   "cell_type": "code",
   "execution_count": 28,
   "id": "c57b8c7b",
   "metadata": {},
   "outputs": [
    {
     "data": {
      "text/plain": [
       "<re.Match object; span=(0, 3), match='aha'>"
      ]
     },
     "execution_count": 28,
     "metadata": {},
     "output_type": "execute_result"
    }
   ],
   "source": [
    "# '.' is used to match any character\n",
    "re.search('a.a','aha')"
   ]
  },
  {
   "cell_type": "code",
   "execution_count": 29,
   "id": "123d42fd",
   "metadata": {},
   "outputs": [
    {
     "data": {
      "text/plain": [
       "<re.Match object; span=(0, 4), match='amma'>"
      ]
     },
     "execution_count": 29,
     "metadata": {},
     "output_type": "execute_result"
    }
   ],
   "source": [
    "re.search('a..a','amma')"
   ]
  },
  {
   "cell_type": "code",
   "execution_count": 30,
   "id": "efc709c2",
   "metadata": {},
   "outputs": [
    {
     "data": {
      "text/plain": [
       "<re.Match object; span=(0, 4), match='amma'>"
      ]
     },
     "execution_count": 30,
     "metadata": {},
     "output_type": "execute_result"
    }
   ],
   "source": [
    "re.search('a..a','ammajhdjhdkj')"
   ]
  },
  {
   "cell_type": "code",
   "execution_count": 31,
   "id": "82d16e10",
   "metadata": {},
   "outputs": [
    {
     "data": {
      "text/plain": [
       "['amla', 'akka', 'aura']"
      ]
     },
     "execution_count": 31,
     "metadata": {},
     "output_type": "execute_result"
    }
   ],
   "source": [
    "re.findall('a..a','amlahdfhhamrutahhjjakkadhjhaura')"
   ]
  },
  {
   "cell_type": "code",
   "execution_count": 32,
   "id": "6e4a4fd8",
   "metadata": {},
   "outputs": [
    {
     "data": {
      "text/plain": [
       "['aml  a']"
      ]
     },
     "execution_count": 32,
     "metadata": {},
     "output_type": "execute_result"
    }
   ],
   "source": [
    "re.findall('a.. a','aml  ahdfhhamrutahhjjakkadhjhaura')"
   ]
  },
  {
   "cell_type": "code",
   "execution_count": 33,
   "id": "096a6d8d",
   "metadata": {},
   "outputs": [
    {
     "data": {
      "text/plain": [
       "<re.Match object; span=(0, 1), match='a'>"
      ]
     },
     "execution_count": 33,
     "metadata": {},
     "output_type": "execute_result"
    }
   ],
   "source": [
    "# ^ or \\A used to check the starting of the string \n",
    "re.search('^a', 'amruta')"
   ]
  },
  {
   "cell_type": "code",
   "execution_count": 34,
   "id": "ca6ab88c",
   "metadata": {},
   "outputs": [],
   "source": [
    "re.search('^a', 'capple')"
   ]
  },
  {
   "cell_type": "code",
   "execution_count": 35,
   "id": "26b7de75",
   "metadata": {},
   "outputs": [
    {
     "data": {
      "text/plain": [
       "<re.Match object; span=(0, 1), match='d'>"
      ]
     },
     "execution_count": 35,
     "metadata": {},
     "output_type": "execute_result"
    }
   ],
   "source": [
    "re.search('^[abcd]','durga')"
   ]
  },
  {
   "cell_type": "code",
   "execution_count": 37,
   "id": "f986b4d3",
   "metadata": {},
   "outputs": [
    {
     "name": "stdout",
     "output_type": "stream",
     "text": [
      "None\n"
     ]
    }
   ],
   "source": [
    "print(re.search('^[abcd]','sandhya'))"
   ]
  },
  {
   "cell_type": "code",
   "execution_count": 38,
   "id": "00cecd6b",
   "metadata": {},
   "outputs": [
    {
     "name": "stdout",
     "output_type": "stream",
     "text": [
      "abhishek\n",
      "valid\n",
      "jagadeesh\n",
      "valid\n",
      "vignesh\n",
      "valid\n",
      "cat\n",
      "invalid\n"
     ]
    }
   ],
   "source": [
    "# write a program in python to take 4 string inputs \n",
    "#print valid if string starts with any of character j,v,s,a otherwise invalid\n",
    "for i in range(4):\n",
    "    s=input()\n",
    "    if re.search('^[jvsa]', s):\n",
    "        print(\"valid\")\n",
    "    else:\n",
    "        print(\"invalid\")"
   ]
  },
  {
   "cell_type": "code",
   "execution_count": 39,
   "id": "d5fd5ec7",
   "metadata": {},
   "outputs": [
    {
     "data": {
      "text/plain": [
       "<re.Match object; span=(0, 6), match='python'>"
      ]
     },
     "execution_count": 39,
     "metadata": {},
     "output_type": "execute_result"
    }
   ],
   "source": [
    "re.search('^python',\"python123\")"
   ]
  },
  {
   "cell_type": "code",
   "execution_count": 40,
   "id": "2052c9e1",
   "metadata": {},
   "outputs": [],
   "source": [
    "re.search('^python',\"123python\")"
   ]
  },
  {
   "cell_type": "code",
   "execution_count": 41,
   "id": "b9248f45",
   "metadata": {},
   "outputs": [],
   "source": [
    "re.search('\\As', 'vemu')"
   ]
  },
  {
   "cell_type": "code",
   "execution_count": 42,
   "id": "871d1f69",
   "metadata": {},
   "outputs": [
    {
     "data": {
      "text/plain": [
       "<re.Match object; span=(0, 1), match='v'>"
      ]
     },
     "execution_count": 42,
     "metadata": {},
     "output_type": "execute_result"
    }
   ],
   "source": [
    "re.search('\\Av', 'vemu')"
   ]
  },
  {
   "cell_type": "code",
   "execution_count": 45,
   "id": "6fe21db2",
   "metadata": {},
   "outputs": [
    {
     "data": {
      "text/plain": [
       "<re.Match object; span=(3, 4), match='i'>"
      ]
     },
     "execution_count": 45,
     "metadata": {},
     "output_type": "execute_result"
    }
   ],
   "source": [
    "# $ or \\Z is used to match the end of the string\n",
    "re.search('i\\Z','mini')"
   ]
  },
  {
   "cell_type": "code",
   "execution_count": 46,
   "id": "d08c020d",
   "metadata": {},
   "outputs": [
    {
     "data": {
      "text/plain": [
       "<re.Match object; span=(4, 5), match='a'>"
      ]
     },
     "execution_count": 46,
     "metadata": {},
     "output_type": "execute_result"
    }
   ],
   "source": [
    "re.search('a$','india')"
   ]
  },
  {
   "cell_type": "code",
   "execution_count": 47,
   "id": "85201fcf",
   "metadata": {},
   "outputs": [],
   "source": [
    "# starting with a and ending with a\n",
    "re.search('^a..a$', 'ammajhdjhdkj')"
   ]
  },
  {
   "cell_type": "code",
   "execution_count": 48,
   "id": "528f9e43",
   "metadata": {},
   "outputs": [
    {
     "data": {
      "text/plain": [
       "<re.Match object; span=(0, 4), match='amma'>"
      ]
     },
     "execution_count": 48,
     "metadata": {},
     "output_type": "execute_result"
    }
   ],
   "source": [
    "re.search('^a..a$', 'amma')"
   ]
  },
  {
   "cell_type": "code",
   "execution_count": 49,
   "id": "2958c651",
   "metadata": {},
   "outputs": [
    {
     "data": {
      "text/plain": [
       "<re.Match object; span=(0, 8), match='ajjjkjki'>"
      ]
     },
     "execution_count": 49,
     "metadata": {},
     "output_type": "execute_result"
    }
   ],
   "source": [
    "re.search(\"^a.+i$\", 'ajjjkjki')\n"
   ]
  },
  {
   "cell_type": "code",
   "execution_count": 50,
   "id": "4c01fd7c",
   "metadata": {},
   "outputs": [
    {
     "data": {
      "text/plain": [
       "<re.Match object; span=(0, 43), match='ajjjkjkjknfjksdnfksdnfkdslnckdnkdlnkdnkdfni'>"
      ]
     },
     "execution_count": 50,
     "metadata": {},
     "output_type": "execute_result"
    }
   ],
   "source": [
    "re.search(\"^a.+i$\", 'ajjjkjkjknfjksdnfksdnfkdslnckdnkdlnkdnkdfni')"
   ]
  },
  {
   "cell_type": "code",
   "execution_count": 51,
   "id": "6a31ce67",
   "metadata": {},
   "outputs": [
    {
     "data": {
      "text/plain": [
       "<re.Match object; span=(0, 3), match='ari'>"
      ]
     },
     "execution_count": 51,
     "metadata": {},
     "output_type": "execute_result"
    }
   ],
   "source": [
    "re.search(\"^a.+i$\", 'ari')"
   ]
  },
  {
   "cell_type": "code",
   "execution_count": 52,
   "id": "5804f760",
   "metadata": {},
   "outputs": [
    {
     "data": {
      "text/plain": [
       "<re.Match object; span=(0, 2), match='ai'>"
      ]
     },
     "execution_count": 52,
     "metadata": {},
     "output_type": "execute_result"
    }
   ],
   "source": [
    "re.search(\"^a.*i$\", 'ai')"
   ]
  },
  {
   "cell_type": "code",
   "execution_count": 53,
   "id": "7e39d2f5",
   "metadata": {},
   "outputs": [
    {
     "data": {
      "text/plain": [
       "<re.Match object; span=(0, 3), match='ari'>"
      ]
     },
     "execution_count": 53,
     "metadata": {},
     "output_type": "execute_result"
    }
   ],
   "source": [
    "re.search(\"^a.*i$\", 'ari')"
   ]
  },
  {
   "cell_type": "code",
   "execution_count": 54,
   "id": "4364e0e1",
   "metadata": {},
   "outputs": [
    {
     "data": {
      "text/plain": [
       "<re.Match object; span=(0, 19), match='arjhakdjfkdaljkladi'>"
      ]
     },
     "execution_count": 54,
     "metadata": {},
     "output_type": "execute_result"
    }
   ],
   "source": [
    "re.search(\"^a.*i$\", 'arjhakdjfkdaljkladi')"
   ]
  },
  {
   "cell_type": "code",
   "execution_count": null,
   "id": "739d72b0",
   "metadata": {},
   "outputs": [],
   "source": []
  }
 ],
 "metadata": {
  "kernelspec": {
   "display_name": "Python 3",
   "language": "python",
   "name": "python3"
  },
  "language_info": {
   "codemirror_mode": {
    "name": "ipython",
    "version": 3
   },
   "file_extension": ".py",
   "mimetype": "text/x-python",
   "name": "python",
   "nbconvert_exporter": "python",
   "pygments_lexer": "ipython3",
   "version": "3.8.8"
  }
 },
 "nbformat": 4,
 "nbformat_minor": 5
}
