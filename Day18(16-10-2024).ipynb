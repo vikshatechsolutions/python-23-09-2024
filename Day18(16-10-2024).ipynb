{
 "cells": [
  {
   "cell_type": "markdown",
   "id": "98276ade",
   "metadata": {},
   "source": [
    "##### map(), filter(), reduce()"
   ]
  },
  {
   "cell_type": "code",
   "execution_count": 5,
   "id": "b2c42236",
   "metadata": {},
   "outputs": [],
   "source": [
    "#map()\n",
    "#syntax: map(function, *iterables)"
   ]
  },
  {
   "cell_type": "code",
   "execution_count": 8,
   "id": "789fd94d",
   "metadata": {},
   "outputs": [
    {
     "data": {
      "text/plain": [
       "<map at 0x13d4bc7b670>"
      ]
     },
     "execution_count": 8,
     "metadata": {},
     "output_type": "execute_result"
    }
   ],
   "source": [
    "def mul(a):\n",
    "    return a*a\n",
    "map(mul, [1,2,3,4,5,6,7,8,9])"
   ]
  },
  {
   "cell_type": "code",
   "execution_count": 9,
   "id": "7ef34b7f",
   "metadata": {},
   "outputs": [
    {
     "name": "stdout",
     "output_type": "stream",
     "text": [
      "[1, 4, 9, 16, 25, 36, 49, 64, 81]\n"
     ]
    }
   ],
   "source": [
    "x=map(mul, [1,2,3,4,5,6,7,8,9])\n",
    "print(list(x))"
   ]
  },
  {
   "cell_type": "code",
   "execution_count": 11,
   "id": "c1dacbae",
   "metadata": {},
   "outputs": [],
   "source": [
    "names=['jagadeesh','naveen','vignesh','swathi','sandhya']\n",
    "a=map(str.upper,names)"
   ]
  },
  {
   "cell_type": "code",
   "execution_count": 12,
   "id": "5cf27140",
   "metadata": {},
   "outputs": [
    {
     "data": {
      "text/plain": [
       "('JAGADEESH', 'NAVEEN', 'VIGNESH', 'SWATHI', 'SANDHYA')"
      ]
     },
     "execution_count": 12,
     "metadata": {},
     "output_type": "execute_result"
    }
   ],
   "source": [
    "tuple(a)"
   ]
  },
  {
   "cell_type": "code",
   "execution_count": 19,
   "id": "2c81d9d4",
   "metadata": {},
   "outputs": [],
   "source": [
    "#### map with lambda\n",
    "x=map(lambda x:x*x, [1,2,3,4,5,6,7,8,9])"
   ]
  },
  {
   "cell_type": "code",
   "execution_count": 20,
   "id": "fdce045e",
   "metadata": {},
   "outputs": [
    {
     "name": "stdout",
     "output_type": "stream",
     "text": [
      "[1, 4, 9, 16, 25, 36, 49, 64, 81]\n"
     ]
    }
   ],
   "source": [
    "print(list(x))"
   ]
  },
  {
   "cell_type": "markdown",
   "id": "dbfe626f",
   "metadata": {},
   "source": [
    "#### filter\n",
    "- filter(function, *iterables)\n"
   ]
  },
  {
   "cell_type": "code",
   "execution_count": 24,
   "id": "d8f97649",
   "metadata": {},
   "outputs": [],
   "source": [
    "l=[1,2,3,4,5,6,7,8,9]\n",
    "\n",
    "x=map(lambda x:x%2==0, l)"
   ]
  },
  {
   "cell_type": "code",
   "execution_count": 26,
   "id": "351e0510",
   "metadata": {},
   "outputs": [
    {
     "name": "stdout",
     "output_type": "stream",
     "text": [
      "[False, True, False, True, False, True, False, True, False]\n"
     ]
    }
   ],
   "source": [
    "print(list(x))"
   ]
  },
  {
   "cell_type": "code",
   "execution_count": 29,
   "id": "86c8f363",
   "metadata": {},
   "outputs": [
    {
     "data": {
      "text/plain": [
       "[2, 4, 6, 8]"
      ]
     },
     "execution_count": 29,
     "metadata": {},
     "output_type": "execute_result"
    }
   ],
   "source": [
    "list(filter(lambda x:x%2==0,l))"
   ]
  },
  {
   "cell_type": "code",
   "execution_count": 30,
   "id": "13647107",
   "metadata": {},
   "outputs": [],
   "source": [
    "# write a program to filter the numbers which are less than 50 and print them in a list\n",
    "l=[1,45,67,34,56,78,89]"
   ]
  },
  {
   "cell_type": "code",
   "execution_count": 31,
   "id": "33051581",
   "metadata": {},
   "outputs": [
    {
     "name": "stdout",
     "output_type": "stream",
     "text": [
      "[1, 45, 34]\n"
     ]
    }
   ],
   "source": [
    "\n",
    "x=filter(lambda x:x<50,l)\n",
    "print(list(x))"
   ]
  },
  {
   "cell_type": "code",
   "execution_count": 32,
   "id": "0dbfbd1d",
   "metadata": {},
   "outputs": [
    {
     "name": "stdout",
     "output_type": "stream",
     "text": [
      "(True, True, False, True, False, False, False)\n"
     ]
    }
   ],
   "source": [
    "x= map(lambda x:x<50,l)\n",
    "print(tuple(x))"
   ]
  },
  {
   "cell_type": "code",
   "execution_count": 38,
   "id": "3614439a",
   "metadata": {},
   "outputs": [
    {
     "name": "stdout",
     "output_type": "stream",
     "text": [
      "2,3,4,5,9,8,10\n"
     ]
    },
    {
     "data": {
      "text/plain": [
       "str"
      ]
     },
     "execution_count": 38,
     "metadata": {},
     "output_type": "execute_result"
    }
   ],
   "source": [
    "#  read the input from the user and filterthe values which are divisible by 4\n",
    "# i/p 2,3,4,5,6,7,8,8,10,16 \n",
    "# o/p (4,8,16)\n",
    "n= input()\n",
    "type(n)"
   ]
  },
  {
   "cell_type": "code",
   "execution_count": 39,
   "id": "78b2783d",
   "metadata": {},
   "outputs": [
    {
     "data": {
      "text/plain": [
       "['2,3,4,5,9,8,10']"
      ]
     },
     "execution_count": 39,
     "metadata": {},
     "output_type": "execute_result"
    }
   ],
   "source": [
    "n.split()"
   ]
  },
  {
   "cell_type": "code",
   "execution_count": 41,
   "id": "6d31cab4",
   "metadata": {},
   "outputs": [
    {
     "name": "stdout",
     "output_type": "stream",
     "text": [
      "['2', '3', '4', '5', '9', '8', '10']\n"
     ]
    }
   ],
   "source": [
    "l=n.split(',')\n",
    "print(l)"
   ]
  },
  {
   "cell_type": "code",
   "execution_count": 42,
   "id": "634dcc22",
   "metadata": {},
   "outputs": [
    {
     "data": {
      "text/plain": [
       "[2, 3, 4, 5, 9, 8, 10]"
      ]
     },
     "execution_count": 42,
     "metadata": {},
     "output_type": "execute_result"
    }
   ],
   "source": [
    "list(map(int,l))"
   ]
  },
  {
   "cell_type": "code",
   "execution_count": 46,
   "id": "e8c5825e",
   "metadata": {},
   "outputs": [
    {
     "name": "stdout",
     "output_type": "stream",
     "text": [
      "2,3,4,5,8,10,12\n",
      "[2, 3, 4, 5, 8, 10, 12]\n",
      "(4, 8, 12)\n"
     ]
    }
   ],
   "source": [
    "x=list(map(int, input().split(',')))\n",
    "print(x)\n",
    "a=tuple(filter(lambda x:x%4==0, x))\n",
    "print(a)"
   ]
  },
  {
   "cell_type": "code",
   "execution_count": 49,
   "id": "4416bf87",
   "metadata": {},
   "outputs": [
    {
     "name": "stdout",
     "output_type": "stream",
     "text": [
      "1 2 3 4 5 6 7 8 9\n",
      "[1, 2, 3, 4, 5, 6, 7, 8, 9]\n"
     ]
    }
   ],
   "source": [
    "# write a program to print the sum of the given numbers\n",
    "#i/p --1 2 3 4 5 6 7 8 9 \n",
    "#o/p -- 41\n",
    "x=list(map(int,input().split(' ')))\n",
    "print(x)"
   ]
  },
  {
   "cell_type": "code",
   "execution_count": 50,
   "id": "c9ce2e91",
   "metadata": {},
   "outputs": [
    {
     "name": "stdout",
     "output_type": "stream",
     "text": [
      "45\n"
     ]
    }
   ],
   "source": [
    "sum=0\n",
    "for i in x:\n",
    "    sum=sum+i\n",
    "print(sum)"
   ]
  },
  {
   "cell_type": "code",
   "execution_count": 51,
   "id": "a107b876",
   "metadata": {
    "collapsed": true
   },
   "outputs": [
    {
     "name": "stdout",
     "output_type": "stream",
     "text": [
      "Help on built-in function reduce in module _functools:\n",
      "\n",
      "reduce(...)\n",
      "    reduce(function, sequence[, initial]) -> value\n",
      "    \n",
      "    Apply a function of two arguments cumulatively to the items of a sequence,\n",
      "    from left to right, so as to reduce the sequence to a single value.\n",
      "    For example, reduce(lambda x, y: x+y, [1, 2, 3, 4, 5]) calculates\n",
      "    ((((1+2)+3)+4)+5).  If initial is present, it is placed before the items\n",
      "    of the sequence in the calculation, and serves as a default when the\n",
      "    sequence is empty.\n",
      "\n"
     ]
    }
   ],
   "source": [
    "#### reduce\n",
    "from functools import reduce\n",
    "help(reduce)"
   ]
  },
  {
   "cell_type": "code",
   "execution_count": 54,
   "id": "cc27f02b",
   "metadata": {},
   "outputs": [
    {
     "data": {
      "text/plain": [
       "45"
      ]
     },
     "execution_count": 54,
     "metadata": {},
     "output_type": "execute_result"
    }
   ],
   "source": [
    "reduce(lambda x,y:x+y, [1,2,3,4,5,6,7,8,9])"
   ]
  },
  {
   "cell_type": "code",
   "execution_count": 55,
   "id": "a7ae3ce2",
   "metadata": {},
   "outputs": [
    {
     "name": "stdout",
     "output_type": "stream",
     "text": [
      "2 3 4 5 6 7 8 9 1\n"
     ]
    },
    {
     "data": {
      "text/plain": [
       "45"
      ]
     },
     "execution_count": 55,
     "metadata": {},
     "output_type": "execute_result"
    }
   ],
   "source": [
    "reduce(lambda x,y:x+y, list(map(int,input().split(' '))))"
   ]
  },
  {
   "cell_type": "code",
   "execution_count": 56,
   "id": "118ab89b",
   "metadata": {},
   "outputs": [
    {
     "name": "stdout",
     "output_type": "stream",
     "text": [
      "2*2*2*3*2*1\n"
     ]
    },
    {
     "data": {
      "text/plain": [
       "48"
      ]
     },
     "execution_count": 56,
     "metadata": {},
     "output_type": "execute_result"
    }
   ],
   "source": [
    "# write a program to find multiplication of given numbers\n",
    "# i/p--2*2*2*3*2*1\n",
    "# o/p--48\n",
    "reduce(lambda x,y:x*y,list(map(int,input().split(\"*\"))))"
   ]
  },
  {
   "cell_type": "code",
   "execution_count": 66,
   "id": "953fd727",
   "metadata": {},
   "outputs": [
    {
     "data": {
      "text/plain": [
       "True"
      ]
     },
     "execution_count": 66,
     "metadata": {},
     "output_type": "execute_result"
    }
   ],
   "source": [
    "### print the prime the given input\n",
    "# i/p-->2 3 4 5 6 7 8 9\n",
    "# o/p--->[2,3,5,7]\n",
    "\n",
    "def is_prime(n):\n",
    "    factor_count=0\n",
    "    for i in range(1,n+1):\n",
    "        if n%i==0:\n",
    "            factor_count=factor_count+1\n",
    "    if factor_count==2:\n",
    "        return True\n",
    "    else:\n",
    "        return False\n",
    "is_prime(3)"
   ]
  },
  {
   "cell_type": "code",
   "execution_count": 68,
   "id": "d94e4329",
   "metadata": {},
   "outputs": [
    {
     "name": "stdout",
     "output_type": "stream",
     "text": [
      "2 3 4 5 6 7 8 9\n",
      "[2, 3, 4, 5, 6, 7, 8, 9]\n",
      "[2, 3, 5, 7]\n"
     ]
    }
   ],
   "source": [
    "x=list(map(int, input().split(' ')))\n",
    "print(x)\n",
    "print(list(filter(is_prime,x)))"
   ]
  },
  {
   "cell_type": "code",
   "execution_count": null,
   "id": "018dd289",
   "metadata": {},
   "outputs": [],
   "source": []
  }
 ],
 "metadata": {
  "kernelspec": {
   "display_name": "Python 3",
   "language": "python",
   "name": "python3"
  },
  "language_info": {
   "codemirror_mode": {
    "name": "ipython",
    "version": 3
   },
   "file_extension": ".py",
   "mimetype": "text/x-python",
   "name": "python",
   "nbconvert_exporter": "python",
   "pygments_lexer": "ipython3",
   "version": "3.8.8"
  }
 },
 "nbformat": 4,
 "nbformat_minor": 5
}
